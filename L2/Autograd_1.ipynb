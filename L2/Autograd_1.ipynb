{
  "nbformat": 4,
  "nbformat_minor": 0,
  "metadata": {
    "colab": {
      "name": "Autograd.ipynb",
      "provenance": [],
      "collapsed_sections": []
    },
    "kernelspec": {
      "name": "python3",
      "display_name": "Python 3"
    }
  },
  "cells": [
    {
      "cell_type": "code",
      "metadata": {
        "id": "Wz4ahjOuXnhh",
        "colab": {
          "base_uri": "https://localhost:8080/"
        },
        "outputId": "fb044fd9-a595-4a1b-cc6c-d4cbe1bb45b9"
      },
      "source": [
        "!pip install torchviz #QQQ"
      ],
      "execution_count": 1,
      "outputs": [
        {
          "output_type": "stream",
          "text": [
            "Collecting torchviz\n",
            "  Downloading https://files.pythonhosted.org/packages/79/e7/643808913211d6c1fc96a3a4333bf4c9276858fab00bcafaf98ea58a97be/torchviz-0.0.2.tar.gz\n",
            "Requirement already satisfied: torch in /usr/local/lib/python3.7/dist-packages (from torchviz) (1.9.0+cu102)\n",
            "Requirement already satisfied: graphviz in /usr/local/lib/python3.7/dist-packages (from torchviz) (0.10.1)\n",
            "Requirement already satisfied: typing-extensions in /usr/local/lib/python3.7/dist-packages (from torch->torchviz) (3.7.4.3)\n",
            "Building wheels for collected packages: torchviz\n",
            "  Building wheel for torchviz (setup.py) ... \u001b[?25l\u001b[?25hdone\n",
            "  Created wheel for torchviz: filename=torchviz-0.0.2-cp37-none-any.whl size=4152 sha256=634be38a3c7376a7034e8ba0883b12c77d5ccc577109e6fbc799ff6f986ba1f0\n",
            "  Stored in directory: /root/.cache/pip/wheels/01/26/58/026ffd533dbe8b3972eb423da9c7949beca68d1c98ed9e8624\n",
            "Successfully built torchviz\n",
            "Installing collected packages: torchviz\n",
            "Successfully installed torchviz-0.0.2\n"
          ],
          "name": "stdout"
        }
      ]
    },
    {
      "cell_type": "code",
      "metadata": {
        "id": "7xey9UWlKypa"
      },
      "source": [
        "import torch\n",
        "from torchviz import make_dot"
      ],
      "execution_count": 2,
      "outputs": []
    },
    {
      "cell_type": "code",
      "metadata": {
        "colab": {
          "base_uri": "https://localhost:8080/"
        },
        "id": "t4IBok62a4LW",
        "outputId": "cb7c5766-1a22-4876-c2d9-8c089094c605"
      },
      "source": [
        "a = torch.tensor([2., 3.])\n",
        "a.requires_grad"
      ],
      "execution_count": 3,
      "outputs": [
        {
          "output_type": "execute_result",
          "data": {
            "text/plain": [
              "False"
            ]
          },
          "metadata": {
            "tags": []
          },
          "execution_count": 3
        }
      ]
    },
    {
      "cell_type": "code",
      "metadata": {
        "id": "Fi6qN7IUMcqF"
      },
      "source": [
        "# Gán thuộc tính requires_grad = True\n",
        "a = torch.tensor([2., 3.], requires_grad=True)\n",
        "a.requires_grad # True\n",
        "\n",
        "# Hoặc\n",
        "a = torch.tensor([2., 3.])\n",
        "a.requires_grad = True"
      ],
      "execution_count": 6,
      "outputs": []
    },
    {
      "cell_type": "code",
      "metadata": {
        "id": "mJp0k3VbMnxN",
        "colab": {
          "base_uri": "https://localhost:8080/"
        },
        "outputId": "e873d1cf-3608-4e2c-a31b-4fead37183f0"
      },
      "source": [
        "a = torch.tensor([2., 3.], requires_grad=True)\n",
        "a.requires_grad # True\n",
        "b = a**2\n",
        "c = 2*b\n",
        "print(b.requires_grad) # True\n",
        "print(c.requires_grad) # True"
      ],
      "execution_count": 7,
      "outputs": [
        {
          "output_type": "stream",
          "text": [
            "True\n",
            "True\n"
          ],
          "name": "stdout"
        }
      ]
    },
    {
      "cell_type": "code",
      "metadata": {
        "colab": {
          "base_uri": "https://localhost:8080/"
        },
        "id": "FNJogHyfMrW5",
        "outputId": "d1b216da-7733-4789-c941-21b5d5ec8074"
      },
      "source": [
        "a = torch.tensor([2., 3.], requires_grad=True)\n",
        "b = torch.tensor([1., 1.])\n",
        "\n",
        "print(a.requires_grad) # True\n",
        "print(b.requires_grad) # False\n",
        "\n",
        "c = a + b # [3., 4.]\n",
        "print(c.requires_grad) # True"
      ],
      "execution_count": 8,
      "outputs": [
        {
          "output_type": "stream",
          "text": [
            "True\n",
            "False\n",
            "True\n"
          ],
          "name": "stdout"
        }
      ]
    },
    {
      "cell_type": "code",
      "metadata": {
        "id": "c59CtQTaNHnB"
      },
      "source": [
        "x = torch.tensor([3])\n",
        "y = torch.tensor([10])\n",
        "a = torch.tensor([1.], requires_grad=True)\n",
        "b = torch.tensor([2.], requires_grad=True)\n",
        "\n",
        "y_hat = a*x + b\n",
        "z = y_hat - y\n",
        "L = z**2"
      ],
      "execution_count": 9,
      "outputs": []
    },
    {
      "cell_type": "code",
      "metadata": {
        "colab": {
          "base_uri": "https://localhost:8080/"
        },
        "id": "qbVC2-DONiZi",
        "outputId": "f724bc62-acdc-4346-d128-96f902e9dc88"
      },
      "source": [
        "print(x.is_leaf) # True\n",
        "print(a.is_leaf) # True\n",
        "print(y_hat.is_leaf) # False\n",
        "print(L.is_leaf) # False"
      ],
      "execution_count": 10,
      "outputs": [
        {
          "output_type": "stream",
          "text": [
            "True\n",
            "True\n",
            "False\n",
            "False\n"
          ],
          "name": "stdout"
        }
      ]
    },
    {
      "cell_type": "code",
      "metadata": {
        "colab": {
          "base_uri": "https://localhost:8080/"
        },
        "id": "NM9AHO67NnBQ",
        "outputId": "c297b4fb-176c-4d54-d9a4-4283ae114028"
      },
      "source": [
        "L.backward()\n",
        "\n",
        "print(a.grad) # -30\n",
        "print(b.grad) # -10"
      ],
      "execution_count": 11,
      "outputs": [
        {
          "output_type": "stream",
          "text": [
            "tensor([-30.])\n",
            "tensor([-10.])\n"
          ],
          "name": "stdout"
        }
      ]
    },
    {
      "cell_type": "code",
      "metadata": {
        "colab": {
          "base_uri": "https://localhost:8080/"
        },
        "id": "2zc8IgeWW-Tz",
        "outputId": "a980d823-703d-488e-c66e-2bdca62bd061"
      },
      "source": [
        "print(x.grad_fn) # None\n",
        "print(a.grad_fn) # None\n",
        "print(y_hat.grad_fn) # AddBackward0 \n",
        "print(z.grad_fn) # SubBackward0 \n",
        "print(L.grad_fn) # PowBackward0"
      ],
      "execution_count": 12,
      "outputs": [
        {
          "output_type": "stream",
          "text": [
            "None\n",
            "None\n",
            "<AddBackward0 object at 0x7f09ae4ee290>\n",
            "<SubBackward0 object at 0x7f09ae4ee6d0>\n",
            "<PowBackward0 object at 0x7f09ae4ee290>\n"
          ],
          "name": "stdout"
        }
      ]
    },
    {
      "cell_type": "code",
      "metadata": {
        "colab": {
          "base_uri": "https://localhost:8080/",
          "height": 545
        },
        "id": "oM8Uz2mzmj2z",
        "outputId": "7d74fa56-e42f-40c0-ba82-798e55a40fc5"
      },
      "source": [
        "make_dot(L)"
      ],
      "execution_count": 13,
      "outputs": [
        {
          "output_type": "execute_result",
          "data": {
            "text/plain": [
              "<graphviz.dot.Digraph at 0x7f09ae4e7c50>"
            ],
            "image/svg+xml": "<?xml version=\"1.0\" encoding=\"UTF-8\" standalone=\"no\"?>\n<!DOCTYPE svg PUBLIC \"-//W3C//DTD SVG 1.1//EN\"\n \"http://www.w3.org/Graphics/SVG/1.1/DTD/svg11.dtd\">\n<!-- Generated by graphviz version 2.40.1 (20161225.0304)\n -->\n<!-- Title: %3 Pages: 1 -->\n<svg width=\"222pt\" height=\"393pt\"\n viewBox=\"0.00 0.00 222.00 393.00\" xmlns=\"http://www.w3.org/2000/svg\" xmlns:xlink=\"http://www.w3.org/1999/xlink\">\n<g id=\"graph0\" class=\"graph\" transform=\"scale(1 1) rotate(0) translate(4 389)\">\n<title>%3</title>\n<polygon fill=\"#ffffff\" stroke=\"transparent\" points=\"-4,4 -4,-389 218,-389 218,4 -4,4\"/>\n<!-- 139679555862688 -->\n<g id=\"node1\" class=\"node\">\n<title>139679555862688</title>\n<polygon fill=\"#caff70\" stroke=\"#000000\" points=\"133.5,-31 79.5,-31 79.5,0 133.5,0 133.5,-31\"/>\n<text text-anchor=\"middle\" x=\"106.5\" y=\"-7\" font-family=\"monospace\" font-size=\"10.00\" fill=\"#000000\"> (1)</text>\n</g>\n<!-- 139679555810448 -->\n<g id=\"node2\" class=\"node\">\n<title>139679555810448</title>\n<polygon fill=\"#d3d3d3\" stroke=\"#000000\" points=\"151,-86 62,-86 62,-67 151,-67 151,-86\"/>\n<text text-anchor=\"middle\" x=\"106.5\" y=\"-74\" font-family=\"monospace\" font-size=\"10.00\" fill=\"#000000\">PowBackward0</text>\n</g>\n<!-- 139679555810448&#45;&gt;139679555862688 -->\n<g id=\"edge8\" class=\"edge\">\n<title>139679555810448&#45;&gt;139679555862688</title>\n<path fill=\"none\" stroke=\"#000000\" d=\"M106.5,-66.9688C106.5,-60.1289 106.5,-50.5621 106.5,-41.5298\"/>\n<polygon fill=\"#000000\" stroke=\"#000000\" points=\"110.0001,-41.3678 106.5,-31.3678 103.0001,-41.3678 110.0001,-41.3678\"/>\n</g>\n<!-- 139679555809936 -->\n<g id=\"node3\" class=\"node\">\n<title>139679555809936</title>\n<polygon fill=\"#d3d3d3\" stroke=\"#000000\" points=\"151,-141 62,-141 62,-122 151,-122 151,-141\"/>\n<text text-anchor=\"middle\" x=\"106.5\" y=\"-129\" font-family=\"monospace\" font-size=\"10.00\" fill=\"#000000\">SubBackward0</text>\n</g>\n<!-- 139679555809936&#45;&gt;139679555810448 -->\n<g id=\"edge1\" class=\"edge\">\n<title>139679555809936&#45;&gt;139679555810448</title>\n<path fill=\"none\" stroke=\"#000000\" d=\"M106.5,-121.9197C106.5,-114.9083 106.5,-105.1442 106.5,-96.4652\"/>\n<polygon fill=\"#000000\" stroke=\"#000000\" points=\"110.0001,-96.3408 106.5,-86.3408 103.0001,-96.3409 110.0001,-96.3408\"/>\n</g>\n<!-- 139679555811088 -->\n<g id=\"node4\" class=\"node\">\n<title>139679555811088</title>\n<polygon fill=\"#d3d3d3\" stroke=\"#000000\" points=\"151,-196 62,-196 62,-177 151,-177 151,-196\"/>\n<text text-anchor=\"middle\" x=\"106.5\" y=\"-184\" font-family=\"monospace\" font-size=\"10.00\" fill=\"#000000\">AddBackward0</text>\n</g>\n<!-- 139679555811088&#45;&gt;139679555809936 -->\n<g id=\"edge2\" class=\"edge\">\n<title>139679555811088&#45;&gt;139679555809936</title>\n<path fill=\"none\" stroke=\"#000000\" d=\"M106.5,-176.9197C106.5,-169.9083 106.5,-160.1442 106.5,-151.4652\"/>\n<polygon fill=\"#000000\" stroke=\"#000000\" points=\"110.0001,-151.3408 106.5,-141.3408 103.0001,-151.3409 110.0001,-151.3408\"/>\n</g>\n<!-- 139679555812304 -->\n<g id=\"node5\" class=\"node\">\n<title>139679555812304</title>\n<polygon fill=\"#d3d3d3\" stroke=\"#000000\" points=\"95,-251 6,-251 6,-232 95,-232 95,-251\"/>\n<text text-anchor=\"middle\" x=\"50.5\" y=\"-239\" font-family=\"monospace\" font-size=\"10.00\" fill=\"#000000\">MulBackward0</text>\n</g>\n<!-- 139679555812304&#45;&gt;139679555811088 -->\n<g id=\"edge3\" class=\"edge\">\n<title>139679555812304&#45;&gt;139679555811088</title>\n<path fill=\"none\" stroke=\"#000000\" d=\"M60.2545,-231.9197C68.1865,-224.1293 79.5788,-212.9405 89.0712,-203.6176\"/>\n<polygon fill=\"#000000\" stroke=\"#000000\" points=\"91.7982,-205.845 96.4802,-196.3408 86.8932,-200.8509 91.7982,-205.845\"/>\n</g>\n<!-- 139679556234064 -->\n<g id=\"node6\" class=\"node\">\n<title>139679556234064</title>\n<polygon fill=\"#d3d3d3\" stroke=\"#000000\" points=\"101,-312 0,-312 0,-293 101,-293 101,-312\"/>\n<text text-anchor=\"middle\" x=\"50.5\" y=\"-300\" font-family=\"monospace\" font-size=\"10.00\" fill=\"#000000\">AccumulateGrad</text>\n</g>\n<!-- 139679556234064&#45;&gt;139679555812304 -->\n<g id=\"edge4\" class=\"edge\">\n<title>139679556234064&#45;&gt;139679555812304</title>\n<path fill=\"none\" stroke=\"#000000\" d=\"M50.5,-292.9688C50.5,-284.5131 50.5,-271.8901 50.5,-261.2615\"/>\n<polygon fill=\"#000000\" stroke=\"#000000\" points=\"54.0001,-261.1656 50.5,-251.1656 47.0001,-261.1657 54.0001,-261.1656\"/>\n</g>\n<!-- 139679555863888 -->\n<g id=\"node7\" class=\"node\">\n<title>139679555863888</title>\n<polygon fill=\"#add8e6\" stroke=\"#000000\" points=\"77.5,-385 23.5,-385 23.5,-354 77.5,-354 77.5,-385\"/>\n<text text-anchor=\"middle\" x=\"50.5\" y=\"-361\" font-family=\"monospace\" font-size=\"10.00\" fill=\"#000000\"> (1)</text>\n</g>\n<!-- 139679555863888&#45;&gt;139679556234064 -->\n<g id=\"edge5\" class=\"edge\">\n<title>139679555863888&#45;&gt;139679556234064</title>\n<path fill=\"none\" stroke=\"#000000\" d=\"M50.5,-353.9604C50.5,-344.6356 50.5,-332.6748 50.5,-322.6317\"/>\n<polygon fill=\"#000000\" stroke=\"#000000\" points=\"54.0001,-322.35 50.5,-312.3501 47.0001,-322.3501 54.0001,-322.35\"/>\n</g>\n<!-- 139679555810832 -->\n<g id=\"node8\" class=\"node\">\n<title>139679555810832</title>\n<polygon fill=\"#d3d3d3\" stroke=\"#000000\" points=\"214,-251 113,-251 113,-232 214,-232 214,-251\"/>\n<text text-anchor=\"middle\" x=\"163.5\" y=\"-239\" font-family=\"monospace\" font-size=\"10.00\" fill=\"#000000\">AccumulateGrad</text>\n</g>\n<!-- 139679555810832&#45;&gt;139679555811088 -->\n<g id=\"edge6\" class=\"edge\">\n<title>139679555810832&#45;&gt;139679555811088</title>\n<path fill=\"none\" stroke=\"#000000\" d=\"M153.5714,-231.9197C145.4169,-224.0514 133.6697,-212.7164 123.9508,-203.3385\"/>\n<polygon fill=\"#000000\" stroke=\"#000000\" points=\"126.3252,-200.7659 116.6987,-196.3408 121.4646,-205.8032 126.3252,-200.7659\"/>\n</g>\n<!-- 139679555863968 -->\n<g id=\"node9\" class=\"node\">\n<title>139679555863968</title>\n<polygon fill=\"#add8e6\" stroke=\"#000000\" points=\"190.5,-318 136.5,-318 136.5,-287 190.5,-287 190.5,-318\"/>\n<text text-anchor=\"middle\" x=\"163.5\" y=\"-294\" font-family=\"monospace\" font-size=\"10.00\" fill=\"#000000\"> (1)</text>\n</g>\n<!-- 139679555863968&#45;&gt;139679555810832 -->\n<g id=\"edge7\" class=\"edge\">\n<title>139679555863968&#45;&gt;139679555810832</title>\n<path fill=\"none\" stroke=\"#000000\" d=\"M163.5,-286.791C163.5,-279.0249 163.5,-269.5706 163.5,-261.3129\"/>\n<polygon fill=\"#000000\" stroke=\"#000000\" points=\"167.0001,-261.0647 163.5,-251.0648 160.0001,-261.0648 167.0001,-261.0647\"/>\n</g>\n</g>\n</svg>\n"
          },
          "metadata": {
            "tags": []
          },
          "execution_count": 13
        }
      ]
    },
    {
      "cell_type": "code",
      "metadata": {
        "id": "hqzIdRSyPexO"
      },
      "source": [
        "class MySquare(torch.autograd.Function):\n",
        "\n",
        "  @staticmethod\n",
        "  def forward(ctx, input):\n",
        "    ctx.save_for_backward(input)\n",
        "    return input**2\n",
        "\n",
        "  @staticmethod\n",
        "  def backward(ctx, grad_output):\n",
        "    input, = ctx.saved_tensors\n",
        "    return 2*input*grad_output"
      ],
      "execution_count": 14,
      "outputs": []
    },
    {
      "cell_type": "code",
      "metadata": {
        "id": "k2Rynm4wAvAn"
      },
      "source": [
        "my_square = MySquare.apply"
      ],
      "execution_count": 15,
      "outputs": []
    },
    {
      "cell_type": "code",
      "metadata": {
        "id": "ydSN33arBHWr"
      },
      "source": [
        "x = torch.tensor([3])\n",
        "y = torch.tensor([10])\n",
        "a = torch.tensor([1.], requires_grad=True)\n",
        "b = torch.tensor([2.], requires_grad=True)\n",
        "\n",
        "y_hat = a*x + b\n",
        "z = y_hat - y\n",
        "L = my_square(z)"
      ],
      "execution_count": 16,
      "outputs": []
    },
    {
      "cell_type": "code",
      "metadata": {
        "id": "kUWPGAuHBOPx"
      },
      "source": [
        "L.backward(retain_graph=True)"
      ],
      "execution_count": 17,
      "outputs": []
    },
    {
      "cell_type": "code",
      "metadata": {
        "colab": {
          "base_uri": "https://localhost:8080/"
        },
        "id": "K3ziBzi5BQFq",
        "outputId": "95d3cf19-9a80-42da-c626-64791d40372d"
      },
      "source": [
        "print(a.grad, b.grad)"
      ],
      "execution_count": 19,
      "outputs": [
        {
          "output_type": "stream",
          "text": [
            "tensor([-30.]) tensor([-10.])\n"
          ],
          "name": "stdout"
        }
      ]
    },
    {
      "cell_type": "code",
      "metadata": {
        "colab": {
          "base_uri": "https://localhost:8080/",
          "height": 561
        },
        "id": "Fmv4fyPQBTo9",
        "outputId": "5c857a3d-eeeb-450c-a4de-b2b9c0e4e12a"
      },
      "source": [
        "make_dot(L)"
      ],
      "execution_count": 20,
      "outputs": [
        {
          "output_type": "execute_result",
          "data": {
            "text/plain": [
              "<graphviz.dot.Digraph at 0x7f09ae4e7cd0>"
            ],
            "image/svg+xml": "<?xml version=\"1.0\" encoding=\"UTF-8\" standalone=\"no\"?>\n<!DOCTYPE svg PUBLIC \"-//W3C//DTD SVG 1.1//EN\"\n \"http://www.w3.org/Graphics/SVG/1.1/DTD/svg11.dtd\">\n<!-- Generated by graphviz version 2.40.1 (20161225.0304)\n -->\n<!-- Title: %3 Pages: 1 -->\n<svg width=\"232pt\" height=\"405pt\"\n viewBox=\"0.00 0.00 231.50 405.00\" xmlns=\"http://www.w3.org/2000/svg\" xmlns:xlink=\"http://www.w3.org/1999/xlink\">\n<g id=\"graph0\" class=\"graph\" transform=\"scale(1 1) rotate(0) translate(4 401)\">\n<title>%3</title>\n<polygon fill=\"#ffffff\" stroke=\"transparent\" points=\"-4,4 -4,-401 227.5,-401 227.5,4 -4,4\"/>\n<!-- 139679555814896 -->\n<g id=\"node1\" class=\"node\">\n<title>139679555814896</title>\n<polygon fill=\"#caff70\" stroke=\"#000000\" points=\"178.5,-31 124.5,-31 124.5,0 178.5,0 178.5,-31\"/>\n<text text-anchor=\"middle\" x=\"151.5\" y=\"-7\" font-family=\"monospace\" font-size=\"10.00\" fill=\"#000000\"> (1)</text>\n</g>\n<!-- 139679556160880 -->\n<g id=\"node2\" class=\"node\">\n<title>139679556160880</title>\n<polygon fill=\"#d3d3d3\" stroke=\"#000000\" points=\"208,-86 95,-86 95,-67 208,-67 208,-86\"/>\n<text text-anchor=\"middle\" x=\"151.5\" y=\"-74\" font-family=\"monospace\" font-size=\"10.00\" fill=\"#000000\">MySquareBackward</text>\n</g>\n<!-- 139679556160880&#45;&gt;139679555814896 -->\n<g id=\"edge9\" class=\"edge\">\n<title>139679556160880&#45;&gt;139679555814896</title>\n<path fill=\"none\" stroke=\"#000000\" d=\"M151.5,-66.9688C151.5,-60.1289 151.5,-50.5621 151.5,-41.5298\"/>\n<polygon fill=\"#000000\" stroke=\"#000000\" points=\"155.0001,-41.3678 151.5,-31.3678 148.0001,-41.3678 155.0001,-41.3678\"/>\n</g>\n<!-- 139679555809680 -->\n<g id=\"node3\" class=\"node\">\n<title>139679555809680</title>\n<polygon fill=\"#d3d3d3\" stroke=\"#000000\" points=\"151,-147 62,-147 62,-128 151,-128 151,-147\"/>\n<text text-anchor=\"middle\" x=\"106.5\" y=\"-135\" font-family=\"monospace\" font-size=\"10.00\" fill=\"#000000\">SubBackward0</text>\n</g>\n<!-- 139679555809680&#45;&gt;139679556160880 -->\n<g id=\"edge1\" class=\"edge\">\n<title>139679555809680&#45;&gt;139679556160880</title>\n<path fill=\"none\" stroke=\"#000000\" d=\"M113.5313,-127.9688C120.163,-118.9791 130.2696,-105.279 138.3887,-94.2731\"/>\n<polygon fill=\"#000000\" stroke=\"#000000\" points=\"141.2496,-96.2907 144.3696,-86.1656 135.6165,-92.1351 141.2496,-96.2907\"/>\n</g>\n<!-- 139679555813072 -->\n<g id=\"node4\" class=\"node\">\n<title>139679555813072</title>\n<polygon fill=\"#d3d3d3\" stroke=\"#000000\" points=\"151,-208 62,-208 62,-189 151,-189 151,-208\"/>\n<text text-anchor=\"middle\" x=\"106.5\" y=\"-196\" font-family=\"monospace\" font-size=\"10.00\" fill=\"#000000\">AddBackward0</text>\n</g>\n<!-- 139679555813072&#45;&gt;139679555809680 -->\n<g id=\"edge2\" class=\"edge\">\n<title>139679555813072&#45;&gt;139679555809680</title>\n<path fill=\"none\" stroke=\"#000000\" d=\"M106.5,-188.9688C106.5,-180.5131 106.5,-167.8901 106.5,-157.2615\"/>\n<polygon fill=\"#000000\" stroke=\"#000000\" points=\"110.0001,-157.1656 106.5,-147.1656 103.0001,-157.1657 110.0001,-157.1656\"/>\n</g>\n<!-- 139679555812752 -->\n<g id=\"node5\" class=\"node\">\n<title>139679555812752</title>\n<polygon fill=\"#d3d3d3\" stroke=\"#000000\" points=\"95,-263 6,-263 6,-244 95,-244 95,-263\"/>\n<text text-anchor=\"middle\" x=\"50.5\" y=\"-251\" font-family=\"monospace\" font-size=\"10.00\" fill=\"#000000\">MulBackward0</text>\n</g>\n<!-- 139679555812752&#45;&gt;139679555813072 -->\n<g id=\"edge3\" class=\"edge\">\n<title>139679555812752&#45;&gt;139679555813072</title>\n<path fill=\"none\" stroke=\"#000000\" d=\"M60.2545,-243.9197C68.1865,-236.1293 79.5788,-224.9405 89.0712,-215.6176\"/>\n<polygon fill=\"#000000\" stroke=\"#000000\" points=\"91.7982,-217.845 96.4802,-208.3408 86.8932,-212.8509 91.7982,-217.845\"/>\n</g>\n<!-- 139679555811920 -->\n<g id=\"node6\" class=\"node\">\n<title>139679555811920</title>\n<polygon fill=\"#d3d3d3\" stroke=\"#000000\" points=\"101,-324 0,-324 0,-305 101,-305 101,-324\"/>\n<text text-anchor=\"middle\" x=\"50.5\" y=\"-312\" font-family=\"monospace\" font-size=\"10.00\" fill=\"#000000\">AccumulateGrad</text>\n</g>\n<!-- 139679555811920&#45;&gt;139679555812752 -->\n<g id=\"edge4\" class=\"edge\">\n<title>139679555811920&#45;&gt;139679555812752</title>\n<path fill=\"none\" stroke=\"#000000\" d=\"M50.5,-304.9688C50.5,-296.5131 50.5,-283.8901 50.5,-273.2615\"/>\n<polygon fill=\"#000000\" stroke=\"#000000\" points=\"54.0001,-273.1656 50.5,-263.1656 47.0001,-273.1657 54.0001,-273.1656\"/>\n</g>\n<!-- 139679555927328 -->\n<g id=\"node7\" class=\"node\">\n<title>139679555927328</title>\n<polygon fill=\"#add8e6\" stroke=\"#000000\" points=\"77.5,-397 23.5,-397 23.5,-366 77.5,-366 77.5,-397\"/>\n<text text-anchor=\"middle\" x=\"50.5\" y=\"-373\" font-family=\"monospace\" font-size=\"10.00\" fill=\"#000000\"> (1)</text>\n</g>\n<!-- 139679555927328&#45;&gt;139679555811920 -->\n<g id=\"edge5\" class=\"edge\">\n<title>139679555927328&#45;&gt;139679555811920</title>\n<path fill=\"none\" stroke=\"#000000\" d=\"M50.5,-365.9604C50.5,-356.6356 50.5,-344.6748 50.5,-334.6317\"/>\n<polygon fill=\"#000000\" stroke=\"#000000\" points=\"54.0001,-334.35 50.5,-324.3501 47.0001,-334.3501 54.0001,-334.35\"/>\n</g>\n<!-- 139679555810960 -->\n<g id=\"node8\" class=\"node\">\n<title>139679555810960</title>\n<polygon fill=\"#d3d3d3\" stroke=\"#000000\" points=\"214,-263 113,-263 113,-244 214,-244 214,-263\"/>\n<text text-anchor=\"middle\" x=\"163.5\" y=\"-251\" font-family=\"monospace\" font-size=\"10.00\" fill=\"#000000\">AccumulateGrad</text>\n</g>\n<!-- 139679555810960&#45;&gt;139679555813072 -->\n<g id=\"edge6\" class=\"edge\">\n<title>139679555810960&#45;&gt;139679555813072</title>\n<path fill=\"none\" stroke=\"#000000\" d=\"M153.5714,-243.9197C145.4169,-236.0514 133.6697,-224.7164 123.9508,-215.3385\"/>\n<polygon fill=\"#000000\" stroke=\"#000000\" points=\"126.3252,-212.7659 116.6987,-208.3408 121.4646,-217.8032 126.3252,-212.7659\"/>\n</g>\n<!-- 139679555926128 -->\n<g id=\"node9\" class=\"node\">\n<title>139679555926128</title>\n<polygon fill=\"#add8e6\" stroke=\"#000000\" points=\"190.5,-330 136.5,-330 136.5,-299 190.5,-299 190.5,-330\"/>\n<text text-anchor=\"middle\" x=\"163.5\" y=\"-306\" font-family=\"monospace\" font-size=\"10.00\" fill=\"#000000\"> (1)</text>\n</g>\n<!-- 139679555926128&#45;&gt;139679555810960 -->\n<g id=\"edge7\" class=\"edge\">\n<title>139679555926128&#45;&gt;139679555810960</title>\n<path fill=\"none\" stroke=\"#000000\" d=\"M163.5,-298.791C163.5,-291.0249 163.5,-281.5706 163.5,-273.3129\"/>\n<polygon fill=\"#000000\" stroke=\"#000000\" points=\"167.0001,-273.0647 163.5,-263.0648 160.0001,-273.0648 167.0001,-273.0647\"/>\n</g>\n<!-- 139679555902912 -->\n<g id=\"node10\" class=\"node\">\n<title>139679555902912</title>\n<polygon fill=\"#ffa500\" stroke=\"#000000\" points=\"223.5,-153 169.5,-153 169.5,-122 223.5,-122 223.5,-153\"/>\n<text text-anchor=\"middle\" x=\"196.5\" y=\"-129\" font-family=\"monospace\" font-size=\"10.00\" fill=\"#000000\"> (1)</text>\n</g>\n<!-- 139679555902912&#45;&gt;139679556160880 -->\n<g id=\"edge8\" class=\"edge\">\n<title>139679555902912&#45;&gt;139679556160880</title>\n<path fill=\"none\" stroke=\"#000000\" d=\"M184.9114,-121.791C178.7266,-113.4071 171.0904,-103.0559 164.6801,-94.3664\"/>\n<polygon fill=\"#000000\" stroke=\"#000000\" points=\"167.3091,-92.0343 158.556,-86.0648 161.676,-96.1898 167.3091,-92.0343\"/>\n</g>\n</g>\n</svg>\n"
          },
          "metadata": {
            "tags": []
          },
          "execution_count": 20
        }
      ]
    },
    {
      "cell_type": "code",
      "metadata": {
        "id": "8JwzISnnOZFT",
        "outputId": "e7a1afe2-7330-44f5-8f1f-1327cd81844b",
        "colab": {
          "base_uri": "https://localhost:8080/"
        }
      },
      "source": [
        "x = torch.tensor([1., 2., 3.], requires_grad=True)\n",
        "y = 2*x + 1\n",
        "z = sum(y)\n",
        "z.backward()\n",
        "\n",
        "print(x.grad)"
      ],
      "execution_count": 22,
      "outputs": [
        {
          "output_type": "stream",
          "text": [
            "tensor([2., 2., 2.])\n"
          ],
          "name": "stdout"
        }
      ]
    },
    {
      "cell_type": "code",
      "metadata": {
        "id": "r-05UzdbP4OA",
        "outputId": "890f7088-5ae7-49bc-de08-07ae6be60e08",
        "colab": {
          "base_uri": "https://localhost:8080/"
        }
      },
      "source": [
        "x = torch.tensor([1., 2., 3.], requires_grad=True)\n",
        "y = 2*x + 1\n",
        "y.backward(gradient=torch.tensor([1, 2, 1]))\n",
        "\n",
        "print(x.grad)"
      ],
      "execution_count": 23,
      "outputs": [
        {
          "output_type": "stream",
          "text": [
            "tensor([2., 4., 2.])\n"
          ],
          "name": "stdout"
        }
      ]
    },
    {
      "cell_type": "code",
      "metadata": {
        "colab": {
          "base_uri": "https://localhost:8080/"
        },
        "id": "PjQzGMgT2HWs",
        "outputId": "a07f0e68-3f91-491b-9b5a-aba47a5a4cff"
      },
      "source": [
        "x = torch.tensor([1., 2., 3.], requires_grad=True)\n",
        "y = 2*x + 1\n",
        "z = sum(y)\n",
        "z.backward()\n",
        "print(x.grad)\n"
      ],
      "execution_count": 25,
      "outputs": [
        {
          "output_type": "stream",
          "text": [
            "tensor([2., 2., 2.])\n"
          ],
          "name": "stdout"
        }
      ]
    },
    {
      "cell_type": "code",
      "metadata": {
        "id": "g3sX79ibp8Uc",
        "outputId": "5dc335f3-6a91-4b5e-e2bb-4682e27b991a",
        "colab": {
          "base_uri": "https://localhost:8080/"
        }
      },
      "source": [
        "x = torch.tensor([1., 2., 3.], requires_grad=True)\n",
        "y = 2*x + 1\n",
        "z = sum(y)\n",
        "z.backward(retain_graph=True)\n",
        "print(x.grad) # 2, 2, 2\n",
        "z.backward(retain_graph=True)\n",
        "print(x.grad) # 4, 4, 4"
      ],
      "execution_count": 26,
      "outputs": [
        {
          "output_type": "stream",
          "text": [
            "tensor([2., 2., 2.])\n",
            "tensor([4., 4., 4.])\n"
          ],
          "name": "stdout"
        }
      ]
    },
    {
      "cell_type": "code",
      "metadata": {
        "colab": {
          "base_uri": "https://localhost:8080/",
          "height": 545
        },
        "id": "JusnGZ4JsKCq",
        "outputId": "ab0f63d4-cb4a-427d-99c6-82910c3fb762"
      },
      "source": [
        "x = torch.tensor([3])\n",
        "y = torch.tensor([10])\n",
        "a = torch.tensor([1.], requires_grad=True)\n",
        "b = torch.tensor([2.], requires_grad=True)\n",
        "c = a*x\n",
        "y_hat = c + b\n",
        "z = y_hat - y\n",
        "L = z**2\n",
        "make_dot(L)"
      ],
      "execution_count": 27,
      "outputs": [
        {
          "output_type": "execute_result",
          "data": {
            "text/plain": [
              "<graphviz.dot.Digraph at 0x7f09ae4d7750>"
            ],
            "image/svg+xml": "<?xml version=\"1.0\" encoding=\"UTF-8\" standalone=\"no\"?>\n<!DOCTYPE svg PUBLIC \"-//W3C//DTD SVG 1.1//EN\"\n \"http://www.w3.org/Graphics/SVG/1.1/DTD/svg11.dtd\">\n<!-- Generated by graphviz version 2.40.1 (20161225.0304)\n -->\n<!-- Title: %3 Pages: 1 -->\n<svg width=\"222pt\" height=\"393pt\"\n viewBox=\"0.00 0.00 222.00 393.00\" xmlns=\"http://www.w3.org/2000/svg\" xmlns:xlink=\"http://www.w3.org/1999/xlink\">\n<g id=\"graph0\" class=\"graph\" transform=\"scale(1 1) rotate(0) translate(4 389)\">\n<title>%3</title>\n<polygon fill=\"#ffffff\" stroke=\"transparent\" points=\"-4,4 -4,-389 218,-389 218,4 -4,4\"/>\n<!-- 139679555318720 -->\n<g id=\"node1\" class=\"node\">\n<title>139679555318720</title>\n<polygon fill=\"#caff70\" stroke=\"#000000\" points=\"133.5,-31 79.5,-31 79.5,0 133.5,0 133.5,-31\"/>\n<text text-anchor=\"middle\" x=\"106.5\" y=\"-7\" font-family=\"monospace\" font-size=\"10.00\" fill=\"#000000\"> (1)</text>\n</g>\n<!-- 139679556234128 -->\n<g id=\"node2\" class=\"node\">\n<title>139679556234128</title>\n<polygon fill=\"#d3d3d3\" stroke=\"#000000\" points=\"151,-86 62,-86 62,-67 151,-67 151,-86\"/>\n<text text-anchor=\"middle\" x=\"106.5\" y=\"-74\" font-family=\"monospace\" font-size=\"10.00\" fill=\"#000000\">PowBackward0</text>\n</g>\n<!-- 139679556234128&#45;&gt;139679555318720 -->\n<g id=\"edge8\" class=\"edge\">\n<title>139679556234128&#45;&gt;139679555318720</title>\n<path fill=\"none\" stroke=\"#000000\" d=\"M106.5,-66.9688C106.5,-60.1289 106.5,-50.5621 106.5,-41.5298\"/>\n<polygon fill=\"#000000\" stroke=\"#000000\" points=\"110.0001,-41.3678 106.5,-31.3678 103.0001,-41.3678 110.0001,-41.3678\"/>\n</g>\n<!-- 139679562013328 -->\n<g id=\"node3\" class=\"node\">\n<title>139679562013328</title>\n<polygon fill=\"#d3d3d3\" stroke=\"#000000\" points=\"151,-141 62,-141 62,-122 151,-122 151,-141\"/>\n<text text-anchor=\"middle\" x=\"106.5\" y=\"-129\" font-family=\"monospace\" font-size=\"10.00\" fill=\"#000000\">SubBackward0</text>\n</g>\n<!-- 139679562013328&#45;&gt;139679556234128 -->\n<g id=\"edge1\" class=\"edge\">\n<title>139679562013328&#45;&gt;139679556234128</title>\n<path fill=\"none\" stroke=\"#000000\" d=\"M106.5,-121.9197C106.5,-114.9083 106.5,-105.1442 106.5,-96.4652\"/>\n<polygon fill=\"#000000\" stroke=\"#000000\" points=\"110.0001,-96.3408 106.5,-86.3408 103.0001,-96.3409 110.0001,-96.3408\"/>\n</g>\n<!-- 139679556234832 -->\n<g id=\"node4\" class=\"node\">\n<title>139679556234832</title>\n<polygon fill=\"#d3d3d3\" stroke=\"#000000\" points=\"151,-196 62,-196 62,-177 151,-177 151,-196\"/>\n<text text-anchor=\"middle\" x=\"106.5\" y=\"-184\" font-family=\"monospace\" font-size=\"10.00\" fill=\"#000000\">AddBackward0</text>\n</g>\n<!-- 139679556234832&#45;&gt;139679562013328 -->\n<g id=\"edge2\" class=\"edge\">\n<title>139679556234832&#45;&gt;139679562013328</title>\n<path fill=\"none\" stroke=\"#000000\" d=\"M106.5,-176.9197C106.5,-169.9083 106.5,-160.1442 106.5,-151.4652\"/>\n<polygon fill=\"#000000\" stroke=\"#000000\" points=\"110.0001,-151.3408 106.5,-141.3408 103.0001,-151.3409 110.0001,-151.3408\"/>\n</g>\n<!-- 139679555812752 -->\n<g id=\"node5\" class=\"node\">\n<title>139679555812752</title>\n<polygon fill=\"#d3d3d3\" stroke=\"#000000\" points=\"95,-251 6,-251 6,-232 95,-232 95,-251\"/>\n<text text-anchor=\"middle\" x=\"50.5\" y=\"-239\" font-family=\"monospace\" font-size=\"10.00\" fill=\"#000000\">MulBackward0</text>\n</g>\n<!-- 139679555812752&#45;&gt;139679556234832 -->\n<g id=\"edge3\" class=\"edge\">\n<title>139679555812752&#45;&gt;139679556234832</title>\n<path fill=\"none\" stroke=\"#000000\" d=\"M60.2545,-231.9197C68.1865,-224.1293 79.5788,-212.9405 89.0712,-203.6176\"/>\n<polygon fill=\"#000000\" stroke=\"#000000\" points=\"91.7982,-205.845 96.4802,-196.3408 86.8932,-200.8509 91.7982,-205.845\"/>\n</g>\n<!-- 139679555809616 -->\n<g id=\"node6\" class=\"node\">\n<title>139679555809616</title>\n<polygon fill=\"#d3d3d3\" stroke=\"#000000\" points=\"101,-312 0,-312 0,-293 101,-293 101,-312\"/>\n<text text-anchor=\"middle\" x=\"50.5\" y=\"-300\" font-family=\"monospace\" font-size=\"10.00\" fill=\"#000000\">AccumulateGrad</text>\n</g>\n<!-- 139679555809616&#45;&gt;139679555812752 -->\n<g id=\"edge4\" class=\"edge\">\n<title>139679555809616&#45;&gt;139679555812752</title>\n<path fill=\"none\" stroke=\"#000000\" d=\"M50.5,-292.9688C50.5,-284.5131 50.5,-271.8901 50.5,-261.2615\"/>\n<polygon fill=\"#000000\" stroke=\"#000000\" points=\"54.0001,-261.1656 50.5,-251.1656 47.0001,-261.1657 54.0001,-261.1656\"/>\n</g>\n<!-- 139679555289968 -->\n<g id=\"node7\" class=\"node\">\n<title>139679555289968</title>\n<polygon fill=\"#add8e6\" stroke=\"#000000\" points=\"77.5,-385 23.5,-385 23.5,-354 77.5,-354 77.5,-385\"/>\n<text text-anchor=\"middle\" x=\"50.5\" y=\"-361\" font-family=\"monospace\" font-size=\"10.00\" fill=\"#000000\"> (1)</text>\n</g>\n<!-- 139679555289968&#45;&gt;139679555809616 -->\n<g id=\"edge5\" class=\"edge\">\n<title>139679555289968&#45;&gt;139679555809616</title>\n<path fill=\"none\" stroke=\"#000000\" d=\"M50.5,-353.9604C50.5,-344.6356 50.5,-332.6748 50.5,-322.6317\"/>\n<polygon fill=\"#000000\" stroke=\"#000000\" points=\"54.0001,-322.35 50.5,-312.3501 47.0001,-322.3501 54.0001,-322.35\"/>\n</g>\n<!-- 139679555810512 -->\n<g id=\"node8\" class=\"node\">\n<title>139679555810512</title>\n<polygon fill=\"#d3d3d3\" stroke=\"#000000\" points=\"214,-251 113,-251 113,-232 214,-232 214,-251\"/>\n<text text-anchor=\"middle\" x=\"163.5\" y=\"-239\" font-family=\"monospace\" font-size=\"10.00\" fill=\"#000000\">AccumulateGrad</text>\n</g>\n<!-- 139679555810512&#45;&gt;139679556234832 -->\n<g id=\"edge6\" class=\"edge\">\n<title>139679555810512&#45;&gt;139679556234832</title>\n<path fill=\"none\" stroke=\"#000000\" d=\"M153.5714,-231.9197C145.4169,-224.0514 133.6697,-212.7164 123.9508,-203.3385\"/>\n<polygon fill=\"#000000\" stroke=\"#000000\" points=\"126.3252,-200.7659 116.6987,-196.3408 121.4646,-205.8032 126.3252,-200.7659\"/>\n</g>\n<!-- 139679555318560 -->\n<g id=\"node9\" class=\"node\">\n<title>139679555318560</title>\n<polygon fill=\"#add8e6\" stroke=\"#000000\" points=\"190.5,-318 136.5,-318 136.5,-287 190.5,-287 190.5,-318\"/>\n<text text-anchor=\"middle\" x=\"163.5\" y=\"-294\" font-family=\"monospace\" font-size=\"10.00\" fill=\"#000000\"> (1)</text>\n</g>\n<!-- 139679555318560&#45;&gt;139679555810512 -->\n<g id=\"edge7\" class=\"edge\">\n<title>139679555318560&#45;&gt;139679555810512</title>\n<path fill=\"none\" stroke=\"#000000\" d=\"M163.5,-286.791C163.5,-279.0249 163.5,-269.5706 163.5,-261.3129\"/>\n<polygon fill=\"#000000\" stroke=\"#000000\" points=\"167.0001,-261.0647 163.5,-251.0648 160.0001,-261.0648 167.0001,-261.0647\"/>\n</g>\n</g>\n</svg>\n"
          },
          "metadata": {
            "tags": []
          },
          "execution_count": 27
        }
      ]
    },
    {
      "cell_type": "code",
      "metadata": {
        "colab": {
          "base_uri": "https://localhost:8080/",
          "height": 456
        },
        "id": "3sjbZkcHzM_H",
        "outputId": "9dc91102-a090-4e7e-e1aa-b2cb48ccb796"
      },
      "source": [
        "x = torch.tensor([3])\n",
        "y = torch.tensor([10])\n",
        "a = torch.tensor([1.], requires_grad=True)\n",
        "a.requires_grad = False\n",
        "b = torch.tensor([2.], requires_grad=True)\n",
        "c = a*x\n",
        "y_hat = c + b\n",
        "z = y_hat - y\n",
        "L = z**2\n",
        "make_dot(L)"
      ],
      "execution_count": 28,
      "outputs": [
        {
          "output_type": "execute_result",
          "data": {
            "text/plain": [
              "<graphviz.dot.Digraph at 0x7f09ae4e01d0>"
            ],
            "image/svg+xml": "<?xml version=\"1.0\" encoding=\"UTF-8\" standalone=\"no\"?>\n<!DOCTYPE svg PUBLIC \"-//W3C//DTD SVG 1.1//EN\"\n \"http://www.w3.org/Graphics/SVG/1.1/DTD/svg11.dtd\">\n<!-- Generated by graphviz version 2.40.1 (20161225.0304)\n -->\n<!-- Title: %3 Pages: 1 -->\n<svg width=\"109pt\" height=\"326pt\"\n viewBox=\"0.00 0.00 109.00 326.00\" xmlns=\"http://www.w3.org/2000/svg\" xmlns:xlink=\"http://www.w3.org/1999/xlink\">\n<g id=\"graph0\" class=\"graph\" transform=\"scale(1 1) rotate(0) translate(4 322)\">\n<title>%3</title>\n<polygon fill=\"#ffffff\" stroke=\"transparent\" points=\"-4,4 -4,-322 105,-322 105,4 -4,4\"/>\n<!-- 139679555836256 -->\n<g id=\"node1\" class=\"node\">\n<title>139679555836256</title>\n<polygon fill=\"#caff70\" stroke=\"#000000\" points=\"77.5,-31 23.5,-31 23.5,0 77.5,0 77.5,-31\"/>\n<text text-anchor=\"middle\" x=\"50.5\" y=\"-7\" font-family=\"monospace\" font-size=\"10.00\" fill=\"#000000\"> (1)</text>\n</g>\n<!-- 139679555810384 -->\n<g id=\"node2\" class=\"node\">\n<title>139679555810384</title>\n<polygon fill=\"#d3d3d3\" stroke=\"#000000\" points=\"95,-86 6,-86 6,-67 95,-67 95,-86\"/>\n<text text-anchor=\"middle\" x=\"50.5\" y=\"-74\" font-family=\"monospace\" font-size=\"10.00\" fill=\"#000000\">PowBackward0</text>\n</g>\n<!-- 139679555810384&#45;&gt;139679555836256 -->\n<g id=\"edge5\" class=\"edge\">\n<title>139679555810384&#45;&gt;139679555836256</title>\n<path fill=\"none\" stroke=\"#000000\" d=\"M50.5,-66.9688C50.5,-60.1289 50.5,-50.5621 50.5,-41.5298\"/>\n<polygon fill=\"#000000\" stroke=\"#000000\" points=\"54.0001,-41.3678 50.5,-31.3678 47.0001,-41.3678 54.0001,-41.3678\"/>\n</g>\n<!-- 139679555784080 -->\n<g id=\"node3\" class=\"node\">\n<title>139679555784080</title>\n<polygon fill=\"#d3d3d3\" stroke=\"#000000\" points=\"95,-141 6,-141 6,-122 95,-122 95,-141\"/>\n<text text-anchor=\"middle\" x=\"50.5\" y=\"-129\" font-family=\"monospace\" font-size=\"10.00\" fill=\"#000000\">SubBackward0</text>\n</g>\n<!-- 139679555784080&#45;&gt;139679555810384 -->\n<g id=\"edge1\" class=\"edge\">\n<title>139679555784080&#45;&gt;139679555810384</title>\n<path fill=\"none\" stroke=\"#000000\" d=\"M50.5,-121.9197C50.5,-114.9083 50.5,-105.1442 50.5,-96.4652\"/>\n<polygon fill=\"#000000\" stroke=\"#000000\" points=\"54.0001,-96.3408 50.5,-86.3408 47.0001,-96.3409 54.0001,-96.3408\"/>\n</g>\n<!-- 139679555810064 -->\n<g id=\"node4\" class=\"node\">\n<title>139679555810064</title>\n<polygon fill=\"#d3d3d3\" stroke=\"#000000\" points=\"95,-196 6,-196 6,-177 95,-177 95,-196\"/>\n<text text-anchor=\"middle\" x=\"50.5\" y=\"-184\" font-family=\"monospace\" font-size=\"10.00\" fill=\"#000000\">AddBackward0</text>\n</g>\n<!-- 139679555810064&#45;&gt;139679555784080 -->\n<g id=\"edge2\" class=\"edge\">\n<title>139679555810064&#45;&gt;139679555784080</title>\n<path fill=\"none\" stroke=\"#000000\" d=\"M50.5,-176.9197C50.5,-169.9083 50.5,-160.1442 50.5,-151.4652\"/>\n<polygon fill=\"#000000\" stroke=\"#000000\" points=\"54.0001,-151.3408 50.5,-141.3408 47.0001,-151.3409 54.0001,-151.3408\"/>\n</g>\n<!-- 139679555970192 -->\n<g id=\"node5\" class=\"node\">\n<title>139679555970192</title>\n<polygon fill=\"#d3d3d3\" stroke=\"#000000\" points=\"101,-251 0,-251 0,-232 101,-232 101,-251\"/>\n<text text-anchor=\"middle\" x=\"50.5\" y=\"-239\" font-family=\"monospace\" font-size=\"10.00\" fill=\"#000000\">AccumulateGrad</text>\n</g>\n<!-- 139679555970192&#45;&gt;139679555810064 -->\n<g id=\"edge3\" class=\"edge\">\n<title>139679555970192&#45;&gt;139679555810064</title>\n<path fill=\"none\" stroke=\"#000000\" d=\"M50.5,-231.9197C50.5,-224.9083 50.5,-215.1442 50.5,-206.4652\"/>\n<polygon fill=\"#000000\" stroke=\"#000000\" points=\"54.0001,-206.3408 50.5,-196.3408 47.0001,-206.3409 54.0001,-206.3408\"/>\n</g>\n<!-- 139681162198944 -->\n<g id=\"node6\" class=\"node\">\n<title>139681162198944</title>\n<polygon fill=\"#add8e6\" stroke=\"#000000\" points=\"77.5,-318 23.5,-318 23.5,-287 77.5,-287 77.5,-318\"/>\n<text text-anchor=\"middle\" x=\"50.5\" y=\"-294\" font-family=\"monospace\" font-size=\"10.00\" fill=\"#000000\"> (1)</text>\n</g>\n<!-- 139681162198944&#45;&gt;139679555970192 -->\n<g id=\"edge4\" class=\"edge\">\n<title>139681162198944&#45;&gt;139679555970192</title>\n<path fill=\"none\" stroke=\"#000000\" d=\"M50.5,-286.791C50.5,-279.0249 50.5,-269.5706 50.5,-261.3129\"/>\n<polygon fill=\"#000000\" stroke=\"#000000\" points=\"54.0001,-261.0647 50.5,-251.0648 47.0001,-261.0648 54.0001,-261.0647\"/>\n</g>\n</g>\n</svg>\n"
          },
          "metadata": {
            "tags": []
          },
          "execution_count": 28
        }
      ]
    }
  ]
}
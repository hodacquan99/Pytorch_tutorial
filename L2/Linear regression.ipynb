{
 "cells": [
  {
   "cell_type": "code",
   "execution_count": 1,
   "metadata": {},
   "outputs": [],
   "source": [
    "import numpy as np\n",
    "import pandas as pd\n",
    "import matplotlib.pyplot as plt\n",
    "import torch"
   ]
  },
  {
   "cell_type": "code",
   "execution_count": 2,
   "metadata": {},
   "outputs": [],
   "source": [
    "# load dữ liệu, chuyển về dạng numpy\n",
    "data = pd.read_csv('data_linear.csv').values"
   ]
  },
  {
   "cell_type": "code",
   "execution_count": 3,
   "metadata": {},
   "outputs": [],
   "source": [
    "# chuyển dữ liệu về dạng torch\n",
    "x = torch.tensor(data[:,0])\n",
    "y = torch.tensor(data[:,1])"
   ]
  },
  {
   "cell_type": "code",
   "execution_count": 4,
   "metadata": {},
   "outputs": [],
   "source": [
    "# hàm model f(x) = ax+b\n",
    "def model(x, a, b):\n",
    "    return a * x + b"
   ]
  },
  {
   "cell_type": "code",
   "execution_count": 5,
   "metadata": {},
   "outputs": [],
   "source": [
    "# hàm loss function, Mean Squared Error\n",
    "def loss_fn(y_hat, y):\n",
    "    squared_diffs = (y_hat - y)**2\n",
    "    return squared_diffs.mean()"
   ]
  },
  {
   "cell_type": "code",
   "execution_count": null,
   "metadata": {},
   "outputs": [],
   "source": [
    "# Hàm training\n",
    "def training_loop(n_epochs, learning_rate, params, x, y):\n",
    "    a, b = params\n",
    "    # Lưu loss qua epoch để vẽ đồ thị loss\n",
    "    losses = []\n",
    "    for epoch in range(1, n_epochs + 1):\n",
    "        # nếu có grad ở tham số a, b thì zero đi, tránh trường hợp cộng dồn grad\n",
    "        if a.grad is not None:\n",
    "            a.grad.zero_()\n",
    "        if b.grad is not None:\n",
    "            b.grad.zero_()\n",
    "        \n",
    "        # xây model, loss\n",
    "        y_hat = model(x, a, b)\n",
    "        loss = loss_fn(y_hat, y)\n",
    "        \n",
    "        # gọi backward để tính đạo hàm ngược của loss với tham số a, b\n",
    "        loss.backward()\n",
    "\n",
    "        # update a,b bằng thuật toán gradient descent, để torch.no_grad thì mình không cần backward ở bước này\n",
    "        with torch.no_grad():\n",
    "            a -= learning_rate * a.grad\n",
    "            b -= learning_rate * b.grad\n",
    "        \n",
    "        if epoch % 1 == 0:\n",
    "            losses.append(loss.item())\n",
    "            print('Epoch %d, Loss %f' % (epoch, float(loss)))\n",
    "    return a, b, losses"
   ]
  },
  {
   "cell_type": "code",
   "execution_count": null,
   "metadata": {},
   "outputs": [],
   "source": [
    "a = torch.ones((),requires_grad=True)\n",
    "b = torch.zeros((),requires_grad=True)\n",
    "\n",
    "a, b, losses = training_loop(30, 0.00005, (a, b), x, y)"
   ]
  },
  {
   "cell_type": "code",
   "execution_count": null,
   "metadata": {},
   "outputs": [],
   "source": [
    "a, b"
   ]
  },
  {
   "cell_type": "code",
   "execution_count": null,
   "metadata": {},
   "outputs": [],
   "source": [
    "plt.plot(losses)\n",
    "plt.xlabel('epoch')\n",
    "plt.ylabel('loss')"
   ]
  },
  {
   "cell_type": "code",
   "execution_count": null,
   "metadata": {},
   "outputs": [],
   "source": [
    "# Dự đoán giá trị mới, x = 50\n",
    "x = torch.tensor(50)\n",
    "with torch.no_grad():\n",
    "    y_hat = model(x, a, b)\n",
    "    print(y_hat)"
   ]
  },
  {
   "cell_type": "code",
   "execution_count": null,
   "metadata": {},
   "outputs": [],
   "source": [
    "x = torch.tensor(data[:,0])\n",
    "y = torch.tensor(data[:,1])\n",
    "with torch.no_grad():\n",
    "    y_hat = model(x, a, b)\n",
    "plt.scatter(x, y)\n",
    "plt.plot(x, y_hat, c='r')"
   ]
  },
  {
   "cell_type": "code",
   "execution_count": null,
   "metadata": {},
   "outputs": [],
   "source": []
  }
 ],
 "metadata": {
  "kernelspec": {
   "display_name": "Python 3",
   "language": "python",
   "name": "python3"
  },
  "language_info": {
   "codemirror_mode": {
    "name": "ipython",
    "version": 3
   },
   "file_extension": ".py",
   "mimetype": "text/x-python",
   "name": "python",
   "nbconvert_exporter": "python",
   "pygments_lexer": "ipython3",
   "version": "3.8.1"
  }
 },
 "nbformat": 4,
 "nbformat_minor": 1
}

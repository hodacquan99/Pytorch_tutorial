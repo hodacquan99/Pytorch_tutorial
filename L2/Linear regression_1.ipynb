{
  "nbformat": 4,
  "nbformat_minor": 0,
  "metadata": {
    "kernelspec": {
      "display_name": "Python 3",
      "language": "python",
      "name": "python3"
    },
    "language_info": {
      "codemirror_mode": {
        "name": "ipython",
        "version": 3
      },
      "file_extension": ".py",
      "mimetype": "text/x-python",
      "name": "python",
      "nbconvert_exporter": "python",
      "pygments_lexer": "ipython3",
      "version": "3.8.1"
    },
    "colab": {
      "name": "Linear regression.ipynb",
      "provenance": [],
      "include_colab_link": true
    }
  },
  "cells": [
    {
      "cell_type": "markdown",
      "metadata": {
        "id": "view-in-github",
        "colab_type": "text"
      },
      "source": [
        "<a href=\"https://colab.research.google.com/github/hodacquan99/Pytorch_tutorial/blob/main/L2/Linear%20regression_1.ipynb\" target=\"_parent\"><img src=\"https://colab.research.google.com/assets/colab-badge.svg\" alt=\"Open In Colab\"/></a>"
      ]
    },
    {
      "cell_type": "code",
      "metadata": {
        "id": "-yXuIlMlm7BV"
      },
      "source": [
        "import numpy as np\n",
        "import pandas as pd\n",
        "import matplotlib.pyplot as plt\n",
        "import torch"
      ],
      "execution_count": 14,
      "outputs": []
    },
    {
      "cell_type": "code",
      "metadata": {
        "id": "CSB84Id3m7BW"
      },
      "source": [
        "path = \"https://raw.githubusercontent.com/hodacquan99/Pytorch_tutorial/main/L2/data_linear.csv\"\n",
        "data = pd.read_csv(path).values\n",
        "# load dữ liệu, chuyển về dạng numpy\n",
        "#data = pd.read_csv('data_linear.csv').values"
      ],
      "execution_count": 17,
      "outputs": []
    },
    {
      "cell_type": "code",
      "metadata": {
        "id": "7qD2-2SWm7BX"
      },
      "source": [
        "# chuyển dữ liệu về dạng torch\n",
        "x = torch.tensor(data[:,0])\n",
        "y = torch.tensor(data[:,1])"
      ],
      "execution_count": 18,
      "outputs": []
    },
    {
      "cell_type": "code",
      "metadata": {
        "id": "1oXak0H0m7BY"
      },
      "source": [
        "# hàm model f(x) = ax+b\n",
        "def model(x, a, b):\n",
        "    return a * x + b"
      ],
      "execution_count": 21,
      "outputs": []
    },
    {
      "cell_type": "code",
      "metadata": {
        "id": "IlSIsszlm7BY"
      },
      "source": [
        "# hàm loss function, Mean Squared Error\n",
        "def loss_fn(y_hat, y):\n",
        "    squared_diffs = (y_hat - y)**2\n",
        "    return squared_diffs.mean()"
      ],
      "execution_count": 23,
      "outputs": []
    },
    {
      "cell_type": "code",
      "metadata": {
        "id": "O9nGZD6bm7BZ"
      },
      "source": [
        "# Hàm training\n",
        "def training_loop(n_epochs, learning_rate, params, x, y):\n",
        "    a, b = params\n",
        "    # Lưu loss qua epoch để vẽ đồ thị loss\n",
        "    losses = []\n",
        "    for epoch in range(1, n_epochs + 1):\n",
        "        # nếu có grad ở tham số a, b thì zero đi, tránh trường hợp cộng dồn grad\n",
        "        if a.grad is not None:\n",
        "            a.grad.zero_()\n",
        "        if b.grad is not None:\n",
        "            b.grad.zero_()\n",
        "        \n",
        "        # xây model, loss\n",
        "        y_hat = model(x, a, b)\n",
        "        loss = loss_fn(y_hat, y)\n",
        "        \n",
        "        # gọi backward để tính đạo hàm ngược của loss với tham số a, b\n",
        "        loss.backward()\n",
        "\n",
        "        # update a,b bằng thuật toán gradient descent, để torch.no_grad thì mình không cần backward ở bước này\n",
        "        with torch.no_grad():\n",
        "            a -= learning_rate * a.grad\n",
        "            b -= learning_rate * b.grad\n",
        "        \n",
        "        if epoch % 1 == 0:\n",
        "            losses.append(loss.item())\n",
        "            print('Epoch %d, Loss %f' % (epoch, float(loss)))\n",
        "    return a, b, losses"
      ],
      "execution_count": 28,
      "outputs": []
    },
    {
      "cell_type": "code",
      "metadata": {
        "id": "q6uxGR-qm7Ba",
        "outputId": "0fb4a845-5e07-47e3-c37d-ae2d4fcdd6a0",
        "colab": {
          "base_uri": "https://localhost:8080/"
        }
      },
      "source": [
        "a = torch.ones((),requires_grad=True)\n",
        "b = torch.zeros((),requires_grad=True)\n",
        "\n",
        "a, b, losses = training_loop(30, 0.00005, (a, b), x, y)"
      ],
      "execution_count": 36,
      "outputs": [
        {
          "output_type": "stream",
          "text": [
            "Epoch 1, Loss 928658.176303\n",
            "Epoch 2, Loss 264754.354670\n",
            "Epoch 3, Loss 75608.348718\n",
            "Epoch 4, Loss 21720.675909\n",
            "Epoch 5, Loss 6368.099589\n",
            "Epoch 6, Loss 1994.160233\n",
            "Epoch 7, Loss 748.023193\n",
            "Epoch 8, Loss 392.999771\n",
            "Epoch 9, Loss 291.853276\n",
            "Epoch 10, Loss 263.036789\n",
            "Epoch 11, Loss 254.826636\n",
            "Epoch 12, Loss 252.487520\n",
            "Epoch 13, Loss 251.821067\n",
            "Epoch 14, Loss 251.631127\n",
            "Epoch 15, Loss 251.576954\n",
            "Epoch 16, Loss 251.561457\n",
            "Epoch 17, Loss 251.556977\n",
            "Epoch 18, Loss 251.555637\n",
            "Epoch 19, Loss 251.555189\n",
            "Epoch 20, Loss 251.554995\n",
            "Epoch 21, Loss 251.554874\n",
            "Epoch 22, Loss 251.554774\n",
            "Epoch 23, Loss 251.554679\n",
            "Epoch 24, Loss 251.554586\n",
            "Epoch 25, Loss 251.554493\n",
            "Epoch 26, Loss 251.554401\n",
            "Epoch 27, Loss 251.554308\n",
            "Epoch 28, Loss 251.554216\n",
            "Epoch 29, Loss 251.554124\n",
            "Epoch 30, Loss 251.554031\n"
          ],
          "name": "stdout"
        }
      ]
    },
    {
      "cell_type": "code",
      "metadata": {
        "id": "3ZBm-Mn1m7Ba",
        "outputId": "309e649c-4939-4394-bde0-9942a873b75f",
        "colab": {
          "base_uri": "https://localhost:8080/"
        }
      },
      "source": [
        "a, b"
      ],
      "execution_count": 39,
      "outputs": [
        {
          "output_type": "execute_result",
          "data": {
            "text/plain": [
              "(tensor(15.1099, requires_grad=True), tensor(0.1947, requires_grad=True))"
            ]
          },
          "metadata": {
            "tags": []
          },
          "execution_count": 39
        }
      ]
    },
    {
      "cell_type": "code",
      "metadata": {
        "id": "tMMnOspPm7Bb",
        "outputId": "c637e203-ec33-45a1-f968-4828240cc19a",
        "colab": {
          "base_uri": "https://localhost:8080/",
          "height": 296
        }
      },
      "source": [
        "plt.plot(losses)\n",
        "plt.xlabel('epoch')\n",
        "plt.ylabel('loss')"
      ],
      "execution_count": 37,
      "outputs": [
        {
          "output_type": "execute_result",
          "data": {
            "text/plain": [
              "Text(0, 0.5, 'loss')"
            ]
          },
          "metadata": {
            "tags": []
          },
          "execution_count": 37
        },
        {
          "output_type": "display_data",
          "data": {
            "image/png": "[encoded data removed]",
            "text/plain": [
              "<Figure size 432x288 with 1 Axes>"
            ]
          },
          "metadata": {
            "tags": [],
            "needs_background": "light"
          }
        }
      ]
    },
    {
      "cell_type": "code",
      "metadata": {
        "id": "Q5bCi4EQm7Bb",
        "outputId": "03c4fb56-5274-4ccc-9ab9-e881d54bb197",
        "colab": {
          "base_uri": "https://localhost:8080/"
        }
      },
      "source": [
        "# Dự đoán giá trị mới, x = 50\n",
        "x = torch.tensor(50)\n",
        "with torch.no_grad():\n",
        "    y_hat = model(x, a, b)\n",
        "    print(y_hat)"
      ],
      "execution_count": 38,
      "outputs": [
        {
          "output_type": "stream",
          "text": [
            "tensor(755.6882)\n"
          ],
          "name": "stdout"
        }
      ]
    },
    {
      "cell_type": "code",
      "metadata": {
        "id": "LY0W9ia8m7Bc",
        "outputId": "52fa7b4d-5e20-4260-e751-b55ef6f8b281",
        "colab": {
          "base_uri": "https://localhost:8080/",
          "height": 282
        }
      },
      "source": [
        "x = torch.tensor(data[:,0])\n",
        "y = torch.tensor(data[:,1])\n",
        "with torch.no_grad():\n",
        "    y_hat = model(x, a, b)\n",
        "plt.scatter(x, y)\n",
        "plt.plot(x, y_hat, c='r')"
      ],
      "execution_count": 40,
      "outputs": [
        {
          "output_type": "execute_result",
          "data": {
            "text/plain": [
              "[<matplotlib.lines.Line2D at 0x7facfb943110>]"
            ]
          },
          "metadata": {
            "tags": []
          },
          "execution_count": 40
        },
        {
          "output_type": "display_data",
          "data": {
            "image/png": "[encoded data removed]",
            "text/plain": [
              "<Figure size 432x288 with 1 Axes>"
            ]
          },
          "metadata": {
            "tags": [],
            "needs_background": "light"
          }
        }
      ]
    },
    {
      "cell_type": "code",
      "metadata": {
        "id": "zW1y61VMz8jj",
        "outputId": "3f727cb8-db88-4528-b7e4-c70b921a503f",
        "colab": {
          "base_uri": "https://localhost:8080/",
          "height": 282
        }
      },
      "source": [
        "plt.plot(x, y_hat, c='r')"
      ],
      "execution_count": 42,
      "outputs": [
        {
          "output_type": "execute_result",
          "data": {
            "text/plain": [
              "[<matplotlib.lines.Line2D at 0x7facfb87a790>]"
            ]
          },
          "metadata": {
            "tags": []
          },
          "execution_count": 42
        },
        {
          "output_type": "display_data",
          "data": {
            "image/png": "[encoded data removed]",
            "text/plain": [
              "<Figure size 432x288 with 1 Axes>"
            ]
          },
          "metadata": {
            "tags": [],
            "needs_background": "light"
          }
        }
      ]
    },
    {
      "cell_type": "code",
      "metadata": {
        "id": "8kzgQ9mrm7Bc"
      },
      "source": [
        ""
      ],
      "execution_count": null,
      "outputs": []
    }
  ]
}
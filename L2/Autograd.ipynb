{
  "nbformat": 4,
  "nbformat_minor": 0,
  "metadata": {
    "colab": {
      "name": "Autograd.ipynb",
      "provenance": [],
      "collapsed_sections": []
    },
    "kernelspec": {
      "name": "python3",
      "display_name": "Python 3"
    }
  },
  "cells": [
    {
      "cell_type": "code",
      "metadata": {
        "id": "Wz4ahjOuXnhh",
        "colab": {
          "base_uri": "https://localhost:8080/"
        },
        "outputId": "80252b53-7fce-4f30-e765-8384a0a35257"
      },
      "source": [
        "!pip install torchviz"
      ],
      "execution_count": 1,
      "outputs": [
        {
          "output_type": "stream",
          "text": [
            "Requirement already satisfied: torchviz in /usr/local/lib/python3.7/dist-packages (0.0.1)\n",
            "Requirement already satisfied: graphviz in /usr/local/lib/python3.7/dist-packages (from torchviz) (0.10.1)\n",
            "Requirement already satisfied: torch in /usr/local/lib/python3.7/dist-packages (from torchviz) (1.8.0+cu101)\n",
            "Requirement already satisfied: numpy in /usr/local/lib/python3.7/dist-packages (from torch->torchviz) (1.19.5)\n",
            "Requirement already satisfied: typing-extensions in /usr/local/lib/python3.7/dist-packages (from torch->torchviz) (3.7.4.3)\n"
          ],
          "name": "stdout"
        }
      ]
    },
    {
      "cell_type": "code",
      "metadata": {
        "id": "7xey9UWlKypa"
      },
      "source": [
        "import torch\r\n",
        "from torchviz import make_dot"
      ],
      "execution_count": 2,
      "outputs": []
    },
    {
      "cell_type": "code",
      "metadata": {
        "colab": {
          "base_uri": "https://localhost:8080/"
        },
        "id": "t4IBok62a4LW",
        "outputId": "821addea-7e5b-4ec8-9b53-7da621b2edad"
      },
      "source": [
        "a = torch.tensor([2., 3.])\r\n",
        "a.requires_grad"
      ],
      "execution_count": 3,
      "outputs": [
        {
          "output_type": "execute_result",
          "data": {
            "text/plain": [
              "False"
            ]
          },
          "metadata": {
            "tags": []
          },
          "execution_count": 3
        }
      ]
    },
    {
      "cell_type": "code",
      "metadata": {
        "id": "Fi6qN7IUMcqF"
      },
      "source": [
        "# Gán thuộc tính requires_grad = True\r\n",
        "a = torch.tensor([2., 3.], requires_grad=True)\r\n",
        "a.requires_grad # True\r\n",
        "\r\n",
        "# Hoặc\r\n",
        "a = torch.tensor([2., 3.])\r\n",
        "a.requires_grad = True"
      ],
      "execution_count": 4,
      "outputs": []
    },
    {
      "cell_type": "code",
      "metadata": {
        "id": "mJp0k3VbMnxN",
        "colab": {
          "base_uri": "https://localhost:8080/"
        },
        "outputId": "77857d55-c7f8-4aae-cf4f-4806666266c5"
      },
      "source": [
        "a = torch.tensor([2., 3.], requires_grad=True)\r\n",
        "a.requires_grad # True\r\n",
        "b = a**2\r\n",
        "c = 2*b\r\n",
        "print(b.requires_grad) # True\r\n",
        "print(c.requires_grad) # True"
      ],
      "execution_count": 5,
      "outputs": [
        {
          "output_type": "stream",
          "text": [
            "True\n",
            "True\n"
          ],
          "name": "stdout"
        }
      ]
    },
    {
      "cell_type": "code",
      "metadata": {
        "colab": {
          "base_uri": "https://localhost:8080/"
        },
        "id": "FNJogHyfMrW5",
        "outputId": "99e31b06-1442-4124-ddeb-4cf6868d6935"
      },
      "source": [
        "a = torch.tensor([2., 3.], requires_grad=True)\r\n",
        "b = torch.tensor([1., 1.])\r\n",
        "\r\n",
        "print(a.requires_grad) # True\r\n",
        "print(b.requires_grad) # False\r\n",
        "\r\n",
        "c = a + b # [3., 4.]\r\n",
        "print(c.requires_grad) # True"
      ],
      "execution_count": 6,
      "outputs": [
        {
          "output_type": "stream",
          "text": [
            "True\n",
            "False\n",
            "True\n"
          ],
          "name": "stdout"
        }
      ]
    },
    {
      "cell_type": "code",
      "metadata": {
        "id": "c59CtQTaNHnB"
      },
      "source": [
        "x = torch.tensor([3])\r\n",
        "y = torch.tensor([10])\r\n",
        "a = torch.tensor([1.], requires_grad=True)\r\n",
        "b = torch.tensor([2.], requires_grad=True)\r\n",
        "\r\n",
        "y_hat = a*x + b\r\n",
        "z = y_hat - y\r\n",
        "L = z**2"
      ],
      "execution_count": 7,
      "outputs": []
    },
    {
      "cell_type": "code",
      "metadata": {
        "colab": {
          "base_uri": "https://localhost:8080/"
        },
        "id": "qbVC2-DONiZi",
        "outputId": "4e446a69-e936-43aa-9be9-05ff74738223"
      },
      "source": [
        "print(x.is_leaf) # True\r\n",
        "print(a.is_leaf) # True\r\n",
        "print(y_hat.is_leaf) # False\r\n",
        "print(L.is_leaf) # False"
      ],
      "execution_count": 8,
      "outputs": [
        {
          "output_type": "stream",
          "text": [
            "True\n",
            "True\n",
            "False\n",
            "False\n"
          ],
          "name": "stdout"
        }
      ]
    },
    {
      "cell_type": "code",
      "metadata": {
        "colab": {
          "base_uri": "https://localhost:8080/"
        },
        "id": "NM9AHO67NnBQ",
        "outputId": "17876700-1e6b-4767-f2d8-2d5bba2a0e85"
      },
      "source": [
        "L.backward()\r\n",
        "\r\n",
        "print(a.grad) # -30\r\n",
        "print(b.grad) # -10"
      ],
      "execution_count": 9,
      "outputs": [
        {
          "output_type": "stream",
          "text": [
            "tensor([-30.])\n",
            "tensor([-10.])\n"
          ],
          "name": "stdout"
        }
      ]
    },
    {
      "cell_type": "code",
      "metadata": {
        "colab": {
          "base_uri": "https://localhost:8080/"
        },
        "id": "2zc8IgeWW-Tz",
        "outputId": "ca61453a-f6bf-4812-a85f-de3cc52c650c"
      },
      "source": [
        "print(x.grad_fn) # None\r\n",
        "print(a.grad_fn) # None\r\n",
        "print(y_hat.grad_fn) # AddBackward0 \r\n",
        "print(z.grad_fn) # SubBackward0 \r\n",
        "print(L.grad_fn) # PowBackward0"
      ],
      "execution_count": 10,
      "outputs": [
        {
          "output_type": "stream",
          "text": [
            "None\n",
            "None\n",
            "<AddBackward0 object at 0x7f814d4eed90>\n",
            "<SubBackward0 object at 0x7f814d4eedd0>\n",
            "<PowBackward0 object at 0x7f814d4eed90>\n"
          ],
          "name": "stdout"
        }
      ]
    },
    {
      "cell_type": "code",
      "metadata": {
        "colab": {
          "base_uri": "https://localhost:8080/",
          "height": 400
        },
        "id": "oM8Uz2mzmj2z",
        "outputId": "d989e655-0d88-4070-c19f-917228190cc6"
      },
      "source": [
        "make_dot(L)"
      ],
      "execution_count": 11,
      "outputs": [
        {
          "output_type": "execute_result",
          "data": {
            "text/plain": [
              "<graphviz.dot.Digraph at 0x7f814cc774d0>"
            ],
            "image/svg+xml": "<?xml version=\"1.0\" encoding=\"UTF-8\" standalone=\"no\"?>\n<!DOCTYPE svg PUBLIC \"-//W3C//DTD SVG 1.1//EN\"\n \"http://www.w3.org/Graphics/SVG/1.1/DTD/svg11.dtd\">\n<!-- Generated by graphviz version 2.40.1 (20161225.0304)\n -->\n<!-- Title: %3 Pages: 1 -->\n<svg width=\"172pt\" height=\"285pt\"\n viewBox=\"0.00 0.00 171.50 285.00\" xmlns=\"http://www.w3.org/2000/svg\" xmlns:xlink=\"http://www.w3.org/1999/xlink\">\n<g id=\"graph0\" class=\"graph\" transform=\"scale(1 1) rotate(0) translate(4 281)\">\n<title>%3</title>\n<polygon fill=\"#ffffff\" stroke=\"transparent\" points=\"-4,4 -4,-281 167.5,-281 167.5,4 -4,4\"/>\n<!-- 140193315648848 -->\n<g id=\"node1\" class=\"node\">\n<title>140193315648848</title>\n<polygon fill=\"#caff70\" stroke=\"#000000\" points=\"137,-21 44,-21 44,0 137,0 137,-21\"/>\n<text text-anchor=\"middle\" x=\"90.5\" y=\"-7.4\" font-family=\"Times,serif\" font-size=\"12.00\" fill=\"#000000\">PowBackward0</text>\n</g>\n<!-- 140193315648912 -->\n<g id=\"node2\" class=\"node\">\n<title>140193315648912</title>\n<polygon fill=\"#d3d3d3\" stroke=\"#000000\" points=\"135.5,-78 45.5,-78 45.5,-57 135.5,-57 135.5,-78\"/>\n<text text-anchor=\"middle\" x=\"90.5\" y=\"-64.4\" font-family=\"Times,serif\" font-size=\"12.00\" fill=\"#000000\">SubBackward0</text>\n</g>\n<!-- 140193315648912&#45;&gt;140193315648848 -->\n<g id=\"edge1\" class=\"edge\">\n<title>140193315648912&#45;&gt;140193315648848</title>\n<path fill=\"none\" stroke=\"#000000\" d=\"M90.5,-56.7787C90.5,-49.6134 90.5,-39.9517 90.5,-31.3097\"/>\n<polygon fill=\"#000000\" stroke=\"#000000\" points=\"94.0001,-31.1732 90.5,-21.1732 87.0001,-31.1732 94.0001,-31.1732\"/>\n</g>\n<!-- 140193315649040 -->\n<g id=\"node3\" class=\"node\">\n<title>140193315649040</title>\n<polygon fill=\"#d3d3d3\" stroke=\"#000000\" points=\"136.5,-135 44.5,-135 44.5,-114 136.5,-114 136.5,-135\"/>\n<text text-anchor=\"middle\" x=\"90.5\" y=\"-121.4\" font-family=\"Times,serif\" font-size=\"12.00\" fill=\"#000000\">AddBackward0</text>\n</g>\n<!-- 140193315649040&#45;&gt;140193315648912 -->\n<g id=\"edge2\" class=\"edge\">\n<title>140193315649040&#45;&gt;140193315648912</title>\n<path fill=\"none\" stroke=\"#000000\" d=\"M90.5,-113.7787C90.5,-106.6134 90.5,-96.9517 90.5,-88.3097\"/>\n<polygon fill=\"#000000\" stroke=\"#000000\" points=\"94.0001,-88.1732 90.5,-78.1732 87.0001,-88.1732 94.0001,-88.1732\"/>\n</g>\n<!-- 140193315649168 -->\n<g id=\"node4\" class=\"node\">\n<title>140193315649168</title>\n<polygon fill=\"#d3d3d3\" stroke=\"#000000\" points=\"91,-199 0,-199 0,-178 91,-178 91,-199\"/>\n<text text-anchor=\"middle\" x=\"45.5\" y=\"-185.4\" font-family=\"Times,serif\" font-size=\"12.00\" fill=\"#000000\">MulBackward0</text>\n</g>\n<!-- 140193315649168&#45;&gt;140193315649040 -->\n<g id=\"edge3\" class=\"edge\">\n<title>140193315649168&#45;&gt;140193315649040</title>\n<path fill=\"none\" stroke=\"#000000\" d=\"M52.9308,-177.9317C59.4705,-168.6309 69.1534,-154.8597 77.0509,-143.6276\"/>\n<polygon fill=\"#000000\" stroke=\"#000000\" points=\"80.019,-145.4914 82.9077,-135.2979 74.2928,-141.4651 80.019,-145.4914\"/>\n</g>\n<!-- 140193315649424 -->\n<g id=\"node5\" class=\"node\">\n<title>140193315649424</title>\n<polygon fill=\"#add8e6\" stroke=\"#000000\" points=\"72.5,-277 18.5,-277 18.5,-242 72.5,-242 72.5,-277\"/>\n<text text-anchor=\"middle\" x=\"45.5\" y=\"-249.4\" font-family=\"Times,serif\" font-size=\"12.00\" fill=\"#000000\"> (1)</text>\n</g>\n<!-- 140193315649424&#45;&gt;140193315649168 -->\n<g id=\"edge4\" class=\"edge\">\n<title>140193315649424&#45;&gt;140193315649168</title>\n<path fill=\"none\" stroke=\"#000000\" d=\"M45.5,-241.9494C45.5,-232.058 45.5,-219.6435 45.5,-209.2693\"/>\n<polygon fill=\"#000000\" stroke=\"#000000\" points=\"49.0001,-209.0288 45.5,-199.0288 42.0001,-209.0289 49.0001,-209.0288\"/>\n</g>\n<!-- 140193315649232 -->\n<g id=\"node6\" class=\"node\">\n<title>140193315649232</title>\n<polygon fill=\"#add8e6\" stroke=\"#000000\" points=\"163.5,-206 109.5,-206 109.5,-171 163.5,-171 163.5,-206\"/>\n<text text-anchor=\"middle\" x=\"136.5\" y=\"-178.4\" font-family=\"Times,serif\" font-size=\"12.00\" fill=\"#000000\"> (1)</text>\n</g>\n<!-- 140193315649232&#45;&gt;140193315649040 -->\n<g id=\"edge5\" class=\"edge\">\n<title>140193315649232&#45;&gt;140193315649040</title>\n<path fill=\"none\" stroke=\"#000000\" d=\"M123.6864,-170.6724C117.6095,-162.2176 110.3436,-152.1085 104.1618,-143.5078\"/>\n<polygon fill=\"#000000\" stroke=\"#000000\" points=\"106.8859,-141.3009 98.2075,-135.2234 101.2018,-145.3863 106.8859,-141.3009\"/>\n</g>\n</g>\n</svg>\n"
          },
          "metadata": {
            "tags": []
          },
          "execution_count": 11
        }
      ]
    },
    {
      "cell_type": "code",
      "metadata": {
        "id": "hqzIdRSyPexO"
      },
      "source": [
        "class MySquare(torch.autograd.Function):\r\n",
        "\r\n",
        "  @staticmethod\r\n",
        "  def forward(ctx, input):\r\n",
        "    ctx.save_for_backward(input)\r\n",
        "    return input**2\r\n",
        "\r\n",
        "  @staticmethod\r\n",
        "  def backward(ctx, grad_output):\r\n",
        "    input, = ctx.saved_tensors\r\n",
        "    return 2*input*grad_output"
      ],
      "execution_count": 13,
      "outputs": []
    },
    {
      "cell_type": "code",
      "metadata": {
        "id": "k2Rynm4wAvAn"
      },
      "source": [
        "my_square = MySquare.apply"
      ],
      "execution_count": 14,
      "outputs": []
    },
    {
      "cell_type": "code",
      "metadata": {
        "id": "ydSN33arBHWr"
      },
      "source": [
        "x = torch.tensor([3])\r\n",
        "y = torch.tensor([10])\r\n",
        "a = torch.tensor([1.], requires_grad=True)\r\n",
        "b = torch.tensor([2.], requires_grad=True)\r\n",
        "\r\n",
        "y_hat = a*x + b\r\n",
        "z = y_hat - y\r\n",
        "L = my_square(z)"
      ],
      "execution_count": 15,
      "outputs": []
    },
    {
      "cell_type": "code",
      "metadata": {
        "id": "kUWPGAuHBOPx"
      },
      "source": [
        "L.backward(retain_graph=True)"
      ],
      "execution_count": 16,
      "outputs": []
    },
    {
      "cell_type": "code",
      "metadata": {
        "colab": {
          "base_uri": "https://localhost:8080/"
        },
        "id": "K3ziBzi5BQFq",
        "outputId": "5e20aa24-c8d2-4cf7-caf6-d2602e39f2e7"
      },
      "source": [
        "print(a.grad, b.grad)"
      ],
      "execution_count": 17,
      "outputs": [
        {
          "output_type": "stream",
          "text": [
            "tensor([-30.]) tensor([-10.])\n"
          ],
          "name": "stdout"
        }
      ]
    },
    {
      "cell_type": "code",
      "metadata": {
        "colab": {
          "base_uri": "https://localhost:8080/",
          "height": 400
        },
        "id": "Fmv4fyPQBTo9",
        "outputId": "f455bf4c-37e9-475f-e560-7741e9d3e61e"
      },
      "source": [
        "make_dot(L)"
      ],
      "execution_count": 18,
      "outputs": [
        {
          "output_type": "execute_result",
          "data": {
            "text/plain": [
              "<graphviz.dot.Digraph at 0x7f814cc4d650>"
            ],
            "image/svg+xml": "<?xml version=\"1.0\" encoding=\"UTF-8\" standalone=\"no\"?>\n<!DOCTYPE svg PUBLIC \"-//W3C//DTD SVG 1.1//EN\"\n \"http://www.w3.org/Graphics/SVG/1.1/DTD/svg11.dtd\">\n<!-- Generated by graphviz version 2.40.1 (20161225.0304)\n -->\n<!-- Title: %3 Pages: 1 -->\n<svg width=\"216pt\" height=\"285pt\"\n viewBox=\"0.00 0.00 215.50 285.00\" xmlns=\"http://www.w3.org/2000/svg\" xmlns:xlink=\"http://www.w3.org/1999/xlink\">\n<g id=\"graph0\" class=\"graph\" transform=\"scale(1 1) rotate(0) translate(4 281)\">\n<title>%3</title>\n<polygon fill=\"#ffffff\" stroke=\"transparent\" points=\"-4,4 -4,-281 211.5,-281 211.5,4 -4,4\"/>\n<!-- 140193315827056 -->\n<g id=\"node1\" class=\"node\">\n<title>140193315827056</title>\n<polygon fill=\"#caff70\" stroke=\"#000000\" points=\"193,-21 78,-21 78,0 193,0 193,-21\"/>\n<text text-anchor=\"middle\" x=\"135.5\" y=\"-7.4\" font-family=\"Times,serif\" font-size=\"12.00\" fill=\"#000000\">MySquareBackward</text>\n</g>\n<!-- 140193315477200 -->\n<g id=\"node2\" class=\"node\">\n<title>140193315477200</title>\n<polygon fill=\"#d3d3d3\" stroke=\"#000000\" points=\"135.5,-78 45.5,-78 45.5,-57 135.5,-57 135.5,-78\"/>\n<text text-anchor=\"middle\" x=\"90.5\" y=\"-64.4\" font-family=\"Times,serif\" font-size=\"12.00\" fill=\"#000000\">SubBackward0</text>\n</g>\n<!-- 140193315477200&#45;&gt;140193315827056 -->\n<g id=\"edge1\" class=\"edge\">\n<title>140193315477200&#45;&gt;140193315827056</title>\n<path fill=\"none\" stroke=\"#000000\" d=\"M98.9642,-56.7787C105.1238,-48.9765 113.6202,-38.2144 120.8696,-29.0318\"/>\n<polygon fill=\"#000000\" stroke=\"#000000\" points=\"123.6244,-31.1908 127.0738,-21.1732 118.1302,-26.8533 123.6244,-31.1908\"/>\n</g>\n<!-- 140193315475728 -->\n<g id=\"node3\" class=\"node\">\n<title>140193315475728</title>\n<polygon fill=\"#d3d3d3\" stroke=\"#000000\" points=\"136.5,-135 44.5,-135 44.5,-114 136.5,-114 136.5,-135\"/>\n<text text-anchor=\"middle\" x=\"90.5\" y=\"-121.4\" font-family=\"Times,serif\" font-size=\"12.00\" fill=\"#000000\">AddBackward0</text>\n</g>\n<!-- 140193315475728&#45;&gt;140193315477200 -->\n<g id=\"edge2\" class=\"edge\">\n<title>140193315475728&#45;&gt;140193315477200</title>\n<path fill=\"none\" stroke=\"#000000\" d=\"M90.5,-113.7787C90.5,-106.6134 90.5,-96.9517 90.5,-88.3097\"/>\n<polygon fill=\"#000000\" stroke=\"#000000\" points=\"94.0001,-88.1732 90.5,-78.1732 87.0001,-88.1732 94.0001,-88.1732\"/>\n</g>\n<!-- 140193315476816 -->\n<g id=\"node4\" class=\"node\">\n<title>140193315476816</title>\n<polygon fill=\"#d3d3d3\" stroke=\"#000000\" points=\"91,-199 0,-199 0,-178 91,-178 91,-199\"/>\n<text text-anchor=\"middle\" x=\"45.5\" y=\"-185.4\" font-family=\"Times,serif\" font-size=\"12.00\" fill=\"#000000\">MulBackward0</text>\n</g>\n<!-- 140193315476816&#45;&gt;140193315475728 -->\n<g id=\"edge3\" class=\"edge\">\n<title>140193315476816&#45;&gt;140193315475728</title>\n<path fill=\"none\" stroke=\"#000000\" d=\"M52.9308,-177.9317C59.4705,-168.6309 69.1534,-154.8597 77.0509,-143.6276\"/>\n<polygon fill=\"#000000\" stroke=\"#000000\" points=\"80.019,-145.4914 82.9077,-135.2979 74.2928,-141.4651 80.019,-145.4914\"/>\n</g>\n<!-- 140193315476368 -->\n<g id=\"node5\" class=\"node\">\n<title>140193315476368</title>\n<polygon fill=\"#add8e6\" stroke=\"#000000\" points=\"72.5,-277 18.5,-277 18.5,-242 72.5,-242 72.5,-277\"/>\n<text text-anchor=\"middle\" x=\"45.5\" y=\"-249.4\" font-family=\"Times,serif\" font-size=\"12.00\" fill=\"#000000\"> (1)</text>\n</g>\n<!-- 140193315476368&#45;&gt;140193315476816 -->\n<g id=\"edge4\" class=\"edge\">\n<title>140193315476368&#45;&gt;140193315476816</title>\n<path fill=\"none\" stroke=\"#000000\" d=\"M45.5,-241.9494C45.5,-232.058 45.5,-219.6435 45.5,-209.2693\"/>\n<polygon fill=\"#000000\" stroke=\"#000000\" points=\"49.0001,-209.0288 45.5,-199.0288 42.0001,-209.0289 49.0001,-209.0288\"/>\n</g>\n<!-- 140193315476752 -->\n<g id=\"node6\" class=\"node\">\n<title>140193315476752</title>\n<polygon fill=\"#add8e6\" stroke=\"#000000\" points=\"163.5,-206 109.5,-206 109.5,-171 163.5,-171 163.5,-206\"/>\n<text text-anchor=\"middle\" x=\"136.5\" y=\"-178.4\" font-family=\"Times,serif\" font-size=\"12.00\" fill=\"#000000\"> (1)</text>\n</g>\n<!-- 140193315476752&#45;&gt;140193315475728 -->\n<g id=\"edge5\" class=\"edge\">\n<title>140193315476752&#45;&gt;140193315475728</title>\n<path fill=\"none\" stroke=\"#000000\" d=\"M123.6864,-170.6724C117.6095,-162.2176 110.3436,-152.1085 104.1618,-143.5078\"/>\n<polygon fill=\"#000000\" stroke=\"#000000\" points=\"106.8859,-141.3009 98.2075,-135.2234 101.2018,-145.3863 106.8859,-141.3009\"/>\n</g>\n<!-- 140193324456848 -->\n<g id=\"node7\" class=\"node\">\n<title>140193324456848</title>\n<polygon fill=\"#ffa500\" stroke=\"#000000\" points=\"207.5,-78 153.5,-78 153.5,-57 207.5,-57 207.5,-78\"/>\n<text text-anchor=\"middle\" x=\"180.5\" y=\"-64.4\" font-family=\"Times,serif\" font-size=\"12.00\" fill=\"#000000\">(1)</text>\n</g>\n<!-- 140193324456848&#45;&gt;140193315827056 -->\n<g id=\"edge6\" class=\"edge\">\n<title>140193324456848&#45;&gt;140193315827056</title>\n<path fill=\"none\" stroke=\"#000000\" d=\"M172.0358,-56.7787C165.8762,-48.9765 157.3798,-38.2144 150.1304,-29.0318\"/>\n<polygon fill=\"#000000\" stroke=\"#000000\" points=\"152.8698,-26.8533 143.9262,-21.1732 147.3756,-31.1908 152.8698,-26.8533\"/>\n</g>\n</g>\n</svg>\n"
          },
          "metadata": {
            "tags": []
          },
          "execution_count": 18
        }
      ]
    },
    {
      "cell_type": "code",
      "metadata": {
        "id": "CigEnO7BBVYc",
        "colab": {
          "base_uri": "https://localhost:8080/",
          "height": 345
        },
        "outputId": "2b2fd165-a501-4c99-8926-b7d6c0fe71ce"
      },
      "source": [
        "x = torch.tensor([1., 2., 3.], requires_grad=True)\r\n",
        "y = 2*x + 1\r\n",
        "y.backward()"
      ],
      "execution_count": 19,
      "outputs": [
        {
          "output_type": "error",
          "ename": "RuntimeError",
          "evalue": "ignored",
          "traceback": [
            "\u001b[0;31m---------------------------------------------------------------------------\u001b[0m",
            "\u001b[0;31mRuntimeError\u001b[0m                              Traceback (most recent call last)",
            "\u001b[0;32m<ipython-input-19-223c378e3067>\u001b[0m in \u001b[0;36m<module>\u001b[0;34m()\u001b[0m\n\u001b[1;32m      1\u001b[0m \u001b[0mx\u001b[0m \u001b[0;34m=\u001b[0m \u001b[0mtorch\u001b[0m\u001b[0;34m.\u001b[0m\u001b[0mtensor\u001b[0m\u001b[0;34m(\u001b[0m\u001b[0;34m[\u001b[0m\u001b[0;36m1.\u001b[0m\u001b[0;34m,\u001b[0m \u001b[0;36m2.\u001b[0m\u001b[0;34m,\u001b[0m \u001b[0;36m3.\u001b[0m\u001b[0;34m]\u001b[0m\u001b[0;34m,\u001b[0m \u001b[0mrequires_grad\u001b[0m\u001b[0;34m=\u001b[0m\u001b[0;32mTrue\u001b[0m\u001b[0;34m)\u001b[0m\u001b[0;34m\u001b[0m\u001b[0;34m\u001b[0m\u001b[0m\n\u001b[1;32m      2\u001b[0m \u001b[0my\u001b[0m \u001b[0;34m=\u001b[0m \u001b[0;36m2\u001b[0m\u001b[0;34m*\u001b[0m\u001b[0mx\u001b[0m \u001b[0;34m+\u001b[0m \u001b[0;36m1\u001b[0m\u001b[0;34m\u001b[0m\u001b[0;34m\u001b[0m\u001b[0m\n\u001b[0;32m----> 3\u001b[0;31m \u001b[0my\u001b[0m\u001b[0;34m.\u001b[0m\u001b[0mbackward\u001b[0m\u001b[0;34m(\u001b[0m\u001b[0;34m)\u001b[0m\u001b[0;34m\u001b[0m\u001b[0;34m\u001b[0m\u001b[0m\n\u001b[0m",
            "\u001b[0;32m/usr/local/lib/python3.7/dist-packages/torch/tensor.py\u001b[0m in \u001b[0;36mbackward\u001b[0;34m(self, gradient, retain_graph, create_graph, inputs)\u001b[0m\n\u001b[1;32m    243\u001b[0m                 \u001b[0mcreate_graph\u001b[0m\u001b[0;34m=\u001b[0m\u001b[0mcreate_graph\u001b[0m\u001b[0;34m,\u001b[0m\u001b[0;34m\u001b[0m\u001b[0;34m\u001b[0m\u001b[0m\n\u001b[1;32m    244\u001b[0m                 inputs=inputs)\n\u001b[0;32m--> 245\u001b[0;31m         \u001b[0mtorch\u001b[0m\u001b[0;34m.\u001b[0m\u001b[0mautograd\u001b[0m\u001b[0;34m.\u001b[0m\u001b[0mbackward\u001b[0m\u001b[0;34m(\u001b[0m\u001b[0mself\u001b[0m\u001b[0;34m,\u001b[0m \u001b[0mgradient\u001b[0m\u001b[0;34m,\u001b[0m \u001b[0mretain_graph\u001b[0m\u001b[0;34m,\u001b[0m \u001b[0mcreate_graph\u001b[0m\u001b[0;34m,\u001b[0m \u001b[0minputs\u001b[0m\u001b[0;34m=\u001b[0m\u001b[0minputs\u001b[0m\u001b[0;34m)\u001b[0m\u001b[0;34m\u001b[0m\u001b[0;34m\u001b[0m\u001b[0m\n\u001b[0m\u001b[1;32m    246\u001b[0m \u001b[0;34m\u001b[0m\u001b[0m\n\u001b[1;32m    247\u001b[0m     \u001b[0;32mdef\u001b[0m \u001b[0mregister_hook\u001b[0m\u001b[0;34m(\u001b[0m\u001b[0mself\u001b[0m\u001b[0;34m,\u001b[0m \u001b[0mhook\u001b[0m\u001b[0;34m)\u001b[0m\u001b[0;34m:\u001b[0m\u001b[0;34m\u001b[0m\u001b[0;34m\u001b[0m\u001b[0m\n",
            "\u001b[0;32m/usr/local/lib/python3.7/dist-packages/torch/autograd/__init__.py\u001b[0m in \u001b[0;36mbackward\u001b[0;34m(tensors, grad_tensors, retain_graph, create_graph, grad_variables, inputs)\u001b[0m\n\u001b[1;32m    139\u001b[0m \u001b[0;34m\u001b[0m\u001b[0m\n\u001b[1;32m    140\u001b[0m     \u001b[0mgrad_tensors_\u001b[0m \u001b[0;34m=\u001b[0m \u001b[0m_tensor_or_tensors_to_tuple\u001b[0m\u001b[0;34m(\u001b[0m\u001b[0mgrad_tensors\u001b[0m\u001b[0;34m,\u001b[0m \u001b[0mlen\u001b[0m\u001b[0;34m(\u001b[0m\u001b[0mtensors\u001b[0m\u001b[0;34m)\u001b[0m\u001b[0;34m)\u001b[0m\u001b[0;34m\u001b[0m\u001b[0;34m\u001b[0m\u001b[0m\n\u001b[0;32m--> 141\u001b[0;31m     \u001b[0mgrad_tensors_\u001b[0m \u001b[0;34m=\u001b[0m \u001b[0m_make_grads\u001b[0m\u001b[0;34m(\u001b[0m\u001b[0mtensors\u001b[0m\u001b[0;34m,\u001b[0m \u001b[0mgrad_tensors_\u001b[0m\u001b[0;34m)\u001b[0m\u001b[0;34m\u001b[0m\u001b[0;34m\u001b[0m\u001b[0m\n\u001b[0m\u001b[1;32m    142\u001b[0m     \u001b[0;32mif\u001b[0m \u001b[0mretain_graph\u001b[0m \u001b[0;32mis\u001b[0m \u001b[0;32mNone\u001b[0m\u001b[0;34m:\u001b[0m\u001b[0;34m\u001b[0m\u001b[0;34m\u001b[0m\u001b[0m\n\u001b[1;32m    143\u001b[0m         \u001b[0mretain_graph\u001b[0m \u001b[0;34m=\u001b[0m \u001b[0mcreate_graph\u001b[0m\u001b[0;34m\u001b[0m\u001b[0;34m\u001b[0m\u001b[0m\n",
            "\u001b[0;32m/usr/local/lib/python3.7/dist-packages/torch/autograd/__init__.py\u001b[0m in \u001b[0;36m_make_grads\u001b[0;34m(outputs, grads)\u001b[0m\n\u001b[1;32m     48\u001b[0m             \u001b[0;32mif\u001b[0m \u001b[0mout\u001b[0m\u001b[0;34m.\u001b[0m\u001b[0mrequires_grad\u001b[0m\u001b[0;34m:\u001b[0m\u001b[0;34m\u001b[0m\u001b[0;34m\u001b[0m\u001b[0m\n\u001b[1;32m     49\u001b[0m                 \u001b[0;32mif\u001b[0m \u001b[0mout\u001b[0m\u001b[0;34m.\u001b[0m\u001b[0mnumel\u001b[0m\u001b[0;34m(\u001b[0m\u001b[0;34m)\u001b[0m \u001b[0;34m!=\u001b[0m \u001b[0;36m1\u001b[0m\u001b[0;34m:\u001b[0m\u001b[0;34m\u001b[0m\u001b[0;34m\u001b[0m\u001b[0m\n\u001b[0;32m---> 50\u001b[0;31m                     \u001b[0;32mraise\u001b[0m \u001b[0mRuntimeError\u001b[0m\u001b[0;34m(\u001b[0m\u001b[0;34m\"grad can be implicitly created only for scalar outputs\"\u001b[0m\u001b[0;34m)\u001b[0m\u001b[0;34m\u001b[0m\u001b[0;34m\u001b[0m\u001b[0m\n\u001b[0m\u001b[1;32m     51\u001b[0m                 \u001b[0mnew_grads\u001b[0m\u001b[0;34m.\u001b[0m\u001b[0mappend\u001b[0m\u001b[0;34m(\u001b[0m\u001b[0mtorch\u001b[0m\u001b[0;34m.\u001b[0m\u001b[0mones_like\u001b[0m\u001b[0;34m(\u001b[0m\u001b[0mout\u001b[0m\u001b[0;34m,\u001b[0m \u001b[0mmemory_format\u001b[0m\u001b[0;34m=\u001b[0m\u001b[0mtorch\u001b[0m\u001b[0;34m.\u001b[0m\u001b[0mpreserve_format\u001b[0m\u001b[0;34m)\u001b[0m\u001b[0;34m)\u001b[0m\u001b[0;34m\u001b[0m\u001b[0;34m\u001b[0m\u001b[0m\n\u001b[1;32m     52\u001b[0m             \u001b[0;32melse\u001b[0m\u001b[0;34m:\u001b[0m\u001b[0;34m\u001b[0m\u001b[0;34m\u001b[0m\u001b[0m\n",
            "\u001b[0;31mRuntimeError\u001b[0m: grad can be implicitly created only for scalar outputs"
          ]
        }
      ]
    },
    {
      "cell_type": "code",
      "metadata": {
        "id": "8JwzISnnOZFT"
      },
      "source": [
        "x = torch.tensor([1., 2., 3.], requires_grad=True)\r\n",
        "y = 2*x + 1\r\n",
        "z = sum(y)\r\n",
        "z.backward()\r\n",
        "\r\n",
        "print(x.grad)"
      ],
      "execution_count": null,
      "outputs": []
    },
    {
      "cell_type": "code",
      "metadata": {
        "id": "r-05UzdbP4OA"
      },
      "source": [
        "x = torch.tensor([1., 2., 3.], requires_grad=True)\r\n",
        "y = 2*x + 1\r\n",
        "y.backward(gradient=torch.tensor([1, 2, 1]))\r\n",
        "\r\n",
        "print(x.grad)"
      ],
      "execution_count": null,
      "outputs": []
    },
    {
      "cell_type": "code",
      "metadata": {
        "colab": {
          "base_uri": "https://localhost:8080/",
          "height": 397
        },
        "id": "PjQzGMgT2HWs",
        "outputId": "f756c0bb-3670-4acd-d916-70e705f84f63"
      },
      "source": [
        "x = torch.tensor([1., 2., 3.], requires_grad=True)\r\n",
        "y = 2*x + 1\r\n",
        "z = sum(y)\r\n",
        "z.backward()\r\n",
        "print(x.grad)\r\n",
        "z.backward()\r\n"
      ],
      "execution_count": 20,
      "outputs": [
        {
          "output_type": "stream",
          "text": [
            "tensor([2., 2., 2.])\n"
          ],
          "name": "stdout"
        },
        {
          "output_type": "error",
          "ename": "RuntimeError",
          "evalue": "ignored",
          "traceback": [
            "\u001b[0;31m---------------------------------------------------------------------------\u001b[0m",
            "\u001b[0;31mRuntimeError\u001b[0m                              Traceback (most recent call last)",
            "\u001b[0;32m<ipython-input-20-7efabf61094e>\u001b[0m in \u001b[0;36m<module>\u001b[0;34m()\u001b[0m\n\u001b[1;32m      4\u001b[0m \u001b[0mz\u001b[0m\u001b[0;34m.\u001b[0m\u001b[0mbackward\u001b[0m\u001b[0;34m(\u001b[0m\u001b[0;34m)\u001b[0m\u001b[0;34m\u001b[0m\u001b[0;34m\u001b[0m\u001b[0m\n\u001b[1;32m      5\u001b[0m \u001b[0mprint\u001b[0m\u001b[0;34m(\u001b[0m\u001b[0mx\u001b[0m\u001b[0;34m.\u001b[0m\u001b[0mgrad\u001b[0m\u001b[0;34m)\u001b[0m\u001b[0;34m\u001b[0m\u001b[0;34m\u001b[0m\u001b[0m\n\u001b[0;32m----> 6\u001b[0;31m \u001b[0mz\u001b[0m\u001b[0;34m.\u001b[0m\u001b[0mbackward\u001b[0m\u001b[0;34m(\u001b[0m\u001b[0;34m)\u001b[0m\u001b[0;34m\u001b[0m\u001b[0;34m\u001b[0m\u001b[0m\n\u001b[0m",
            "\u001b[0;32m/usr/local/lib/python3.7/dist-packages/torch/tensor.py\u001b[0m in \u001b[0;36mbackward\u001b[0;34m(self, gradient, retain_graph, create_graph, inputs)\u001b[0m\n\u001b[1;32m    243\u001b[0m                 \u001b[0mcreate_graph\u001b[0m\u001b[0;34m=\u001b[0m\u001b[0mcreate_graph\u001b[0m\u001b[0;34m,\u001b[0m\u001b[0;34m\u001b[0m\u001b[0;34m\u001b[0m\u001b[0m\n\u001b[1;32m    244\u001b[0m                 inputs=inputs)\n\u001b[0;32m--> 245\u001b[0;31m         \u001b[0mtorch\u001b[0m\u001b[0;34m.\u001b[0m\u001b[0mautograd\u001b[0m\u001b[0;34m.\u001b[0m\u001b[0mbackward\u001b[0m\u001b[0;34m(\u001b[0m\u001b[0mself\u001b[0m\u001b[0;34m,\u001b[0m \u001b[0mgradient\u001b[0m\u001b[0;34m,\u001b[0m \u001b[0mretain_graph\u001b[0m\u001b[0;34m,\u001b[0m \u001b[0mcreate_graph\u001b[0m\u001b[0;34m,\u001b[0m \u001b[0minputs\u001b[0m\u001b[0;34m=\u001b[0m\u001b[0minputs\u001b[0m\u001b[0;34m)\u001b[0m\u001b[0;34m\u001b[0m\u001b[0;34m\u001b[0m\u001b[0m\n\u001b[0m\u001b[1;32m    246\u001b[0m \u001b[0;34m\u001b[0m\u001b[0m\n\u001b[1;32m    247\u001b[0m     \u001b[0;32mdef\u001b[0m \u001b[0mregister_hook\u001b[0m\u001b[0;34m(\u001b[0m\u001b[0mself\u001b[0m\u001b[0;34m,\u001b[0m \u001b[0mhook\u001b[0m\u001b[0;34m)\u001b[0m\u001b[0;34m:\u001b[0m\u001b[0;34m\u001b[0m\u001b[0;34m\u001b[0m\u001b[0m\n",
            "\u001b[0;32m/usr/local/lib/python3.7/dist-packages/torch/autograd/__init__.py\u001b[0m in \u001b[0;36mbackward\u001b[0;34m(tensors, grad_tensors, retain_graph, create_graph, grad_variables, inputs)\u001b[0m\n\u001b[1;32m    145\u001b[0m     Variable._execution_engine.run_backward(\n\u001b[1;32m    146\u001b[0m         \u001b[0mtensors\u001b[0m\u001b[0;34m,\u001b[0m \u001b[0mgrad_tensors_\u001b[0m\u001b[0;34m,\u001b[0m \u001b[0mretain_graph\u001b[0m\u001b[0;34m,\u001b[0m \u001b[0mcreate_graph\u001b[0m\u001b[0;34m,\u001b[0m \u001b[0minputs\u001b[0m\u001b[0;34m,\u001b[0m\u001b[0;34m\u001b[0m\u001b[0;34m\u001b[0m\u001b[0m\n\u001b[0;32m--> 147\u001b[0;31m         allow_unreachable=True, accumulate_grad=True)  # allow_unreachable flag\n\u001b[0m\u001b[1;32m    148\u001b[0m \u001b[0;34m\u001b[0m\u001b[0m\n\u001b[1;32m    149\u001b[0m \u001b[0;34m\u001b[0m\u001b[0m\n",
            "\u001b[0;31mRuntimeError\u001b[0m: Trying to backward through the graph a second time, but the saved intermediate results have already been freed. Specify retain_graph=True when calling .backward() or autograd.grad() the first time."
          ]
        }
      ]
    },
    {
      "cell_type": "code",
      "metadata": {
        "id": "g3sX79ibp8Uc"
      },
      "source": [
        "x = torch.tensor([1., 2., 3.], requires_grad=True)\r\n",
        "y = 2*x + 1\r\n",
        "z = sum(y)\r\n",
        "z.backward(retain_graph=True)\r\n",
        "print(x.grad) # 2, 2, 2\r\n",
        "z.backward(retain_graph=True)\r\n",
        "print(x.grad) # 4, 4, 4"
      ],
      "execution_count": null,
      "outputs": []
    },
    {
      "cell_type": "code",
      "metadata": {
        "colab": {
          "base_uri": "https://localhost:8080/",
          "height": 400
        },
        "id": "JusnGZ4JsKCq",
        "outputId": "51e63234-132c-4b4b-cbc2-0fe779c1452e"
      },
      "source": [
        "x = torch.tensor([3])\r\n",
        "y = torch.tensor([10])\r\n",
        "a = torch.tensor([1.], requires_grad=True)\r\n",
        "b = torch.tensor([2.], requires_grad=True)\r\n",
        "c = a*x\r\n",
        "y_hat = c + b\r\n",
        "z = y_hat - y\r\n",
        "L = z**2\r\n",
        "make_dot(L)"
      ],
      "execution_count": 21,
      "outputs": [
        {
          "output_type": "execute_result",
          "data": {
            "text/plain": [
              "<graphviz.dot.Digraph at 0x7f814cc3edd0>"
            ],
            "image/svg+xml": "<?xml version=\"1.0\" encoding=\"UTF-8\" standalone=\"no\"?>\n<!DOCTYPE svg PUBLIC \"-//W3C//DTD SVG 1.1//EN\"\n \"http://www.w3.org/Graphics/SVG/1.1/DTD/svg11.dtd\">\n<!-- Generated by graphviz version 2.40.1 (20161225.0304)\n -->\n<!-- Title: %3 Pages: 1 -->\n<svg width=\"172pt\" height=\"285pt\"\n viewBox=\"0.00 0.00 171.50 285.00\" xmlns=\"http://www.w3.org/2000/svg\" xmlns:xlink=\"http://www.w3.org/1999/xlink\">\n<g id=\"graph0\" class=\"graph\" transform=\"scale(1 1) rotate(0) translate(4 281)\">\n<title>%3</title>\n<polygon fill=\"#ffffff\" stroke=\"transparent\" points=\"-4,4 -4,-281 167.5,-281 167.5,4 -4,4\"/>\n<!-- 140193315476432 -->\n<g id=\"node1\" class=\"node\">\n<title>140193315476432</title>\n<polygon fill=\"#caff70\" stroke=\"#000000\" points=\"137,-21 44,-21 44,0 137,0 137,-21\"/>\n<text text-anchor=\"middle\" x=\"90.5\" y=\"-7.4\" font-family=\"Times,serif\" font-size=\"12.00\" fill=\"#000000\">PowBackward0</text>\n</g>\n<!-- 140193315476176 -->\n<g id=\"node2\" class=\"node\">\n<title>140193315476176</title>\n<polygon fill=\"#d3d3d3\" stroke=\"#000000\" points=\"135.5,-78 45.5,-78 45.5,-57 135.5,-57 135.5,-78\"/>\n<text text-anchor=\"middle\" x=\"90.5\" y=\"-64.4\" font-family=\"Times,serif\" font-size=\"12.00\" fill=\"#000000\">SubBackward0</text>\n</g>\n<!-- 140193315476176&#45;&gt;140193315476432 -->\n<g id=\"edge1\" class=\"edge\">\n<title>140193315476176&#45;&gt;140193315476432</title>\n<path fill=\"none\" stroke=\"#000000\" d=\"M90.5,-56.7787C90.5,-49.6134 90.5,-39.9517 90.5,-31.3097\"/>\n<polygon fill=\"#000000\" stroke=\"#000000\" points=\"94.0001,-31.1732 90.5,-21.1732 87.0001,-31.1732 94.0001,-31.1732\"/>\n</g>\n<!-- 140193315417616 -->\n<g id=\"node3\" class=\"node\">\n<title>140193315417616</title>\n<polygon fill=\"#d3d3d3\" stroke=\"#000000\" points=\"136.5,-135 44.5,-135 44.5,-114 136.5,-114 136.5,-135\"/>\n<text text-anchor=\"middle\" x=\"90.5\" y=\"-121.4\" font-family=\"Times,serif\" font-size=\"12.00\" fill=\"#000000\">AddBackward0</text>\n</g>\n<!-- 140193315417616&#45;&gt;140193315476176 -->\n<g id=\"edge2\" class=\"edge\">\n<title>140193315417616&#45;&gt;140193315476176</title>\n<path fill=\"none\" stroke=\"#000000\" d=\"M90.5,-113.7787C90.5,-106.6134 90.5,-96.9517 90.5,-88.3097\"/>\n<polygon fill=\"#000000\" stroke=\"#000000\" points=\"94.0001,-88.1732 90.5,-78.1732 87.0001,-88.1732 94.0001,-88.1732\"/>\n</g>\n<!-- 140193315417104 -->\n<g id=\"node4\" class=\"node\">\n<title>140193315417104</title>\n<polygon fill=\"#d3d3d3\" stroke=\"#000000\" points=\"91,-199 0,-199 0,-178 91,-178 91,-199\"/>\n<text text-anchor=\"middle\" x=\"45.5\" y=\"-185.4\" font-family=\"Times,serif\" font-size=\"12.00\" fill=\"#000000\">MulBackward0</text>\n</g>\n<!-- 140193315417104&#45;&gt;140193315417616 -->\n<g id=\"edge3\" class=\"edge\">\n<title>140193315417104&#45;&gt;140193315417616</title>\n<path fill=\"none\" stroke=\"#000000\" d=\"M52.9308,-177.9317C59.4705,-168.6309 69.1534,-154.8597 77.0509,-143.6276\"/>\n<polygon fill=\"#000000\" stroke=\"#000000\" points=\"80.019,-145.4914 82.9077,-135.2979 74.2928,-141.4651 80.019,-145.4914\"/>\n</g>\n<!-- 140193315418000 -->\n<g id=\"node5\" class=\"node\">\n<title>140193315418000</title>\n<polygon fill=\"#add8e6\" stroke=\"#000000\" points=\"72.5,-277 18.5,-277 18.5,-242 72.5,-242 72.5,-277\"/>\n<text text-anchor=\"middle\" x=\"45.5\" y=\"-249.4\" font-family=\"Times,serif\" font-size=\"12.00\" fill=\"#000000\"> (1)</text>\n</g>\n<!-- 140193315418000&#45;&gt;140193315417104 -->\n<g id=\"edge4\" class=\"edge\">\n<title>140193315418000&#45;&gt;140193315417104</title>\n<path fill=\"none\" stroke=\"#000000\" d=\"M45.5,-241.9494C45.5,-232.058 45.5,-219.6435 45.5,-209.2693\"/>\n<polygon fill=\"#000000\" stroke=\"#000000\" points=\"49.0001,-209.0288 45.5,-199.0288 42.0001,-209.0289 49.0001,-209.0288\"/>\n</g>\n<!-- 140193315417360 -->\n<g id=\"node6\" class=\"node\">\n<title>140193315417360</title>\n<polygon fill=\"#add8e6\" stroke=\"#000000\" points=\"163.5,-206 109.5,-206 109.5,-171 163.5,-171 163.5,-206\"/>\n<text text-anchor=\"middle\" x=\"136.5\" y=\"-178.4\" font-family=\"Times,serif\" font-size=\"12.00\" fill=\"#000000\"> (1)</text>\n</g>\n<!-- 140193315417360&#45;&gt;140193315417616 -->\n<g id=\"edge5\" class=\"edge\">\n<title>140193315417360&#45;&gt;140193315417616</title>\n<path fill=\"none\" stroke=\"#000000\" d=\"M123.6864,-170.6724C117.6095,-162.2176 110.3436,-152.1085 104.1618,-143.5078\"/>\n<polygon fill=\"#000000\" stroke=\"#000000\" points=\"106.8859,-141.3009 98.2075,-135.2234 101.2018,-145.3863 106.8859,-141.3009\"/>\n</g>\n</g>\n</svg>\n"
          },
          "metadata": {
            "tags": []
          },
          "execution_count": 21
        }
      ]
    },
    {
      "cell_type": "code",
      "metadata": {
        "colab": {
          "base_uri": "https://localhost:8080/",
          "height": 306
        },
        "id": "3sjbZkcHzM_H",
        "outputId": "a021e819-d537-461d-8119-7126d8e98a72"
      },
      "source": [
        "x = torch.tensor([3])\r\n",
        "y = torch.tensor([10])\r\n",
        "a = torch.tensor([1.], requires_grad=True)\r\n",
        "a.requires_grad = False\r\n",
        "b = torch.tensor([2.], requires_grad=True)\r\n",
        "c = a*x\r\n",
        "y_hat = c + b\r\n",
        "z = y_hat - y\r\n",
        "L = z**2\r\n",
        "make_dot(L)"
      ],
      "execution_count": 22,
      "outputs": [
        {
          "output_type": "execute_result",
          "data": {
            "text/plain": [
              "<graphviz.dot.Digraph at 0x7f814cc537d0>"
            ],
            "image/svg+xml": "<?xml version=\"1.0\" encoding=\"UTF-8\" standalone=\"no\"?>\n<!DOCTYPE svg PUBLIC \"-//W3C//DTD SVG 1.1//EN\"\n \"http://www.w3.org/Graphics/SVG/1.1/DTD/svg11.dtd\">\n<!-- Generated by graphviz version 2.40.1 (20161225.0304)\n -->\n<!-- Title: %3 Pages: 1 -->\n<svg width=\"101pt\" height=\"214pt\"\n viewBox=\"0.00 0.00 101.00 214.00\" xmlns=\"http://www.w3.org/2000/svg\" xmlns:xlink=\"http://www.w3.org/1999/xlink\">\n<g id=\"graph0\" class=\"graph\" transform=\"scale(1 1) rotate(0) translate(4 210)\">\n<title>%3</title>\n<polygon fill=\"#ffffff\" stroke=\"transparent\" points=\"-4,4 -4,-210 97,-210 97,4 -4,4\"/>\n<!-- 140193315417296 -->\n<g id=\"node1\" class=\"node\">\n<title>140193315417296</title>\n<polygon fill=\"#caff70\" stroke=\"#000000\" points=\"93,-21 0,-21 0,0 93,0 93,-21\"/>\n<text text-anchor=\"middle\" x=\"46.5\" y=\"-7.4\" font-family=\"Times,serif\" font-size=\"12.00\" fill=\"#000000\">PowBackward0</text>\n</g>\n<!-- 140193315414288 -->\n<g id=\"node2\" class=\"node\">\n<title>140193315414288</title>\n<polygon fill=\"#d3d3d3\" stroke=\"#000000\" points=\"91.5,-78 1.5,-78 1.5,-57 91.5,-57 91.5,-78\"/>\n<text text-anchor=\"middle\" x=\"46.5\" y=\"-64.4\" font-family=\"Times,serif\" font-size=\"12.00\" fill=\"#000000\">SubBackward0</text>\n</g>\n<!-- 140193315414288&#45;&gt;140193315417296 -->\n<g id=\"edge1\" class=\"edge\">\n<title>140193315414288&#45;&gt;140193315417296</title>\n<path fill=\"none\" stroke=\"#000000\" d=\"M46.5,-56.7787C46.5,-49.6134 46.5,-39.9517 46.5,-31.3097\"/>\n<polygon fill=\"#000000\" stroke=\"#000000\" points=\"50.0001,-31.1732 46.5,-21.1732 43.0001,-31.1732 50.0001,-31.1732\"/>\n</g>\n<!-- 140193315502992 -->\n<g id=\"node3\" class=\"node\">\n<title>140193315502992</title>\n<polygon fill=\"#d3d3d3\" stroke=\"#000000\" points=\"92.5,-135 .5,-135 .5,-114 92.5,-114 92.5,-135\"/>\n<text text-anchor=\"middle\" x=\"46.5\" y=\"-121.4\" font-family=\"Times,serif\" font-size=\"12.00\" fill=\"#000000\">AddBackward0</text>\n</g>\n<!-- 140193315502992&#45;&gt;140193315414288 -->\n<g id=\"edge2\" class=\"edge\">\n<title>140193315502992&#45;&gt;140193315414288</title>\n<path fill=\"none\" stroke=\"#000000\" d=\"M46.5,-113.7787C46.5,-106.6134 46.5,-96.9517 46.5,-88.3097\"/>\n<polygon fill=\"#000000\" stroke=\"#000000\" points=\"50.0001,-88.1732 46.5,-78.1732 43.0001,-88.1732 50.0001,-88.1732\"/>\n</g>\n<!-- 140193315500944 -->\n<g id=\"node4\" class=\"node\">\n<title>140193315500944</title>\n<polygon fill=\"#add8e6\" stroke=\"#000000\" points=\"73.5,-206 19.5,-206 19.5,-171 73.5,-171 73.5,-206\"/>\n<text text-anchor=\"middle\" x=\"46.5\" y=\"-178.4\" font-family=\"Times,serif\" font-size=\"12.00\" fill=\"#000000\"> (1)</text>\n</g>\n<!-- 140193315500944&#45;&gt;140193315502992 -->\n<g id=\"edge3\" class=\"edge\">\n<title>140193315500944&#45;&gt;140193315502992</title>\n<path fill=\"none\" stroke=\"#000000\" d=\"M46.5,-170.6724C46.5,-162.8405 46.5,-153.5893 46.5,-145.4323\"/>\n<polygon fill=\"#000000\" stroke=\"#000000\" points=\"50.0001,-145.2234 46.5,-135.2234 43.0001,-145.2235 50.0001,-145.2234\"/>\n</g>\n</g>\n</svg>\n"
          },
          "metadata": {
            "tags": []
          },
          "execution_count": 22
        }
      ]
    }
  ]
}
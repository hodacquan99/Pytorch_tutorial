{
  "nbformat": 4,
  "nbformat_minor": 0,
  "metadata": {
    "colab": {
      "name": "TorchVision.ipynb",
      "provenance": []
    },
    "kernelspec": {
      "name": "python3",
      "display_name": "Python 3"
    },
    "language_info": {
      "name": "python"
    },
    "widgets": {
      "application/vnd.jupyter.widget-state+json": {
        "85b412593a78452bafe3835cb5de5443": {
          "model_module": "@jupyter-widgets/controls",
          "model_name": "HBoxModel",
          "state": {
            "_view_name": "HBoxView",
            "_dom_classes": [],
            "_model_name": "HBoxModel",
            "_view_module": "@jupyter-widgets/controls",
            "_model_module_version": "1.5.0",
            "_view_count": null,
            "_view_module_version": "1.5.0",
            "box_style": "",
            "layout": "IPY_MODEL_5018a32424294f63995c4679e5b061a1",
            "_model_module": "@jupyter-widgets/controls",
            "children": [
              "IPY_MODEL_2dbadc7884034498bffc4762cea9a87d",
              "IPY_MODEL_2ec27c59bb63488b9b46d7d702fde52a"
            ]
          }
        },
        "5018a32424294f63995c4679e5b061a1": {
          "model_module": "@jupyter-widgets/base",
          "model_name": "LayoutModel",
          "state": {
            "_view_name": "LayoutView",
            "grid_template_rows": null,
            "right": null,
            "justify_content": null,
            "_view_module": "@jupyter-widgets/base",
            "overflow": null,
            "_model_module_version": "1.2.0",
            "_view_count": null,
            "flex_flow": null,
            "width": null,
            "min_width": null,
            "border": null,
            "align_items": null,
            "bottom": null,
            "_model_module": "@jupyter-widgets/base",
            "top": null,
            "grid_column": null,
            "overflow_y": null,
            "overflow_x": null,
            "grid_auto_flow": null,
            "grid_area": null,
            "grid_template_columns": null,
            "flex": null,
            "_model_name": "LayoutModel",
            "justify_items": null,
            "grid_row": null,
            "max_height": null,
            "align_content": null,
            "visibility": null,
            "align_self": null,
            "height": null,
            "min_height": null,
            "padding": null,
            "grid_auto_rows": null,
            "grid_gap": null,
            "max_width": null,
            "order": null,
            "_view_module_version": "1.2.0",
            "grid_template_areas": null,
            "object_position": null,
            "object_fit": null,
            "grid_auto_columns": null,
            "margin": null,
            "display": null,
            "left": null
          }
        },
        "2dbadc7884034498bffc4762cea9a87d": {
          "model_module": "@jupyter-widgets/controls",
          "model_name": "FloatProgressModel",
          "state": {
            "_view_name": "ProgressView",
            "style": "IPY_MODEL_75d14d576eda47d5bbad98e1b17f7148",
            "_dom_classes": [],
            "description": "100%",
            "_model_name": "FloatProgressModel",
            "bar_style": "success",
            "max": 102502400,
            "_view_module": "@jupyter-widgets/controls",
            "_model_module_version": "1.5.0",
            "value": 102502400,
            "_view_count": null,
            "_view_module_version": "1.5.0",
            "orientation": "horizontal",
            "min": 0,
            "description_tooltip": null,
            "_model_module": "@jupyter-widgets/controls",
            "layout": "IPY_MODEL_559ebacff8ef4e2380e9c2ad31e226c7"
          }
        },
        "2ec27c59bb63488b9b46d7d702fde52a": {
          "model_module": "@jupyter-widgets/controls",
          "model_name": "HTMLModel",
          "state": {
            "_view_name": "HTMLView",
            "style": "IPY_MODEL_6c495a8f739a42afa97051c1c80cd149",
            "_dom_classes": [],
            "description": "",
            "_model_name": "HTMLModel",
            "placeholder": "​",
            "_view_module": "@jupyter-widgets/controls",
            "_model_module_version": "1.5.0",
            "value": " 97.8M/97.8M [08:49&lt;00:00, 194kB/s]",
            "_view_count": null,
            "_view_module_version": "1.5.0",
            "description_tooltip": null,
            "_model_module": "@jupyter-widgets/controls",
            "layout": "IPY_MODEL_7f0bb805e5314b5f9004e04b0073bc9c"
          }
        },
        "75d14d576eda47d5bbad98e1b17f7148": {
          "model_module": "@jupyter-widgets/controls",
          "model_name": "ProgressStyleModel",
          "state": {
            "_view_name": "StyleView",
            "_model_name": "ProgressStyleModel",
            "description_width": "initial",
            "_view_module": "@jupyter-widgets/base",
            "_model_module_version": "1.5.0",
            "_view_count": null,
            "_view_module_version": "1.2.0",
            "bar_color": null,
            "_model_module": "@jupyter-widgets/controls"
          }
        },
        "559ebacff8ef4e2380e9c2ad31e226c7": {
          "model_module": "@jupyter-widgets/base",
          "model_name": "LayoutModel",
          "state": {
            "_view_name": "LayoutView",
            "grid_template_rows": null,
            "right": null,
            "justify_content": null,
            "_view_module": "@jupyter-widgets/base",
            "overflow": null,
            "_model_module_version": "1.2.0",
            "_view_count": null,
            "flex_flow": null,
            "width": null,
            "min_width": null,
            "border": null,
            "align_items": null,
            "bottom": null,
            "_model_module": "@jupyter-widgets/base",
            "top": null,
            "grid_column": null,
            "overflow_y": null,
            "overflow_x": null,
            "grid_auto_flow": null,
            "grid_area": null,
            "grid_template_columns": null,
            "flex": null,
            "_model_name": "LayoutModel",
            "justify_items": null,
            "grid_row": null,
            "max_height": null,
            "align_content": null,
            "visibility": null,
            "align_self": null,
            "height": null,
            "min_height": null,
            "padding": null,
            "grid_auto_rows": null,
            "grid_gap": null,
            "max_width": null,
            "order": null,
            "_view_module_version": "1.2.0",
            "grid_template_areas": null,
            "object_position": null,
            "object_fit": null,
            "grid_auto_columns": null,
            "margin": null,
            "display": null,
            "left": null
          }
        },
        "6c495a8f739a42afa97051c1c80cd149": {
          "model_module": "@jupyter-widgets/controls",
          "model_name": "DescriptionStyleModel",
          "state": {
            "_view_name": "StyleView",
            "_model_name": "DescriptionStyleModel",
            "description_width": "",
            "_view_module": "@jupyter-widgets/base",
            "_model_module_version": "1.5.0",
            "_view_count": null,
            "_view_module_version": "1.2.0",
            "_model_module": "@jupyter-widgets/controls"
          }
        },
        "7f0bb805e5314b5f9004e04b0073bc9c": {
          "model_module": "@jupyter-widgets/base",
          "model_name": "LayoutModel",
          "state": {
            "_view_name": "LayoutView",
            "grid_template_rows": null,
            "right": null,
            "justify_content": null,
            "_view_module": "@jupyter-widgets/base",
            "overflow": null,
            "_model_module_version": "1.2.0",
            "_view_count": null,
            "flex_flow": null,
            "width": null,
            "min_width": null,
            "border": null,
            "align_items": null,
            "bottom": null,
            "_model_module": "@jupyter-widgets/base",
            "top": null,
            "grid_column": null,
            "overflow_y": null,
            "overflow_x": null,
            "grid_auto_flow": null,
            "grid_area": null,
            "grid_template_columns": null,
            "flex": null,
            "_model_name": "LayoutModel",
            "justify_items": null,
            "grid_row": null,
            "max_height": null,
            "align_content": null,
            "visibility": null,
            "align_self": null,
            "height": null,
            "min_height": null,
            "padding": null,
            "grid_auto_rows": null,
            "grid_gap": null,
            "max_width": null,
            "order": null,
            "_view_module_version": "1.2.0",
            "grid_template_areas": null,
            "object_position": null,
            "object_fit": null,
            "grid_auto_columns": null,
            "margin": null,
            "display": null,
            "left": null
          }
        }
      }
    }
  },
  "cells": [
    {
      "cell_type": "code",
      "metadata": {
        "id": "mTyl6Jgo82XB"
      },
      "source": [
        "import torch"
      ],
      "execution_count": null,
      "outputs": []
    },
    {
      "cell_type": "code",
      "metadata": {
        "colab": {
          "base_uri": "https://localhost:8080/"
        },
        "id": "oroj6DSC8jCe",
        "outputId": "47866a2d-9744-474c-9f13-fb86d6e98e0e"
      },
      "source": [
        "from torchvision import models\n",
        "dir(models)"
      ],
      "execution_count": null,
      "outputs": [
        {
          "output_type": "execute_result",
          "data": {
            "text/plain": [
              "['AlexNet',\n",
              " 'DenseNet',\n",
              " 'GoogLeNet',\n",
              " 'GoogLeNetOutputs',\n",
              " 'Inception3',\n",
              " 'InceptionOutputs',\n",
              " 'MNASNet',\n",
              " 'MobileNetV2',\n",
              " 'MobileNetV3',\n",
              " 'ResNet',\n",
              " 'ShuffleNetV2',\n",
              " 'SqueezeNet',\n",
              " 'VGG',\n",
              " '_GoogLeNetOutputs',\n",
              " '_InceptionOutputs',\n",
              " '__builtins__',\n",
              " '__cached__',\n",
              " '__doc__',\n",
              " '__file__',\n",
              " '__loader__',\n",
              " '__name__',\n",
              " '__package__',\n",
              " '__path__',\n",
              " '__spec__',\n",
              " '_utils',\n",
              " 'alexnet',\n",
              " 'densenet',\n",
              " 'densenet121',\n",
              " 'densenet161',\n",
              " 'densenet169',\n",
              " 'densenet201',\n",
              " 'detection',\n",
              " 'googlenet',\n",
              " 'inception',\n",
              " 'inception_v3',\n",
              " 'mnasnet',\n",
              " 'mnasnet0_5',\n",
              " 'mnasnet0_75',\n",
              " 'mnasnet1_0',\n",
              " 'mnasnet1_3',\n",
              " 'mobilenet',\n",
              " 'mobilenet_v2',\n",
              " 'mobilenet_v3_large',\n",
              " 'mobilenet_v3_small',\n",
              " 'mobilenetv2',\n",
              " 'mobilenetv3',\n",
              " 'quantization',\n",
              " 'resnet',\n",
              " 'resnet101',\n",
              " 'resnet152',\n",
              " 'resnet18',\n",
              " 'resnet34',\n",
              " 'resnet50',\n",
              " 'resnext101_32x8d',\n",
              " 'resnext50_32x4d',\n",
              " 'segmentation',\n",
              " 'shufflenet_v2_x0_5',\n",
              " 'shufflenet_v2_x1_0',\n",
              " 'shufflenet_v2_x1_5',\n",
              " 'shufflenet_v2_x2_0',\n",
              " 'shufflenetv2',\n",
              " 'squeezenet',\n",
              " 'squeezenet1_0',\n",
              " 'squeezenet1_1',\n",
              " 'utils',\n",
              " 'vgg',\n",
              " 'vgg11',\n",
              " 'vgg11_bn',\n",
              " 'vgg13',\n",
              " 'vgg13_bn',\n",
              " 'vgg16',\n",
              " 'vgg16_bn',\n",
              " 'vgg19',\n",
              " 'vgg19_bn',\n",
              " 'video',\n",
              " 'wide_resnet101_2',\n",
              " 'wide_resnet50_2']"
            ]
          },
          "metadata": {
            "tags": []
          },
          "execution_count": 1
        }
      ]
    },
    {
      "cell_type": "code",
      "metadata": {
        "colab": {
          "base_uri": "https://localhost:8080/",
          "height": 82,
          "referenced_widgets": [
            "85b412593a78452bafe3835cb5de5443",
            "5018a32424294f63995c4679e5b061a1",
            "2dbadc7884034498bffc4762cea9a87d",
            "2ec27c59bb63488b9b46d7d702fde52a",
            "75d14d576eda47d5bbad98e1b17f7148",
            "559ebacff8ef4e2380e9c2ad31e226c7",
            "6c495a8f739a42afa97051c1c80cd149",
            "7f0bb805e5314b5f9004e04b0073bc9c"
          ]
        },
        "id": "Sz7gXZtL84Tc",
        "outputId": "19d08cd7-83cb-485d-b2f6-847925509002"
      },
      "source": [
        "resnet = models.resnet50(pretrained=True)"
      ],
      "execution_count": null,
      "outputs": [
        {
          "output_type": "stream",
          "text": [
            "Downloading: \"https://download.pytorch.org/models/resnet50-19c8e357.pth\" to /root/.cache/torch/hub/checkpoints/resnet50-19c8e357.pth\n"
          ],
          "name": "stderr"
        },
        {
          "output_type": "display_data",
          "data": {
            "application/vnd.jupyter.widget-view+json": {
              "model_id": "85b412593a78452bafe3835cb5de5443",
              "version_minor": 0,
              "version_major": 2
            },
            "text/plain": [
              "HBox(children=(FloatProgress(value=0.0, max=102502400.0), HTML(value='')))"
            ]
          },
          "metadata": {
            "tags": []
          }
        },
        {
          "output_type": "stream",
          "text": [
            "\n"
          ],
          "name": "stdout"
        }
      ]
    },
    {
      "cell_type": "code",
      "metadata": {
        "colab": {
          "base_uri": "https://localhost:8080/"
        },
        "id": "XjzDDLN-8u-u",
        "outputId": "07ee313b-09da-4ea7-dce1-17195d33917e"
      },
      "source": [
        "print(resnet)"
      ],
      "execution_count": null,
      "outputs": [
        {
          "output_type": "stream",
          "text": [
            "ResNet(\n",
            "  (conv1): Conv2d(3, 64, kernel_size=(7, 7), stride=(2, 2), padding=(3, 3), bias=False)\n",
            "  (bn1): BatchNorm2d(64, eps=1e-05, momentum=0.1, affine=True, track_running_stats=True)\n",
            "  (relu): ReLU(inplace=True)\n",
            "  (maxpool): MaxPool2d(kernel_size=3, stride=2, padding=1, dilation=1, ceil_mode=False)\n",
            "  (layer1): Sequential(\n",
            "    (0): Bottleneck(\n",
            "      (conv1): Conv2d(64, 64, kernel_size=(1, 1), stride=(1, 1), bias=False)\n",
            "      (bn1): BatchNorm2d(64, eps=1e-05, momentum=0.1, affine=True, track_running_stats=True)\n",
            "      (conv2): Conv2d(64, 64, kernel_size=(3, 3), stride=(1, 1), padding=(1, 1), bias=False)\n",
            "      (bn2): BatchNorm2d(64, eps=1e-05, momentum=0.1, affine=True, track_running_stats=True)\n",
            "      (conv3): Conv2d(64, 256, kernel_size=(1, 1), stride=(1, 1), bias=False)\n",
            "      (bn3): BatchNorm2d(256, eps=1e-05, momentum=0.1, affine=True, track_running_stats=True)\n",
            "      (relu): ReLU(inplace=True)\n",
            "      (downsample): Sequential(\n",
            "        (0): Conv2d(64, 256, kernel_size=(1, 1), stride=(1, 1), bias=False)\n",
            "        (1): BatchNorm2d(256, eps=1e-05, momentum=0.1, affine=True, track_running_stats=True)\n",
            "      )\n",
            "    )\n",
            "    (1): Bottleneck(\n",
            "      (conv1): Conv2d(256, 64, kernel_size=(1, 1), stride=(1, 1), bias=False)\n",
            "      (bn1): BatchNorm2d(64, eps=1e-05, momentum=0.1, affine=True, track_running_stats=True)\n",
            "      (conv2): Conv2d(64, 64, kernel_size=(3, 3), stride=(1, 1), padding=(1, 1), bias=False)\n",
            "      (bn2): BatchNorm2d(64, eps=1e-05, momentum=0.1, affine=True, track_running_stats=True)\n",
            "      (conv3): Conv2d(64, 256, kernel_size=(1, 1), stride=(1, 1), bias=False)\n",
            "      (bn3): BatchNorm2d(256, eps=1e-05, momentum=0.1, affine=True, track_running_stats=True)\n",
            "      (relu): ReLU(inplace=True)\n",
            "    )\n",
            "    (2): Bottleneck(\n",
            "      (conv1): Conv2d(256, 64, kernel_size=(1, 1), stride=(1, 1), bias=False)\n",
            "      (bn1): BatchNorm2d(64, eps=1e-05, momentum=0.1, affine=True, track_running_stats=True)\n",
            "      (conv2): Conv2d(64, 64, kernel_size=(3, 3), stride=(1, 1), padding=(1, 1), bias=False)\n",
            "      (bn2): BatchNorm2d(64, eps=1e-05, momentum=0.1, affine=True, track_running_stats=True)\n",
            "      (conv3): Conv2d(64, 256, kernel_size=(1, 1), stride=(1, 1), bias=False)\n",
            "      (bn3): BatchNorm2d(256, eps=1e-05, momentum=0.1, affine=True, track_running_stats=True)\n",
            "      (relu): ReLU(inplace=True)\n",
            "    )\n",
            "  )\n",
            "  (layer2): Sequential(\n",
            "    (0): Bottleneck(\n",
            "      (conv1): Conv2d(256, 128, kernel_size=(1, 1), stride=(1, 1), bias=False)\n",
            "      (bn1): BatchNorm2d(128, eps=1e-05, momentum=0.1, affine=True, track_running_stats=True)\n",
            "      (conv2): Conv2d(128, 128, kernel_size=(3, 3), stride=(2, 2), padding=(1, 1), bias=False)\n",
            "      (bn2): BatchNorm2d(128, eps=1e-05, momentum=0.1, affine=True, track_running_stats=True)\n",
            "      (conv3): Conv2d(128, 512, kernel_size=(1, 1), stride=(1, 1), bias=False)\n",
            "      (bn3): BatchNorm2d(512, eps=1e-05, momentum=0.1, affine=True, track_running_stats=True)\n",
            "      (relu): ReLU(inplace=True)\n",
            "      (downsample): Sequential(\n",
            "        (0): Conv2d(256, 512, kernel_size=(1, 1), stride=(2, 2), bias=False)\n",
            "        (1): BatchNorm2d(512, eps=1e-05, momentum=0.1, affine=True, track_running_stats=True)\n",
            "      )\n",
            "    )\n",
            "    (1): Bottleneck(\n",
            "      (conv1): Conv2d(512, 128, kernel_size=(1, 1), stride=(1, 1), bias=False)\n",
            "      (bn1): BatchNorm2d(128, eps=1e-05, momentum=0.1, affine=True, track_running_stats=True)\n",
            "      (conv2): Conv2d(128, 128, kernel_size=(3, 3), stride=(1, 1), padding=(1, 1), bias=False)\n",
            "      (bn2): BatchNorm2d(128, eps=1e-05, momentum=0.1, affine=True, track_running_stats=True)\n",
            "      (conv3): Conv2d(128, 512, kernel_size=(1, 1), stride=(1, 1), bias=False)\n",
            "      (bn3): BatchNorm2d(512, eps=1e-05, momentum=0.1, affine=True, track_running_stats=True)\n",
            "      (relu): ReLU(inplace=True)\n",
            "    )\n",
            "    (2): Bottleneck(\n",
            "      (conv1): Conv2d(512, 128, kernel_size=(1, 1), stride=(1, 1), bias=False)\n",
            "      (bn1): BatchNorm2d(128, eps=1e-05, momentum=0.1, affine=True, track_running_stats=True)\n",
            "      (conv2): Conv2d(128, 128, kernel_size=(3, 3), stride=(1, 1), padding=(1, 1), bias=False)\n",
            "      (bn2): BatchNorm2d(128, eps=1e-05, momentum=0.1, affine=True, track_running_stats=True)\n",
            "      (conv3): Conv2d(128, 512, kernel_size=(1, 1), stride=(1, 1), bias=False)\n",
            "      (bn3): BatchNorm2d(512, eps=1e-05, momentum=0.1, affine=True, track_running_stats=True)\n",
            "      (relu): ReLU(inplace=True)\n",
            "    )\n",
            "    (3): Bottleneck(\n",
            "      (conv1): Conv2d(512, 128, kernel_size=(1, 1), stride=(1, 1), bias=False)\n",
            "      (bn1): BatchNorm2d(128, eps=1e-05, momentum=0.1, affine=True, track_running_stats=True)\n",
            "      (conv2): Conv2d(128, 128, kernel_size=(3, 3), stride=(1, 1), padding=(1, 1), bias=False)\n",
            "      (bn2): BatchNorm2d(128, eps=1e-05, momentum=0.1, affine=True, track_running_stats=True)\n",
            "      (conv3): Conv2d(128, 512, kernel_size=(1, 1), stride=(1, 1), bias=False)\n",
            "      (bn3): BatchNorm2d(512, eps=1e-05, momentum=0.1, affine=True, track_running_stats=True)\n",
            "      (relu): ReLU(inplace=True)\n",
            "    )\n",
            "  )\n",
            "  (layer3): Sequential(\n",
            "    (0): Bottleneck(\n",
            "      (conv1): Conv2d(512, 256, kernel_size=(1, 1), stride=(1, 1), bias=False)\n",
            "      (bn1): BatchNorm2d(256, eps=1e-05, momentum=0.1, affine=True, track_running_stats=True)\n",
            "      (conv2): Conv2d(256, 256, kernel_size=(3, 3), stride=(2, 2), padding=(1, 1), bias=False)\n",
            "      (bn2): BatchNorm2d(256, eps=1e-05, momentum=0.1, affine=True, track_running_stats=True)\n",
            "      (conv3): Conv2d(256, 1024, kernel_size=(1, 1), stride=(1, 1), bias=False)\n",
            "      (bn3): BatchNorm2d(1024, eps=1e-05, momentum=0.1, affine=True, track_running_stats=True)\n",
            "      (relu): ReLU(inplace=True)\n",
            "      (downsample): Sequential(\n",
            "        (0): Conv2d(512, 1024, kernel_size=(1, 1), stride=(2, 2), bias=False)\n",
            "        (1): BatchNorm2d(1024, eps=1e-05, momentum=0.1, affine=True, track_running_stats=True)\n",
            "      )\n",
            "    )\n",
            "    (1): Bottleneck(\n",
            "      (conv1): Conv2d(1024, 256, kernel_size=(1, 1), stride=(1, 1), bias=False)\n",
            "      (bn1): BatchNorm2d(256, eps=1e-05, momentum=0.1, affine=True, track_running_stats=True)\n",
            "      (conv2): Conv2d(256, 256, kernel_size=(3, 3), stride=(1, 1), padding=(1, 1), bias=False)\n",
            "      (bn2): BatchNorm2d(256, eps=1e-05, momentum=0.1, affine=True, track_running_stats=True)\n",
            "      (conv3): Conv2d(256, 1024, kernel_size=(1, 1), stride=(1, 1), bias=False)\n",
            "      (bn3): BatchNorm2d(1024, eps=1e-05, momentum=0.1, affine=True, track_running_stats=True)\n",
            "      (relu): ReLU(inplace=True)\n",
            "    )\n",
            "    (2): Bottleneck(\n",
            "      (conv1): Conv2d(1024, 256, kernel_size=(1, 1), stride=(1, 1), bias=False)\n",
            "      (bn1): BatchNorm2d(256, eps=1e-05, momentum=0.1, affine=True, track_running_stats=True)\n",
            "      (conv2): Conv2d(256, 256, kernel_size=(3, 3), stride=(1, 1), padding=(1, 1), bias=False)\n",
            "      (bn2): BatchNorm2d(256, eps=1e-05, momentum=0.1, affine=True, track_running_stats=True)\n",
            "      (conv3): Conv2d(256, 1024, kernel_size=(1, 1), stride=(1, 1), bias=False)\n",
            "      (bn3): BatchNorm2d(1024, eps=1e-05, momentum=0.1, affine=True, track_running_stats=True)\n",
            "      (relu): ReLU(inplace=True)\n",
            "    )\n",
            "    (3): Bottleneck(\n",
            "      (conv1): Conv2d(1024, 256, kernel_size=(1, 1), stride=(1, 1), bias=False)\n",
            "      (bn1): BatchNorm2d(256, eps=1e-05, momentum=0.1, affine=True, track_running_stats=True)\n",
            "      (conv2): Conv2d(256, 256, kernel_size=(3, 3), stride=(1, 1), padding=(1, 1), bias=False)\n",
            "      (bn2): BatchNorm2d(256, eps=1e-05, momentum=0.1, affine=True, track_running_stats=True)\n",
            "      (conv3): Conv2d(256, 1024, kernel_size=(1, 1), stride=(1, 1), bias=False)\n",
            "      (bn3): BatchNorm2d(1024, eps=1e-05, momentum=0.1, affine=True, track_running_stats=True)\n",
            "      (relu): ReLU(inplace=True)\n",
            "    )\n",
            "    (4): Bottleneck(\n",
            "      (conv1): Conv2d(1024, 256, kernel_size=(1, 1), stride=(1, 1), bias=False)\n",
            "      (bn1): BatchNorm2d(256, eps=1e-05, momentum=0.1, affine=True, track_running_stats=True)\n",
            "      (conv2): Conv2d(256, 256, kernel_size=(3, 3), stride=(1, 1), padding=(1, 1), bias=False)\n",
            "      (bn2): BatchNorm2d(256, eps=1e-05, momentum=0.1, affine=True, track_running_stats=True)\n",
            "      (conv3): Conv2d(256, 1024, kernel_size=(1, 1), stride=(1, 1), bias=False)\n",
            "      (bn3): BatchNorm2d(1024, eps=1e-05, momentum=0.1, affine=True, track_running_stats=True)\n",
            "      (relu): ReLU(inplace=True)\n",
            "    )\n",
            "    (5): Bottleneck(\n",
            "      (conv1): Conv2d(1024, 256, kernel_size=(1, 1), stride=(1, 1), bias=False)\n",
            "      (bn1): BatchNorm2d(256, eps=1e-05, momentum=0.1, affine=True, track_running_stats=True)\n",
            "      (conv2): Conv2d(256, 256, kernel_size=(3, 3), stride=(1, 1), padding=(1, 1), bias=False)\n",
            "      (bn2): BatchNorm2d(256, eps=1e-05, momentum=0.1, affine=True, track_running_stats=True)\n",
            "      (conv3): Conv2d(256, 1024, kernel_size=(1, 1), stride=(1, 1), bias=False)\n",
            "      (bn3): BatchNorm2d(1024, eps=1e-05, momentum=0.1, affine=True, track_running_stats=True)\n",
            "      (relu): ReLU(inplace=True)\n",
            "    )\n",
            "  )\n",
            "  (layer4): Sequential(\n",
            "    (0): Bottleneck(\n",
            "      (conv1): Conv2d(1024, 512, kernel_size=(1, 1), stride=(1, 1), bias=False)\n",
            "      (bn1): BatchNorm2d(512, eps=1e-05, momentum=0.1, affine=True, track_running_stats=True)\n",
            "      (conv2): Conv2d(512, 512, kernel_size=(3, 3), stride=(2, 2), padding=(1, 1), bias=False)\n",
            "      (bn2): BatchNorm2d(512, eps=1e-05, momentum=0.1, affine=True, track_running_stats=True)\n",
            "      (conv3): Conv2d(512, 2048, kernel_size=(1, 1), stride=(1, 1), bias=False)\n",
            "      (bn3): BatchNorm2d(2048, eps=1e-05, momentum=0.1, affine=True, track_running_stats=True)\n",
            "      (relu): ReLU(inplace=True)\n",
            "      (downsample): Sequential(\n",
            "        (0): Conv2d(1024, 2048, kernel_size=(1, 1), stride=(2, 2), bias=False)\n",
            "        (1): BatchNorm2d(2048, eps=1e-05, momentum=0.1, affine=True, track_running_stats=True)\n",
            "      )\n",
            "    )\n",
            "    (1): Bottleneck(\n",
            "      (conv1): Conv2d(2048, 512, kernel_size=(1, 1), stride=(1, 1), bias=False)\n",
            "      (bn1): BatchNorm2d(512, eps=1e-05, momentum=0.1, affine=True, track_running_stats=True)\n",
            "      (conv2): Conv2d(512, 512, kernel_size=(3, 3), stride=(1, 1), padding=(1, 1), bias=False)\n",
            "      (bn2): BatchNorm2d(512, eps=1e-05, momentum=0.1, affine=True, track_running_stats=True)\n",
            "      (conv3): Conv2d(512, 2048, kernel_size=(1, 1), stride=(1, 1), bias=False)\n",
            "      (bn3): BatchNorm2d(2048, eps=1e-05, momentum=0.1, affine=True, track_running_stats=True)\n",
            "      (relu): ReLU(inplace=True)\n",
            "    )\n",
            "    (2): Bottleneck(\n",
            "      (conv1): Conv2d(2048, 512, kernel_size=(1, 1), stride=(1, 1), bias=False)\n",
            "      (bn1): BatchNorm2d(512, eps=1e-05, momentum=0.1, affine=True, track_running_stats=True)\n",
            "      (conv2): Conv2d(512, 512, kernel_size=(3, 3), stride=(1, 1), padding=(1, 1), bias=False)\n",
            "      (bn2): BatchNorm2d(512, eps=1e-05, momentum=0.1, affine=True, track_running_stats=True)\n",
            "      (conv3): Conv2d(512, 2048, kernel_size=(1, 1), stride=(1, 1), bias=False)\n",
            "      (bn3): BatchNorm2d(2048, eps=1e-05, momentum=0.1, affine=True, track_running_stats=True)\n",
            "      (relu): ReLU(inplace=True)\n",
            "    )\n",
            "  )\n",
            "  (avgpool): AdaptiveAvgPool2d(output_size=(1, 1))\n",
            "  (fc): Linear(in_features=2048, out_features=1000, bias=True)\n",
            ")\n"
          ],
          "name": "stdout"
        }
      ]
    },
    {
      "cell_type": "code",
      "metadata": {
        "id": "ipAwGkY5BhBq"
      },
      "source": [
        "from torchvision import transforms\n",
        "transform = transforms.Compose([  \n",
        " transforms.Resize(256),\n",
        " transforms.CenterCrop(224),\n",
        " transforms.ToTensor(),\n",
        " transforms.Normalize(\n",
        " mean=[0.485, 0.456, 0.406],\n",
        " std=[0.229, 0.224, 0.225]\n",
        " )])\n"
      ],
      "execution_count": null,
      "outputs": []
    },
    {
      "cell_type": "code",
      "metadata": {
        "colab": {
          "base_uri": "https://localhost:8080/"
        },
        "id": "rVxEVCWfWAiX",
        "outputId": "e02880b4-27df-4360-a900-9cfa75147c83"
      },
      "source": [
        "%cd '/content/drive/MyDrive/Pytorch/Pytorch Tutorial'\n",
        "!ls"
      ],
      "execution_count": null,
      "outputs": [
        {
          "output_type": "stream",
          "text": [
            "/content/drive/MyDrive/Pytorch/Pytorch Tutorial\n",
            " Autograd.ipynb\t\t 'CNN MNIST.ipynb'\n",
            " cat.jpg\t\t  data_linear.csv\n",
            " cifar-10-batches-py\t 'Linear regression.ipynb'\n",
            " CIFAR10.ipynb\t\t 'Torch Linear Regression.ipynb'\n",
            " cifar-10-python.tar.gz   TorchVision.ipynb\n"
          ],
          "name": "stdout"
        }
      ]
    },
    {
      "cell_type": "code",
      "metadata": {
        "id": "aHO3MGxIR2Hl"
      },
      "source": [
        "from PIL import Image\n",
        "img = Image.open(\"cat.jpg\")"
      ],
      "execution_count": null,
      "outputs": []
    },
    {
      "cell_type": "code",
      "metadata": {
        "colab": {
          "base_uri": "https://localhost:8080/",
          "height": 286
        },
        "id": "v-Cnzh0yWJo7",
        "outputId": "a35eeafc-0a17-45c8-b9b4-1b060e13c1b0"
      },
      "source": [
        "import matplotlib.pyplot as plt\n",
        "plt.imshow(img)"
      ],
      "execution_count": null,
      "outputs": [
        {
          "output_type": "execute_result",
          "data": {
            "text/plain": [
              "<matplotlib.image.AxesImage at 0x7f0729ee1d90>"
            ]
          },
          "metadata": {
            "tags": []
          },
          "execution_count": 7
        },
        {
          "output_type": "display_data",
          "data": {
            "image/png": "[encoded data removed]",
            "text/plain": [
              "<Figure size 432x288 with 1 Axes>"
            ]
          },
          "metadata": {
            "tags": [],
            "needs_background": "light"
          }
        }
      ]
    },
    {
      "cell_type": "code",
      "metadata": {
        "id": "qomNSMEsWShU"
      },
      "source": [
        "img_t = transform(img)\n",
        "batch_t = torch.unsqueeze(img_t, 0)"
      ],
      "execution_count": null,
      "outputs": []
    },
    {
      "cell_type": "code",
      "metadata": {
        "id": "yW7-snmvXdxq"
      },
      "source": [
        "resnet.eval()\n",
        "out = resnet(batch_t)"
      ],
      "execution_count": null,
      "outputs": []
    },
    {
      "cell_type": "code",
      "metadata": {
        "colab": {
          "base_uri": "https://localhost:8080/"
        },
        "id": "G74UEalEY-E9",
        "outputId": "19f4f292-d8b9-40ac-a763-efe3e96dd37d"
      },
      "source": [
        "out"
      ],
      "execution_count": null,
      "outputs": [
        {
          "output_type": "execute_result",
          "data": {
            "text/plain": [
              "tensor([[-2.7856e+00, -2.0247e+00, -3.3860e+00, -2.6026e+00, -2.5039e+00,\n",
              "         -2.9439e-01, -3.1343e+00, -2.8802e+00, -1.7719e+00, -7.2363e-01,\n",
              "         -1.5646e+00, -2.9909e+00, -1.6764e+00, -1.6426e+00, -2.4278e+00,\n",
              "         -4.4746e-01, -8.5253e-01, -9.8029e-01, -4.4030e-01, -2.4791e+00,\n",
              "         -5.6996e-01, -2.2368e+00, -2.7507e+00, -1.5268e+00, -1.6641e+00,\n",
              "         -2.7733e+00, -2.2707e+00, -1.7613e+00, -2.4115e+00, -1.0241e+00,\n",
              "         -1.2486e+00, -3.1052e+00, -2.0424e+00, -4.1137e+00, -2.2181e+00,\n",
              "         -1.5011e+00, -1.3941e+00, -1.8886e+00,  1.9617e-02, -5.4269e-01,\n",
              "         -1.5134e+00,  6.8387e-01, -1.0681e+00, -4.0240e-01, -1.9319e-01,\n",
              "         -2.0983e+00, -2.4021e-01, -3.3536e-01, -2.2422e+00, -3.7393e+00,\n",
              "         -2.6125e+00, -1.1942e+00, -5.3816e-01, -1.3517e+00, -9.3187e-01,\n",
              "         -3.1122e+00, -1.6057e+00, -2.2685e+00, -9.9893e-01,  3.9263e-02,\n",
              "          1.9783e-01, -1.7956e+00, -2.2015e-01, -8.8770e-01, -6.6981e-01,\n",
              "         -2.8040e+00,  2.1531e+00,  1.2494e+00,  1.1896e+00, -2.5714e+00,\n",
              "         -2.4842e+00, -1.2738e+00, -7.5709e-01, -7.4022e-01, -1.5221e+00,\n",
              "         -1.0354e+00, -1.2837e+00, -3.0605e-01,  7.3672e-01, -1.3780e+00,\n",
              "         -7.1934e-01, -2.6232e+00, -1.2008e-01, -3.2182e-01, -1.0128e+00,\n",
              "         -1.8220e+00, -3.7536e-01, -6.8219e-01, -1.6577e+00, -2.0838e+00,\n",
              "         -2.1427e+00, -2.2909e+00, -1.9196e+00, -3.4709e+00, -1.8482e+00,\n",
              "         -2.1090e+00, -1.2441e+00, -3.5195e+00, -1.2267e+00, -1.4872e+00,\n",
              "         -3.0393e+00, -3.0587e+00, -2.4641e+00, -6.8108e-01,  9.1370e-01,\n",
              "         -7.4923e-01,  1.2339e+00, -4.9206e+00, -2.6501e+00, -2.3318e+00,\n",
              "         -3.2596e+00, -2.2867e+00, -2.2970e+00, -1.3527e+00, -7.9554e-01,\n",
              "         -3.7753e+00, -3.6776e+00,  1.4818e-01, -9.5678e-01, -3.1879e+00,\n",
              "         -2.3015e+00, -2.1088e+00, -4.0444e-01, -2.6829e+00, -6.8713e-01,\n",
              "         -2.1504e+00, -1.8779e+00, -3.6117e+00, -2.8101e+00, -5.0010e+00,\n",
              "         -3.3051e+00, -2.3942e+00, -1.0696e+00, -1.0644e+00, -1.5870e+00,\n",
              "         -3.6906e+00, -2.8381e+00, -3.0279e+00, -2.2801e-02, -3.1593e+00,\n",
              "         -2.3497e+00, -2.2938e+00, -3.5522e+00, -2.8863e+00, -3.9889e+00,\n",
              "         -1.5753e+00, -2.7172e+00, -2.7890e+00, -8.8340e-01, -3.3206e+00,\n",
              "         -6.7535e-01,  1.1513e+00,  3.4370e+00, -2.3393e-01,  1.9718e+00,\n",
              "          1.0603e+00,  1.2720e-01,  3.1930e-01,  3.9161e-01, -2.0901e+00,\n",
              "         -1.9842e+00, -1.1256e+00, -6.1959e-01, -1.2375e+00, -1.2129e+00,\n",
              "         -1.6882e+00, -2.3470e+00, -2.6741e+00, -7.9258e-01,  2.4546e-01,\n",
              "         -2.0386e+00, -1.3878e+00, -1.0300e+00, -6.7063e-01,  2.5889e-01,\n",
              "         -7.5994e-01, -1.0909e+00, -2.6195e+00, -1.1886e+00, -1.1798e+00,\n",
              "         -1.1262e+00, -1.3728e+00, -1.3733e+00, -1.3929e+00, -1.9203e+00,\n",
              "         -5.4136e-01, -1.8262e-01, -7.6928e-01, -1.1921e-01, -9.4021e-01,\n",
              "         -5.7354e-01, -1.6862e+00, -1.0351e+00,  4.9239e-01, -1.3538e+00,\n",
              "          2.3943e+00, -5.2018e-01,  3.9428e-01,  6.7244e-02,  2.4241e-01,\n",
              "         -5.3984e-01, -2.8718e+00, -1.8328e+00,  8.6855e-01,  8.5248e-02,\n",
              "         -4.7250e-01, -8.7705e-01,  5.8261e-01, -8.0178e-01, -1.2642e+00,\n",
              "         -1.6253e+00, -5.0777e-02, -1.0257e+00, -1.6523e+00, -1.2067e+00,\n",
              "          1.6757e-01,  1.9841e-01,  8.4377e-01, -5.8075e-01, -5.4397e-01,\n",
              "         -1.5497e-01, -1.8634e+00,  2.9638e-01,  1.8822e-01, -5.0141e-02,\n",
              "         -1.7644e+00, -7.9366e-01,  9.4947e-02, -9.7378e-01,  4.7222e-01,\n",
              "         -1.0214e+00,  8.4832e-01,  1.9971e+00, -5.3876e-01, -1.5146e+00,\n",
              "          9.1582e-01, -2.1550e-01, -2.0016e+00, -9.3407e-01,  1.1823e-01,\n",
              "         -1.0017e-01, -1.3956e+00, -5.9082e-01, -1.5788e+00, -1.8410e+00,\n",
              "          1.1760e+00, -1.0470e+00, -6.3495e-01,  2.7158e+00,  2.0405e+00,\n",
              "          2.4619e+00, -6.7577e-01, -6.2447e-01,  2.6523e-01, -4.8811e-01,\n",
              "         -2.1127e+00, -2.3549e-01,  2.1282e-02,  1.5569e+00,  9.1754e-01,\n",
              "         -7.4696e-01, -4.6797e-01,  7.8084e-01,  1.0342e+00,  1.3934e+00,\n",
              "         -7.5293e-01, -2.4928e+00, -2.8307e+00, -1.7793e+00, -1.3169e+00,\n",
              "         -7.9180e-01, -1.4861e+00, -1.0318e+00, -9.5285e-01, -2.2708e-01,\n",
              "         -2.6461e+00, -6.7488e-01, -6.0672e-02,  6.6984e-01,  1.9530e+00,\n",
              "          1.3122e+00,  1.0651e+01,  8.9234e+00,  9.1119e+00,  5.8243e+00,\n",
              "          9.4082e+00,  4.3791e+00,  9.1855e+00,  2.3584e+00,  3.4173e+00,\n",
              "          1.7013e+00,  3.6484e-01,  3.8797e+00, -9.4831e-02, -3.8306e+00,\n",
              "         -2.0409e+00, -2.2098e+00, -3.2283e+00, -3.3570e-03, -3.8190e-01,\n",
              "         -1.5641e+00, -2.2070e+00, -1.5874e+00, -1.7541e+00, -3.9372e+00,\n",
              "         -2.3773e+00,  1.2404e+00, -3.0208e+00, -2.6782e+00, -1.8442e+00,\n",
              "         -8.1604e-01, -1.0128e+00, -1.0954e+00, -1.3347e+00,  9.0119e-02,\n",
              "         -1.4136e+00, -1.3699e+00, -2.0384e+00, -4.9036e-01, -6.0076e-01,\n",
              "         -1.8384e-01, -2.8827e+00,  1.6665e-02, -2.0747e+00, -3.3592e-01,\n",
              "         -1.1634e+00,  3.5216e-03, -2.7111e+00, -2.0879e+00, -3.4862e+00,\n",
              "          1.7904e+00,  2.9801e+00,  3.6385e+00,  2.8623e+00, -1.7552e+00,\n",
              "          1.6397e+00, -2.0103e+00, -1.0731e+00,  9.7431e-03, -2.8184e+00,\n",
              "          5.7468e-02, -1.5106e+00, -2.4827e+00, -3.1952e+00, -4.6814e+00,\n",
              "         -3.2800e+00, -3.3747e+00, -3.6247e+00, -2.7554e+00, -3.6423e+00,\n",
              "         -2.3954e+00, -3.5147e+00, -2.5945e+00, -1.3745e+00, -3.4147e+00,\n",
              "          1.3713e-01,  3.2879e+00,  3.4666e+00,  3.1899e+00,  2.8619e+00,\n",
              "          1.4557e+00,  1.6540e+00, -8.0962e-02, -1.1521e+00, -3.2126e+00,\n",
              "         -2.1156e+00, -3.1441e+00, -2.2652e+00, -2.6276e+00, -1.6417e+00,\n",
              "          1.1760e+00,  6.8043e-01, -4.3092e+00,  7.0899e-01, -1.3840e+00,\n",
              "         -1.6361e+00, -3.0412e+00,  1.2404e-01, -2.2639e-01, -2.9492e+00,\n",
              "          2.5085e-01, -2.9886e+00, -8.8428e-01,  1.0800e+00,  1.0686e+00,\n",
              "         -2.0844e+00, -3.2559e+00, -6.4716e-01, -2.4166e+00, -1.9304e+00,\n",
              "         -2.9664e+00, -5.7069e-01, -1.1388e+00, -4.5351e+00, -1.7380e+00,\n",
              "         -2.7461e-01, -4.6247e+00, -3.2934e+00,  1.1327e+00, -2.4393e-01,\n",
              "          7.7817e-01, -1.2077e+00,  1.7008e+00, -2.4539e+00, -1.3148e+00,\n",
              "         -7.2886e-01,  1.0193e+00, -3.2901e+00, -4.9361e-02,  2.1402e+00,\n",
              "         -3.5173e+00,  1.5080e+00,  3.6659e+00,  1.3799e+00,  3.7372e+00,\n",
              "          2.5042e-01, -6.9508e-02, -1.4112e+00, -3.0125e-02,  3.8429e+00,\n",
              "          1.0148e+00,  2.3441e-01,  1.2126e+00,  2.0393e-01, -1.1740e+00,\n",
              "         -2.7235e+00,  9.5937e-01,  1.9276e+00,  3.6614e+00,  1.4203e+00,\n",
              "          2.2570e-01,  2.9242e+00, -7.0332e-01,  8.5045e-02,  3.7941e+00,\n",
              "          3.4184e+00, -1.4484e+00, -1.8710e+00,  2.8852e+00, -8.9740e-02,\n",
              "          7.0360e-01, -1.0896e-01,  5.3245e-02,  3.0644e+00, -5.6166e-01,\n",
              "         -7.4962e-01,  2.5129e+00, -4.3532e-01, -4.1548e-01, -1.7730e+00,\n",
              "         -7.7303e-01, -1.3724e+00,  3.1137e+00,  4.2833e+00,  9.3299e-01,\n",
              "         -4.6674e-01,  1.4223e+00,  5.2848e+00, -1.8051e+00,  2.6448e+00,\n",
              "         -7.6394e-01, -4.2074e-01,  3.2553e+00,  6.4197e+00, -2.2011e-01,\n",
              "          1.1530e+00, -9.7798e-01, -1.5558e+00, -1.6327e+00,  2.6232e+00,\n",
              "          2.1392e+00, -9.8023e-01, -7.7130e-01,  2.7339e+00, -1.2606e-01,\n",
              "          1.4863e+00, -7.7616e-01,  2.4747e-01,  7.0455e+00,  3.3879e-01,\n",
              "         -2.2357e+00,  1.2932e+00,  3.2639e-02, -1.7057e+00, -5.2742e-01,\n",
              "          2.9354e-01, -2.8679e-01,  1.3289e+00, -3.6307e-01, -1.6545e+00,\n",
              "         -2.3167e+00, -2.2154e+00,  1.0521e+00,  1.5030e+00,  1.2974e+00,\n",
              "          8.8619e-03,  1.9377e+00, -4.5488e-01, -2.0205e+00,  1.2419e+00,\n",
              "         -3.7753e+00,  9.1680e-01,  1.7733e+00,  1.1012e+00,  2.0487e+00,\n",
              "          4.0635e-01, -4.9547e-01,  3.1215e-01,  5.2447e+00,  1.7573e-01,\n",
              "         -1.3431e+00, -2.2732e+00,  1.1147e+00, -1.8648e+00,  1.2426e+00,\n",
              "          1.3610e+00,  3.2840e+00, -2.2862e-01,  2.2982e+00,  4.0948e+00,\n",
              "          3.4395e+00,  2.8186e+00,  4.2208e-01,  4.3264e-01, -8.8031e-01,\n",
              "         -1.7019e+00,  3.8584e+00,  3.2515e+00,  6.4507e-01,  2.9645e+00,\n",
              "          1.4393e+00, -9.6824e-01,  3.0028e+00,  1.5305e+00,  3.7810e+00,\n",
              "         -3.8235e-01,  3.7137e-01, -2.5859e+00, -2.6269e+00,  5.0174e+00,\n",
              "         -3.3912e+00,  7.8994e-01,  1.5630e+00,  4.7203e+00,  1.5237e+00,\n",
              "          3.5501e+00,  8.9349e-02, -3.7874e+00,  6.1281e-01,  1.8688e+00,\n",
              "          2.0329e+00,  1.8057e+00,  3.2564e+00,  3.7314e+00, -3.6629e+00,\n",
              "         -2.6485e+00,  2.2107e+00,  2.2581e-02, -8.4013e-01,  3.1948e+00,\n",
              "         -9.4582e-01, -1.6866e+00, -1.3383e+00, -1.9375e-01,  1.5506e-02,\n",
              "         -3.7885e-01, -4.5669e-01,  3.3629e+00, -2.7808e-01, -1.2965e+00,\n",
              "          3.6981e-01, -2.1187e+00,  1.7046e+00, -2.0773e+00,  5.1932e-01,\n",
              "         -1.4487e+00, -2.1421e+00,  1.4846e+00, -9.7476e-01,  3.3318e-02,\n",
              "         -1.7440e-01, -1.8700e+00,  2.2340e+00,  1.4338e+00,  7.8792e-01,\n",
              "          1.9923e-01,  1.1690e-01,  1.5479e+00,  6.1432e+00,  1.1335e+00,\n",
              "          2.7043e-01,  1.8148e+00,  1.0078e+00,  1.8313e+00, -9.9477e-02,\n",
              "         -1.9193e+00,  2.2432e+00, -1.0998e-01, -4.0593e-01, -4.7257e-01,\n",
              "          3.2701e+00,  2.6332e-02,  1.1332e+00, -1.0642e+00,  6.2458e-01,\n",
              "          1.0144e+00,  4.4985e+00,  6.5630e-02,  3.7772e+00, -4.3517e+00,\n",
              "          3.9577e-01,  2.2984e+00, -1.8864e+00,  6.2191e-01, -2.5626e-01,\n",
              "          2.3775e+00, -1.1349e+00,  1.4767e+00,  1.8887e+00,  1.7964e+00,\n",
              "          4.1798e+00, -3.7980e-01,  4.2823e+00,  6.8137e-01,  1.9597e+00,\n",
              "          1.7643e-01,  1.3809e+00, -2.7598e+00, -2.4332e+00, -5.3759e-02,\n",
              "         -1.2411e-01,  2.2563e+00,  1.5933e+00,  2.5777e+00, -8.2732e-01,\n",
              "          1.6794e+00,  2.6982e+00, -2.4699e-01,  1.0857e+00,  3.7853e-01,\n",
              "         -1.8446e+00,  9.3260e-01, -2.5327e-01,  8.5110e-01, -5.3386e-01,\n",
              "         -3.8519e+00,  7.6134e-01,  2.2246e+00,  2.1346e+00, -1.7493e+00,\n",
              "          3.7664e-01,  2.4149e+00, -1.7567e-01,  1.4811e+00, -2.6542e+00,\n",
              "          3.8442e-01, -9.0766e-01, -9.9589e-01,  5.2051e-01,  3.3779e+00,\n",
              "         -5.6459e-01, -1.1462e+00,  2.4661e+00, -1.8551e+00,  4.5208e+00,\n",
              "          2.1554e+00,  8.8864e-01,  1.2674e+00, -3.1286e+00,  1.4159e+00,\n",
              "          2.9192e+00, -7.3507e-01, -8.6327e-01,  6.3923e+00,  2.8856e+00,\n",
              "         -5.3638e-01,  1.8126e+00,  1.6128e+00,  1.1538e+00, -1.0937e+00,\n",
              "          2.5876e+00,  2.9391e+00, -6.4253e-01, -8.5531e-01,  3.1317e-01,\n",
              "         -2.5318e+00,  7.2538e-01, -1.6034e+00,  3.7694e-01, -6.2807e-01,\n",
              "         -3.5296e+00,  3.3384e-01,  3.5174e+00,  7.1386e-01, -1.0050e+00,\n",
              "         -6.3432e-01,  3.3605e-01,  1.3053e-01, -1.2766e+00,  1.0237e+00,\n",
              "          5.3989e+00, -6.5172e-01, -9.4731e-02,  6.6007e-02, -1.8018e+00,\n",
              "         -1.6881e+00, -5.7469e-01,  3.3495e-01,  1.7371e+00,  1.3921e+00,\n",
              "         -4.8595e-01,  2.7285e-02,  5.7776e-01,  2.4831e+00,  2.3091e+00,\n",
              "         -9.6842e-02, -9.5919e-01, -1.3734e+00, -7.3813e-02,  5.2322e-01,\n",
              "          1.6332e+00,  9.2040e-01,  5.6252e+00,  2.0799e+00, -1.2010e+00,\n",
              "          1.2422e+00, -4.1954e-02, -1.4623e+00,  6.3215e+00,  2.5219e+00,\n",
              "         -1.7101e+00,  3.2500e+00, -1.1861e+00,  2.1969e-01, -3.0372e+00,\n",
              "         -2.6353e-01,  2.4245e-01, -3.4508e-01,  8.3027e-01,  3.3221e-01,\n",
              "          7.4562e-01,  2.2128e+00,  5.2348e+00, -4.4291e-01,  2.6398e-01,\n",
              "         -1.3878e+00,  1.1496e+00,  4.0580e+00,  2.8821e+00,  9.1329e-01,\n",
              "          4.5354e+00, -5.1299e-01,  1.8985e-01,  4.4421e+00,  2.0878e+00,\n",
              "         -6.8016e-01,  1.6563e+00, -1.9664e+00,  4.4793e-01, -3.2002e-01,\n",
              "          2.6373e+00,  5.4165e+00, -4.6196e-01,  1.2613e+00,  1.7277e+00,\n",
              "          2.6328e+00,  7.5516e-01,  5.5767e-01,  1.3229e+00,  4.1311e+00,\n",
              "          1.6790e+00,  1.7571e-01,  2.2881e+00,  1.1721e-01,  5.7054e-01,\n",
              "         -4.0780e-01, -4.3840e-01, -1.6514e+00,  5.2932e+00, -2.2763e+00,\n",
              "          3.8158e-01, -5.0402e-01,  5.9346e+00,  1.7787e+00,  1.4654e+00,\n",
              "         -2.4982e-01,  2.6853e+00,  1.9064e-01, -8.3011e-01,  2.6656e+00,\n",
              "          4.4418e+00,  8.9224e-01,  3.0807e+00,  2.9660e+00,  4.0986e+00,\n",
              "          9.5730e-02,  1.1078e+00,  4.6370e+00,  2.3452e-01,  2.9574e+00,\n",
              "         -1.1413e+00, -6.4787e-01, -1.7399e+00, -1.1177e+00,  2.5295e+00,\n",
              "          2.1025e+00,  2.7640e+00,  3.8141e-01,  1.0898e+00,  1.5531e+00,\n",
              "          2.7181e+00,  5.5687e+00, -2.1581e+00,  2.6321e+00, -5.5967e-01,\n",
              "         -3.2557e-01, -2.0653e-01, -8.9463e-01,  1.9848e+00, -2.9840e+00,\n",
              "         -2.4718e+00, -1.4953e+00, -6.8447e-01,  2.9559e+00,  5.6148e-01,\n",
              "         -1.6782e-02,  9.0195e-01,  1.7503e+00,  2.3199e+00, -1.3647e+00,\n",
              "          7.4496e-01,  3.5697e+00, -2.7866e+00, -6.5349e-01,  7.2983e-01,\n",
              "         -2.7994e-01,  1.7024e+00,  1.9504e+00,  2.6169e+00, -1.1728e+00,\n",
              "          3.7859e+00,  3.1731e+00,  2.6638e+00,  7.2439e-01,  1.2426e+00,\n",
              "          2.2850e+00,  1.6662e+00, -1.2092e+00,  8.0250e-01,  3.9387e-01,\n",
              "          5.1291e-01,  3.3744e+00,  3.3677e+00, -2.4467e+00, -2.1627e-01,\n",
              "          1.7292e+00, -7.3607e-01, -9.8530e-01, -6.7462e-01,  2.8800e+00,\n",
              "          1.0067e+00,  5.4500e+00, -9.9587e-01, -2.7939e+00, -1.1933e+00,\n",
              "          2.4539e+00, -6.4433e-01,  7.7155e-01,  1.8933e+00,  1.6996e-01,\n",
              "          1.7845e+00,  7.0815e-01,  2.5837e+00, -9.8083e-01, -2.5434e+00,\n",
              "         -8.7654e-01,  4.1940e+00, -2.3768e+00,  2.1990e+00,  1.8371e+00,\n",
              "          1.0763e+00,  1.8226e+00,  3.1085e+00,  2.1353e+00, -1.2704e+00,\n",
              "          2.9665e+00,  2.1755e-01,  1.2132e-01, -1.3369e+00,  6.7254e-01,\n",
              "         -5.8576e-01,  1.8970e+00,  1.8456e+00,  1.2594e+00,  4.6386e+00,\n",
              "         -8.7171e-01,  4.9843e+00,  4.5165e+00,  1.1354e+00,  3.1884e+00,\n",
              "         -1.6279e+00,  2.7267e-01,  2.1342e+00,  4.3398e-01,  5.7120e+00,\n",
              "          3.5063e+00,  1.1614e+00,  1.5924e+00, -9.9595e-01,  3.6510e+00,\n",
              "          1.6002e+00,  1.8814e+00, -7.3749e-02, -2.6096e+00, -4.7438e-01,\n",
              "         -3.3280e+00,  1.6429e+00,  1.7037e+00,  2.5856e+00,  3.7105e-01,\n",
              "         -6.6386e-01,  1.7211e+00,  4.5892e-02,  1.1054e+00, -5.4383e-03,\n",
              "          2.4159e-01,  1.4506e+00,  3.7622e-01, -1.3371e+00,  2.3301e+00,\n",
              "          4.8930e-01,  6.0032e-01, -3.5207e-01, -2.6608e+00, -1.6894e-01,\n",
              "          1.6420e+00,  7.8115e-01,  3.1899e+00,  1.9619e+00,  1.9539e+00,\n",
              "          1.3560e+00, -2.0998e-01,  1.9176e+00,  1.1913e+00, -1.6919e+00,\n",
              "          1.1602e+00, -1.8347e+00, -2.6231e-01,  2.1661e+00,  1.1098e+00,\n",
              "          7.0402e-01, -7.1065e-01,  9.0070e-01,  4.4868e-01,  8.7083e-01,\n",
              "         -5.5918e-01,  2.9242e-01, -6.1886e-01,  4.1317e-01, -7.1484e-01,\n",
              "         -4.0675e-01,  9.5576e-01,  2.9103e-01,  5.0509e-02,  1.8987e+00,\n",
              "         -1.0567e+00,  1.2945e+00,  5.0003e-01,  3.4331e+00,  2.8093e+00,\n",
              "         -8.0981e-01, -1.7613e-01, -2.3757e+00, -2.4199e+00, -1.5949e+00,\n",
              "         -1.0900e+00, -2.7734e+00, -9.7472e-01,  4.1185e-01, -2.2148e+00,\n",
              "         -2.3085e+00, -7.3454e-01, -1.6062e+00, -3.1536e+00, -1.0973e+00,\n",
              "         -1.4234e+00, -1.8930e+00,  3.0152e+00, -1.8554e+00, -1.4974e+00,\n",
              "         -4.1381e-01, -2.3340e+00, -3.0301e+00, -3.1437e+00, -2.9589e+00,\n",
              "         -8.0925e-01, -1.3807e-02, -2.7934e+00,  3.5707e+00,  3.7837e+00]],\n",
              "       grad_fn=<AddmmBackward>)"
            ]
          },
          "metadata": {
            "tags": []
          },
          "execution_count": 10
        }
      ]
    },
    {
      "cell_type": "code",
      "metadata": {
        "colab": {
          "base_uri": "https://localhost:8080/"
        },
        "id": "YKRXM5BeY_hj",
        "outputId": "e9f0e29b-c186-4d65-83a8-bd4fa0f209ec"
      },
      "source": [
        "out.argmax()"
      ],
      "execution_count": null,
      "outputs": [
        {
          "output_type": "execute_result",
          "data": {
            "text/plain": [
              "tensor(281)"
            ]
          },
          "metadata": {
            "tags": []
          },
          "execution_count": 11
        }
      ]
    }
  ]
}
{
  "nbformat": 4,
  "nbformat_minor": 0,
  "metadata": {
    "colab": {
      "name": "finetuning.ipynb",
      "provenance": [],
      "collapsed_sections": []
    },
    "kernelspec": {
      "name": "python3",
      "display_name": "Python 3"
    },
    "language_info": {
      "name": "python"
    },
    "accelerator": "GPU",
    "widgets": {
      "application/vnd.jupyter.widget-state+json": {
        "199d369b5e554473a43b8108f63b16a6": {
          "model_module": "@jupyter-widgets/controls",
          "model_name": "HBoxModel",
          "state": {
            "_view_name": "HBoxView",
            "_dom_classes": [],
            "_model_name": "HBoxModel",
            "_view_module": "@jupyter-widgets/controls",
            "_model_module_version": "1.5.0",
            "_view_count": null,
            "_view_module_version": "1.5.0",
            "box_style": "",
            "layout": "IPY_MODEL_7eb8b962c82c403f96c144960683bb01",
            "_model_module": "@jupyter-widgets/controls",
            "children": [
              "IPY_MODEL_a488d30813124034b88e25e23011ef71",
              "IPY_MODEL_f502b355ad474d4ebe79ec6c26358139"
            ]
          }
        },
        "7eb8b962c82c403f96c144960683bb01": {
          "model_module": "@jupyter-widgets/base",
          "model_name": "LayoutModel",
          "state": {
            "_view_name": "LayoutView",
            "grid_template_rows": null,
            "right": null,
            "justify_content": null,
            "_view_module": "@jupyter-widgets/base",
            "overflow": null,
            "_model_module_version": "1.2.0",
            "_view_count": null,
            "flex_flow": null,
            "width": null,
            "min_width": null,
            "border": null,
            "align_items": null,
            "bottom": null,
            "_model_module": "@jupyter-widgets/base",
            "top": null,
            "grid_column": null,
            "overflow_y": null,
            "overflow_x": null,
            "grid_auto_flow": null,
            "grid_area": null,
            "grid_template_columns": null,
            "flex": null,
            "_model_name": "LayoutModel",
            "justify_items": null,
            "grid_row": null,
            "max_height": null,
            "align_content": null,
            "visibility": null,
            "align_self": null,
            "height": null,
            "min_height": null,
            "padding": null,
            "grid_auto_rows": null,
            "grid_gap": null,
            "max_width": null,
            "order": null,
            "_view_module_version": "1.2.0",
            "grid_template_areas": null,
            "object_position": null,
            "object_fit": null,
            "grid_auto_columns": null,
            "margin": null,
            "display": null,
            "left": null
          }
        },
        "a488d30813124034b88e25e23011ef71": {
          "model_module": "@jupyter-widgets/controls",
          "model_name": "FloatProgressModel",
          "state": {
            "_view_name": "ProgressView",
            "style": "IPY_MODEL_6d0b61461d0f4d0f84473df51a701113",
            "_dom_classes": [],
            "description": "",
            "_model_name": "FloatProgressModel",
            "bar_style": "success",
            "max": 169001437,
            "_view_module": "@jupyter-widgets/controls",
            "_model_module_version": "1.5.0",
            "value": 169001437,
            "_view_count": null,
            "_view_module_version": "1.5.0",
            "orientation": "horizontal",
            "min": 0,
            "description_tooltip": null,
            "_model_module": "@jupyter-widgets/controls",
            "layout": "IPY_MODEL_d860fa6d4ac54150a47aee0e9021661d"
          }
        },
        "f502b355ad474d4ebe79ec6c26358139": {
          "model_module": "@jupyter-widgets/controls",
          "model_name": "HTMLModel",
          "state": {
            "_view_name": "HTMLView",
            "style": "IPY_MODEL_55ce10b371c14ca39bf088948c878a4a",
            "_dom_classes": [],
            "description": "",
            "_model_name": "HTMLModel",
            "placeholder": "​",
            "_view_module": "@jupyter-widgets/controls",
            "_model_module_version": "1.5.0",
            "value": " 169001984/? [00:50&lt;00:00, 3318308.43it/s]",
            "_view_count": null,
            "_view_module_version": "1.5.0",
            "description_tooltip": null,
            "_model_module": "@jupyter-widgets/controls",
            "layout": "IPY_MODEL_b7c733b9f9f943c4bbb667b866358616"
          }
        },
        "6d0b61461d0f4d0f84473df51a701113": {
          "model_module": "@jupyter-widgets/controls",
          "model_name": "ProgressStyleModel",
          "state": {
            "_view_name": "StyleView",
            "_model_name": "ProgressStyleModel",
            "description_width": "initial",
            "_view_module": "@jupyter-widgets/base",
            "_model_module_version": "1.5.0",
            "_view_count": null,
            "_view_module_version": "1.2.0",
            "bar_color": null,
            "_model_module": "@jupyter-widgets/controls"
          }
        },
        "d860fa6d4ac54150a47aee0e9021661d": {
          "model_module": "@jupyter-widgets/base",
          "model_name": "LayoutModel",
          "state": {
            "_view_name": "LayoutView",
            "grid_template_rows": null,
            "right": null,
            "justify_content": null,
            "_view_module": "@jupyter-widgets/base",
            "overflow": null,
            "_model_module_version": "1.2.0",
            "_view_count": null,
            "flex_flow": null,
            "width": null,
            "min_width": null,
            "border": null,
            "align_items": null,
            "bottom": null,
            "_model_module": "@jupyter-widgets/base",
            "top": null,
            "grid_column": null,
            "overflow_y": null,
            "overflow_x": null,
            "grid_auto_flow": null,
            "grid_area": null,
            "grid_template_columns": null,
            "flex": null,
            "_model_name": "LayoutModel",
            "justify_items": null,
            "grid_row": null,
            "max_height": null,
            "align_content": null,
            "visibility": null,
            "align_self": null,
            "height": null,
            "min_height": null,
            "padding": null,
            "grid_auto_rows": null,
            "grid_gap": null,
            "max_width": null,
            "order": null,
            "_view_module_version": "1.2.0",
            "grid_template_areas": null,
            "object_position": null,
            "object_fit": null,
            "grid_auto_columns": null,
            "margin": null,
            "display": null,
            "left": null
          }
        },
        "55ce10b371c14ca39bf088948c878a4a": {
          "model_module": "@jupyter-widgets/controls",
          "model_name": "DescriptionStyleModel",
          "state": {
            "_view_name": "StyleView",
            "_model_name": "DescriptionStyleModel",
            "description_width": "",
            "_view_module": "@jupyter-widgets/base",
            "_model_module_version": "1.5.0",
            "_view_count": null,
            "_view_module_version": "1.2.0",
            "_model_module": "@jupyter-widgets/controls"
          }
        },
        "b7c733b9f9f943c4bbb667b866358616": {
          "model_module": "@jupyter-widgets/base",
          "model_name": "LayoutModel",
          "state": {
            "_view_name": "LayoutView",
            "grid_template_rows": null,
            "right": null,
            "justify_content": null,
            "_view_module": "@jupyter-widgets/base",
            "overflow": null,
            "_model_module_version": "1.2.0",
            "_view_count": null,
            "flex_flow": null,
            "width": null,
            "min_width": null,
            "border": null,
            "align_items": null,
            "bottom": null,
            "_model_module": "@jupyter-widgets/base",
            "top": null,
            "grid_column": null,
            "overflow_y": null,
            "overflow_x": null,
            "grid_auto_flow": null,
            "grid_area": null,
            "grid_template_columns": null,
            "flex": null,
            "_model_name": "LayoutModel",
            "justify_items": null,
            "grid_row": null,
            "max_height": null,
            "align_content": null,
            "visibility": null,
            "align_self": null,
            "height": null,
            "min_height": null,
            "padding": null,
            "grid_auto_rows": null,
            "grid_gap": null,
            "max_width": null,
            "order": null,
            "_view_module_version": "1.2.0",
            "grid_template_areas": null,
            "object_position": null,
            "object_fit": null,
            "grid_auto_columns": null,
            "margin": null,
            "display": null,
            "left": null
          }
        },
        "ffd6beeb709c46bbac75845a0615471f": {
          "model_module": "@jupyter-widgets/controls",
          "model_name": "HBoxModel",
          "state": {
            "_view_name": "HBoxView",
            "_dom_classes": [],
            "_model_name": "HBoxModel",
            "_view_module": "@jupyter-widgets/controls",
            "_model_module_version": "1.5.0",
            "_view_count": null,
            "_view_module_version": "1.5.0",
            "box_style": "",
            "layout": "IPY_MODEL_2cff415dbb08431590e3ce9c24b65872",
            "_model_module": "@jupyter-widgets/controls",
            "children": [
              "IPY_MODEL_7468b7219ae64dbcac8f4c6cb34cd8ea",
              "IPY_MODEL_723c1d61c0934c6f81bb621530da6722"
            ]
          }
        },
        "2cff415dbb08431590e3ce9c24b65872": {
          "model_module": "@jupyter-widgets/base",
          "model_name": "LayoutModel",
          "state": {
            "_view_name": "LayoutView",
            "grid_template_rows": null,
            "right": null,
            "justify_content": null,
            "_view_module": "@jupyter-widgets/base",
            "overflow": null,
            "_model_module_version": "1.2.0",
            "_view_count": null,
            "flex_flow": null,
            "width": null,
            "min_width": null,
            "border": null,
            "align_items": null,
            "bottom": null,
            "_model_module": "@jupyter-widgets/base",
            "top": null,
            "grid_column": null,
            "overflow_y": null,
            "overflow_x": null,
            "grid_auto_flow": null,
            "grid_area": null,
            "grid_template_columns": null,
            "flex": null,
            "_model_name": "LayoutModel",
            "justify_items": null,
            "grid_row": null,
            "max_height": null,
            "align_content": null,
            "visibility": null,
            "align_self": null,
            "height": null,
            "min_height": null,
            "padding": null,
            "grid_auto_rows": null,
            "grid_gap": null,
            "max_width": null,
            "order": null,
            "_view_module_version": "1.2.0",
            "grid_template_areas": null,
            "object_position": null,
            "object_fit": null,
            "grid_auto_columns": null,
            "margin": null,
            "display": null,
            "left": null
          }
        },
        "7468b7219ae64dbcac8f4c6cb34cd8ea": {
          "model_module": "@jupyter-widgets/controls",
          "model_name": "FloatProgressModel",
          "state": {
            "_view_name": "ProgressView",
            "style": "IPY_MODEL_8742bb0a72e649d1bfa954247d2279b5",
            "_dom_classes": [],
            "description": "100%",
            "_model_name": "FloatProgressModel",
            "bar_style": "success",
            "max": 102502400,
            "_view_module": "@jupyter-widgets/controls",
            "_model_module_version": "1.5.0",
            "value": 102502400,
            "_view_count": null,
            "_view_module_version": "1.5.0",
            "orientation": "horizontal",
            "min": 0,
            "description_tooltip": null,
            "_model_module": "@jupyter-widgets/controls",
            "layout": "IPY_MODEL_0a0e4c6b07764baea1839f5c2d5409fb"
          }
        },
        "723c1d61c0934c6f81bb621530da6722": {
          "model_module": "@jupyter-widgets/controls",
          "model_name": "HTMLModel",
          "state": {
            "_view_name": "HTMLView",
            "style": "IPY_MODEL_c84d0733b6f64d88b2d7556d803fbc5b",
            "_dom_classes": [],
            "description": "",
            "_model_name": "HTMLModel",
            "placeholder": "​",
            "_view_module": "@jupyter-widgets/controls",
            "_model_module_version": "1.5.0",
            "value": " 97.8M/97.8M [00:01&lt;00:00, 85.5MB/s]",
            "_view_count": null,
            "_view_module_version": "1.5.0",
            "description_tooltip": null,
            "_model_module": "@jupyter-widgets/controls",
            "layout": "IPY_MODEL_ef27bda4aea94aaa8f4c0bbd626a058a"
          }
        },
        "8742bb0a72e649d1bfa954247d2279b5": {
          "model_module": "@jupyter-widgets/controls",
          "model_name": "ProgressStyleModel",
          "state": {
            "_view_name": "StyleView",
            "_model_name": "ProgressStyleModel",
            "description_width": "initial",
            "_view_module": "@jupyter-widgets/base",
            "_model_module_version": "1.5.0",
            "_view_count": null,
            "_view_module_version": "1.2.0",
            "bar_color": null,
            "_model_module": "@jupyter-widgets/controls"
          }
        },
        "0a0e4c6b07764baea1839f5c2d5409fb": {
          "model_module": "@jupyter-widgets/base",
          "model_name": "LayoutModel",
          "state": {
            "_view_name": "LayoutView",
            "grid_template_rows": null,
            "right": null,
            "justify_content": null,
            "_view_module": "@jupyter-widgets/base",
            "overflow": null,
            "_model_module_version": "1.2.0",
            "_view_count": null,
            "flex_flow": null,
            "width": null,
            "min_width": null,
            "border": null,
            "align_items": null,
            "bottom": null,
            "_model_module": "@jupyter-widgets/base",
            "top": null,
            "grid_column": null,
            "overflow_y": null,
            "overflow_x": null,
            "grid_auto_flow": null,
            "grid_area": null,
            "grid_template_columns": null,
            "flex": null,
            "_model_name": "LayoutModel",
            "justify_items": null,
            "grid_row": null,
            "max_height": null,
            "align_content": null,
            "visibility": null,
            "align_self": null,
            "height": null,
            "min_height": null,
            "padding": null,
            "grid_auto_rows": null,
            "grid_gap": null,
            "max_width": null,
            "order": null,
            "_view_module_version": "1.2.0",
            "grid_template_areas": null,
            "object_position": null,
            "object_fit": null,
            "grid_auto_columns": null,
            "margin": null,
            "display": null,
            "left": null
          }
        },
        "c84d0733b6f64d88b2d7556d803fbc5b": {
          "model_module": "@jupyter-widgets/controls",
          "model_name": "DescriptionStyleModel",
          "state": {
            "_view_name": "StyleView",
            "_model_name": "DescriptionStyleModel",
            "description_width": "",
            "_view_module": "@jupyter-widgets/base",
            "_model_module_version": "1.5.0",
            "_view_count": null,
            "_view_module_version": "1.2.0",
            "_model_module": "@jupyter-widgets/controls"
          }
        },
        "ef27bda4aea94aaa8f4c0bbd626a058a": {
          "model_module": "@jupyter-widgets/base",
          "model_name": "LayoutModel",
          "state": {
            "_view_name": "LayoutView",
            "grid_template_rows": null,
            "right": null,
            "justify_content": null,
            "_view_module": "@jupyter-widgets/base",
            "overflow": null,
            "_model_module_version": "1.2.0",
            "_view_count": null,
            "flex_flow": null,
            "width": null,
            "min_width": null,
            "border": null,
            "align_items": null,
            "bottom": null,
            "_model_module": "@jupyter-widgets/base",
            "top": null,
            "grid_column": null,
            "overflow_y": null,
            "overflow_x": null,
            "grid_auto_flow": null,
            "grid_area": null,
            "grid_template_columns": null,
            "flex": null,
            "_model_name": "LayoutModel",
            "justify_items": null,
            "grid_row": null,
            "max_height": null,
            "align_content": null,
            "visibility": null,
            "align_self": null,
            "height": null,
            "min_height": null,
            "padding": null,
            "grid_auto_rows": null,
            "grid_gap": null,
            "max_width": null,
            "order": null,
            "_view_module_version": "1.2.0",
            "grid_template_areas": null,
            "object_position": null,
            "object_fit": null,
            "grid_auto_columns": null,
            "margin": null,
            "display": null,
            "left": null
          }
        }
      }
    }
  },
  "cells": [
    {
      "cell_type": "code",
      "metadata": {
        "id": "g6NAOVdz3rlC"
      },
      "source": [
        "import torch, torchvision\n",
        "from torchvision import datasets, models, transforms\n",
        "import torch.nn as nn\n",
        "import torch.optim as optim\n",
        "from torch.utils.data import DataLoader\n",
        "\n",
        "from torchvision.datasets import CIFAR100\n",
        "\n",
        "import time\n",
        "from torchsummary import summary\n",
        "\n",
        "import numpy as np\n",
        "import matplotlib.pyplot as plt\n",
        "import os\n",
        "\n",
        "from PIL import Image\n"
      ],
      "execution_count": null,
      "outputs": []
    },
    {
      "cell_type": "code",
      "metadata": {
        "id": "RWksX7o83x4N"
      },
      "source": [
        "# Applying Transforms to the Data\n",
        "train_transform = transforms.Compose([\n",
        "        transforms.RandomResizedCrop(size=256, scale=(0.8, 1.0)),\n",
        "        transforms.RandomRotation(degrees=15),\n",
        "        transforms.RandomHorizontalFlip(),\n",
        "        transforms.CenterCrop(size=224),\n",
        "        transforms.ToTensor(),\n",
        "        transforms.Normalize([0.485, 0.456, 0.406],\n",
        "                             [0.229, 0.224, 0.225])\n",
        "    ])\n",
        "\n",
        "test_transform = transforms.Compose([\n",
        "        transforms.Resize(size=256),\n",
        "        transforms.CenterCrop(size=224),\n",
        "        transforms.ToTensor(),\n",
        "        transforms.Normalize([0.485, 0.456, 0.406],\n",
        "                             [0.229, 0.224, 0.225])\n",
        "    ])"
      ],
      "execution_count": null,
      "outputs": []
    },
    {
      "cell_type": "code",
      "metadata": {
        "colab": {
          "base_uri": "https://localhost:8080/",
          "height": 99,
          "referenced_widgets": [
            "199d369b5e554473a43b8108f63b16a6",
            "7eb8b962c82c403f96c144960683bb01",
            "a488d30813124034b88e25e23011ef71",
            "f502b355ad474d4ebe79ec6c26358139",
            "6d0b61461d0f4d0f84473df51a701113",
            "d860fa6d4ac54150a47aee0e9021661d",
            "55ce10b371c14ca39bf088948c878a4a",
            "b7c733b9f9f943c4bbb667b866358616"
          ]
        },
        "id": "-MjuWhIg34uR",
        "outputId": "33a4bdd3-d817-4f49-c5cb-6171d2fe9520"
      },
      "source": [
        "train_data = CIFAR100(download=True, root=\"./data\", transform=train_transform)\n",
        "test_data = CIFAR100(root=\"./data\", train=False,transform=test_transform)"
      ],
      "execution_count": null,
      "outputs": [
        {
          "output_type": "stream",
          "text": [
            "Downloading https://www.cs.toronto.edu/~kriz/cifar-100-python.tar.gz to ./data/cifar-100-python.tar.gz\n"
          ],
          "name": "stdout"
        },
        {
          "output_type": "display_data",
          "data": {
            "application/vnd.jupyter.widget-view+json": {
              "model_id": "199d369b5e554473a43b8108f63b16a6",
              "version_minor": 0,
              "version_major": 2
            },
            "text/plain": [
              "HBox(children=(FloatProgress(value=0.0, max=169001437.0), HTML(value='')))"
            ]
          },
          "metadata": {
            "tags": []
          }
        },
        {
          "output_type": "stream",
          "text": [
            "\n",
            "Extracting ./data/cifar-100-python.tar.gz to ./data\n"
          ],
          "name": "stdout"
        }
      ]
    },
    {
      "cell_type": "code",
      "metadata": {
        "id": "TYOdLJVa7iLS"
      },
      "source": [
        "# batch size\n",
        "bs = 32\n",
        "train_data_loader = DataLoader(train_data, batch_size=bs, shuffle=True)\n",
        "test_data_loader = DataLoader(test_data, batch_size=bs, shuffle=True)"
      ],
      "execution_count": null,
      "outputs": []
    },
    {
      "cell_type": "code",
      "metadata": {
        "id": "0avaDCJW9rGz"
      },
      "source": [
        "train_data_size = len(train_data)\n",
        "test_data_size = len(test_data)"
      ],
      "execution_count": null,
      "outputs": []
    },
    {
      "cell_type": "code",
      "metadata": {
        "id": "VTDjSvHv5LwW"
      },
      "source": [
        "device = torch.device(\"cuda:0\" if torch.cuda.is_available() else \"cpu\")"
      ],
      "execution_count": null,
      "outputs": []
    },
    {
      "cell_type": "code",
      "metadata": {
        "colab": {
          "base_uri": "https://localhost:8080/",
          "height": 82,
          "referenced_widgets": [
            "ffd6beeb709c46bbac75845a0615471f",
            "2cff415dbb08431590e3ce9c24b65872",
            "7468b7219ae64dbcac8f4c6cb34cd8ea",
            "723c1d61c0934c6f81bb621530da6722",
            "8742bb0a72e649d1bfa954247d2279b5",
            "0a0e4c6b07764baea1839f5c2d5409fb",
            "c84d0733b6f64d88b2d7556d803fbc5b",
            "ef27bda4aea94aaa8f4c0bbd626a058a"
          ]
        },
        "id": "0mv7YV9P5wWO",
        "outputId": "9c60591b-03e2-4b60-d2e5-9ad5277638b1"
      },
      "source": [
        "# Load pretrained ResNet50 Model\n",
        "resnet50 = models.resnet50(pretrained=True)\n",
        "resnet50 = resnet50.to(device)"
      ],
      "execution_count": null,
      "outputs": [
        {
          "output_type": "stream",
          "text": [
            "Downloading: \"https://download.pytorch.org/models/resnet50-19c8e357.pth\" to /root/.cache/torch/hub/checkpoints/resnet50-19c8e357.pth\n"
          ],
          "name": "stderr"
        },
        {
          "output_type": "display_data",
          "data": {
            "application/vnd.jupyter.widget-view+json": {
              "model_id": "ffd6beeb709c46bbac75845a0615471f",
              "version_minor": 0,
              "version_major": 2
            },
            "text/plain": [
              "HBox(children=(FloatProgress(value=0.0, max=102502400.0), HTML(value='')))"
            ]
          },
          "metadata": {
            "tags": []
          }
        },
        {
          "output_type": "stream",
          "text": [
            "\n"
          ],
          "name": "stdout"
        }
      ]
    },
    {
      "cell_type": "code",
      "metadata": {
        "colab": {
          "base_uri": "https://localhost:8080/"
        },
        "id": "bITI1VOp57xk",
        "outputId": "b16febed-8525-4633-c1e4-7307ef0752b0"
      },
      "source": [
        "print(type(test_data))"
      ],
      "execution_count": null,
      "outputs": [
        {
          "output_type": "stream",
          "text": [
            "<class 'torchvision.datasets.cifar.CIFAR100'>\n"
          ],
          "name": "stdout"
        }
      ]
    },
    {
      "cell_type": "code",
      "metadata": {
        "id": "0MRCElN96ahV"
      },
      "source": [
        "# Freeze model parameters\n",
        "# for param in resnet50.parameters():\n",
        "#     param.requires_grad = False"
      ],
      "execution_count": null,
      "outputs": []
    },
    {
      "cell_type": "code",
      "metadata": {
        "id": "UfNlpebhSarp"
      },
      "source": [
        "# Freeze layers 1-6 in total 10 layers of Resnet50\n",
        "ct = 0\n",
        "for child in resnet50.children():\n",
        "  ct += 1\n",
        "  if ct < 7:\n",
        "      for param in child.parameters():\n",
        "          param.requires_grad = False"
      ],
      "execution_count": null,
      "outputs": []
    },
    {
      "cell_type": "code",
      "metadata": {
        "id": "OAY251ZX6j6c"
      },
      "source": [
        "# Change the final layer of ResNet50 Model for Transfer Learning\n",
        "fc_inputs = resnet50.fc.in_features\n",
        "\n",
        "resnet50.fc = nn.Sequential(\n",
        "    nn.Linear(fc_inputs, 256),\n",
        "    nn.ReLU(),\n",
        "    nn.Dropout(0.4),\n",
        "    nn.Linear(256, 100), # Since 100 possible outputs\n",
        "    nn.LogSoftmax(dim=1) # For using NLLLoss()\n",
        ")\n",
        "\n",
        "# Convert model to be used on GPU\n",
        "resnet50 = resnet50.to(device)"
      ],
      "execution_count": null,
      "outputs": []
    },
    {
      "cell_type": "code",
      "metadata": {
        "id": "vw3EpC6v6sds"
      },
      "source": [
        "# Define Optimizer and Loss Function\n",
        "loss_func = nn.NLLLoss()"
      ],
      "execution_count": null,
      "outputs": []
    },
    {
      "cell_type": "code",
      "metadata": {
        "id": "oxfJsMN-6vAM"
      },
      "source": [
        "def train_and_validate(model, loss_criterion, optimizer, scheduler,epochs=25):\n",
        "    '''\n",
        "    Function to train and validate\n",
        "    Parameters\n",
        "        :param model: Model to train and validate\n",
        "        :param loss_criterion: Loss Criterion to minimize\n",
        "        :param optimizer: Optimizer for computing gradients\n",
        "        :param epochs: Number of epochs (default=25)\n",
        "  \n",
        "    Returns\n",
        "        model: Trained Model with best validation accuracy\n",
        "        history: (dict object): Having training loss, accuracy and validation loss, accuracy\n",
        "    '''\n",
        "    \n",
        "    start = time.time()\n",
        "    history = []\n",
        "    best_loss = 100000.0\n",
        "    best_epoch = None\n",
        "\n",
        "    for epoch in range(epochs):\n",
        "        epoch_start = time.time()\n",
        "        print(\"Epoch: {}/{}\".format(epoch+1, epochs))\n",
        "        \n",
        "        # Set to training mode\n",
        "        model.train()\n",
        "        \n",
        "        # Loss and Accuracy within the epoch\n",
        "        train_loss = 0.0\n",
        "        train_acc = 0.0\n",
        "        \n",
        "        valid_loss = 0.0\n",
        "        valid_acc = 0.0\n",
        "        \n",
        "        for i, (inputs, labels) in enumerate(train_data_loader):\n",
        "\n",
        "            inputs = inputs.to(device)\n",
        "            labels = labels.to(device)\n",
        "            \n",
        "            # Clean existing gradients\n",
        "            optimizer.zero_grad()\n",
        "            \n",
        "            # Forward pass - compute outputs on input data using the model\n",
        "            outputs = model(inputs)\n",
        "            \n",
        "            # Compute loss\n",
        "            loss = loss_criterion(outputs, labels)\n",
        "            \n",
        "            # Backpropagate the gradients\n",
        "            loss.backward()\n",
        "            \n",
        "            # Update the parameters\n",
        "            optimizer.step()\n",
        "            scheduler.step()\n",
        "            \n",
        "            # Compute the total loss for the batch and add it to train_loss\n",
        "            train_loss += loss.item() * inputs.size(0)\n",
        "            \n",
        "            # Compute the accuracy\n",
        "            ret, predictions = torch.max(outputs.data, 1)\n",
        "            correct_counts = predictions.eq(labels.data.view_as(predictions))\n",
        "            \n",
        "            # Convert correct_counts to float and then compute the mean\n",
        "            acc = torch.mean(correct_counts.type(torch.FloatTensor))\n",
        "            \n",
        "            # Compute total accuracy in the whole batch and add to train_acc\n",
        "            train_acc += acc.item() * inputs.size(0)\n",
        "            \n",
        "            #print(\"Batch number: {:03d}, Training: Loss: {:.4f}, Accuracy: {:.4f}\".format(i, loss.item(), acc.item()))\n",
        "\n",
        "        \n",
        "        # Validation - No gradient tracking needed\n",
        "        with torch.no_grad():\n",
        "\n",
        "            # Set to evaluation mode\n",
        "            model.eval()\n",
        "\n",
        "            # Validation loop\n",
        "            for j, (inputs, labels) in enumerate(test_data_loader):\n",
        "                inputs = inputs.to(device)\n",
        "                labels = labels.to(device)\n",
        "\n",
        "                # Forward pass - compute outputs on input data using the model\n",
        "                outputs = model(inputs)\n",
        "\n",
        "                # Compute loss\n",
        "                loss = loss_criterion(outputs, labels)\n",
        "\n",
        "                # Compute the total loss for the batch and add it to valid_loss\n",
        "                valid_loss += loss.item() * inputs.size(0)\n",
        "\n",
        "                # Calculate validation accuracy\n",
        "                ret, predictions = torch.max(outputs.data, 1)\n",
        "                correct_counts = predictions.eq(labels.data.view_as(predictions))\n",
        "\n",
        "                # Convert correct_counts to float and then compute the mean\n",
        "                acc = torch.mean(correct_counts.type(torch.FloatTensor))\n",
        "\n",
        "                # Compute total accuracy in the whole batch and add to valid_acc\n",
        "                valid_acc += acc.item() * inputs.size(0)\n",
        "                if not j%100:\n",
        "                  print(\"Validation Batch number: {:03d}, Validation: Loss: {:.4f}, Accuracy: {:.4f}\".format(j, loss.item(), acc.item()))\n",
        "        if valid_loss < best_loss:\n",
        "            best_loss = valid_loss\n",
        "            best_epoch = epoch\n",
        "\n",
        "        # Find average training loss and training accuracy\n",
        "        avg_train_loss = train_loss/train_data_size \n",
        "        avg_train_acc = train_acc/train_data_size\n",
        "\n",
        "        # Find average training loss and training accuracy\n",
        "        avg_valid_loss = valid_loss/test_data_size \n",
        "        avg_valid_acc = valid_acc/test_data_size\n",
        "\n",
        "        history.append([avg_train_loss, avg_valid_loss, avg_train_acc, avg_valid_acc])\n",
        "                \n",
        "        epoch_end = time.time()\n",
        "    \n",
        "        print(\"Epoch : {:03d}, Training: Loss - {:.4f}, Accuracy - {:.4f}%, \\n\\t\\tValidation : Loss - {:.4f}, Accuracy - {:.4f}%, Time: {:.4f}s\".format(epoch+1, avg_train_loss, avg_train_acc*100, avg_valid_loss, avg_valid_acc*100, epoch_end-epoch_start))\n",
        "        \n",
        "        # Save if the model has best accuracy till now\n",
        "        torch.save(model, 'model_'+str(epoch)+'.pt')\n",
        "            \n",
        "    return model, history, best_epoch"
      ],
      "execution_count": null,
      "outputs": []
    },
    {
      "cell_type": "code",
      "metadata": {
        "id": "hEK0nii3-A_w",
        "colab": {
          "base_uri": "https://localhost:8080/"
        },
        "outputId": "4345abce-dcbf-48db-fc29-8eb80bb2fa4b"
      },
      "source": [
        "num_epochs = 25\n",
        "optimizer = optim.Adam(resnet50.parameters(), lr=0.005)\n",
        "scheduler = optim.lr_scheduler.MultiStepLR(optimizer, milestones=[10,20], gamma=0.1)\n",
        "trained_model, history, best_epoch = train_and_validate(resnet50, loss_func, optimizer, scheduler, num_epochs)\n",
        "torch.save(history, 'history.pt')"
      ],
      "execution_count": null,
      "outputs": [
        {
          "output_type": "stream",
          "text": [
            "Epoch: 1/25\n",
            "Validation Batch number: 000, Validation: Loss: 4.6009, Accuracy: 0.0312\n",
            "Validation Batch number: 100, Validation: Loss: 4.5972, Accuracy: 0.0312\n",
            "Validation Batch number: 200, Validation: Loss: 4.6072, Accuracy: 0.0312\n",
            "Validation Batch number: 300, Validation: Loss: 4.5945, Accuracy: 0.0312\n",
            "Epoch : 001, Training: Loss - 4.6139, Accuracy - 0.9900%, \n",
            "\t\tValidation : Loss - 4.6059, Accuracy - 1.0000%, Time: 325.1326s\n",
            "Epoch: 2/25\n",
            "Validation Batch number: 000, Validation: Loss: 4.4772, Accuracy: 0.0625\n",
            "Validation Batch number: 100, Validation: Loss: 4.5805, Accuracy: 0.0625\n",
            "Validation Batch number: 200, Validation: Loss: 4.5603, Accuracy: 0.0000\n",
            "Validation Batch number: 300, Validation: Loss: 4.5692, Accuracy: 0.0312\n",
            "Epoch : 002, Training: Loss - 4.5992, Accuracy - 1.2100%, \n",
            "\t\tValidation : Loss - 4.5151, Accuracy - 2.1400%, Time: 325.6280s\n",
            "Epoch: 3/25\n",
            "Validation Batch number: 000, Validation: Loss: 3.7812, Accuracy: 0.0625\n",
            "Validation Batch number: 100, Validation: Loss: 3.7710, Accuracy: 0.0625\n",
            "Validation Batch number: 200, Validation: Loss: 3.9320, Accuracy: 0.1250\n",
            "Validation Batch number: 300, Validation: Loss: 3.5082, Accuracy: 0.0938\n",
            "Epoch : 003, Training: Loss - 4.2961, Accuracy - 4.2720%, \n",
            "\t\tValidation : Loss - 3.7790, Accuracy - 11.4100%, Time: 325.0286s\n",
            "Epoch: 4/25\n",
            "Validation Batch number: 000, Validation: Loss: 3.1863, Accuracy: 0.1562\n",
            "Validation Batch number: 100, Validation: Loss: 3.4559, Accuracy: 0.1875\n",
            "Validation Batch number: 200, Validation: Loss: 3.5096, Accuracy: 0.0625\n",
            "Validation Batch number: 300, Validation: Loss: 3.2288, Accuracy: 0.1875\n",
            "Epoch : 004, Training: Loss - 3.7929, Accuracy - 9.7440%, \n",
            "\t\tValidation : Loss - 3.3145, Accuracy - 18.4900%, Time: 324.8191s\n",
            "Epoch: 5/25\n",
            "Validation Batch number: 000, Validation: Loss: 2.4877, Accuracy: 0.3750\n",
            "Validation Batch number: 100, Validation: Loss: 3.1930, Accuracy: 0.1250\n",
            "Validation Batch number: 200, Validation: Loss: 2.6478, Accuracy: 0.3438\n",
            "Validation Batch number: 300, Validation: Loss: 2.9384, Accuracy: 0.1875\n",
            "Epoch : 005, Training: Loss - 3.4823, Accuracy - 13.8760%, \n",
            "\t\tValidation : Loss - 2.9715, Accuracy - 24.3100%, Time: 325.0674s\n",
            "Epoch: 6/25\n",
            "Validation Batch number: 000, Validation: Loss: 2.7383, Accuracy: 0.2188\n",
            "Validation Batch number: 100, Validation: Loss: 2.7721, Accuracy: 0.1875\n",
            "Validation Batch number: 200, Validation: Loss: 2.9095, Accuracy: 0.2500\n",
            "Validation Batch number: 300, Validation: Loss: 2.6061, Accuracy: 0.3125\n",
            "Epoch : 006, Training: Loss - 3.2321, Accuracy - 18.0340%, \n",
            "\t\tValidation : Loss - 2.6743, Accuracy - 30.8000%, Time: 325.2296s\n",
            "Epoch: 7/25\n",
            "Validation Batch number: 000, Validation: Loss: 2.0258, Accuracy: 0.4688\n",
            "Validation Batch number: 100, Validation: Loss: 2.8143, Accuracy: 0.2188\n",
            "Validation Batch number: 200, Validation: Loss: 2.6372, Accuracy: 0.2188\n",
            "Validation Batch number: 300, Validation: Loss: 2.6254, Accuracy: 0.2500\n",
            "Epoch : 007, Training: Loss - 3.0226, Accuracy - 21.9280%, \n",
            "\t\tValidation : Loss - 2.5015, Accuracy - 34.4700%, Time: 325.0289s\n",
            "Epoch: 8/25\n",
            "Validation Batch number: 000, Validation: Loss: 2.3703, Accuracy: 0.3125\n",
            "Validation Batch number: 100, Validation: Loss: 2.4611, Accuracy: 0.3438\n",
            "Validation Batch number: 200, Validation: Loss: 2.1653, Accuracy: 0.3750\n",
            "Validation Batch number: 300, Validation: Loss: 2.3391, Accuracy: 0.4375\n",
            "Epoch : 008, Training: Loss - 2.8291, Accuracy - 26.0120%, \n",
            "\t\tValidation : Loss - 2.3179, Accuracy - 38.1800%, Time: 322.4590s\n",
            "Epoch: 9/25\n",
            "Validation Batch number: 000, Validation: Loss: 2.2691, Accuracy: 0.4375\n",
            "Validation Batch number: 100, Validation: Loss: 2.0643, Accuracy: 0.4062\n",
            "Validation Batch number: 200, Validation: Loss: 1.9472, Accuracy: 0.4688\n",
            "Validation Batch number: 300, Validation: Loss: 1.7673, Accuracy: 0.5938\n",
            "Epoch : 009, Training: Loss - 2.6822, Accuracy - 28.8940%, \n",
            "\t\tValidation : Loss - 2.1698, Accuracy - 41.2000%, Time: 323.0197s\n",
            "Epoch: 10/25\n",
            "Validation Batch number: 000, Validation: Loss: 1.9216, Accuracy: 0.5000\n",
            "Validation Batch number: 100, Validation: Loss: 2.3459, Accuracy: 0.4375\n",
            "Validation Batch number: 200, Validation: Loss: 2.3273, Accuracy: 0.3750\n",
            "Validation Batch number: 300, Validation: Loss: 1.6711, Accuracy: 0.5312\n",
            "Epoch : 010, Training: Loss - 2.5392, Accuracy - 32.4740%, \n",
            "\t\tValidation : Loss - 2.0417, Accuracy - 44.3500%, Time: 322.9941s\n",
            "Epoch: 11/25\n",
            "Validation Batch number: 000, Validation: Loss: 1.9767, Accuracy: 0.5000\n",
            "Validation Batch number: 100, Validation: Loss: 1.7106, Accuracy: 0.4688\n",
            "Validation Batch number: 200, Validation: Loss: 1.9140, Accuracy: 0.5000\n",
            "Validation Batch number: 300, Validation: Loss: 1.8933, Accuracy: 0.4062\n",
            "Epoch : 011, Training: Loss - 2.4242, Accuracy - 34.9940%, \n",
            "\t\tValidation : Loss - 1.9519, Accuracy - 46.7700%, Time: 322.6326s\n",
            "Epoch: 12/25\n",
            "Validation Batch number: 000, Validation: Loss: 1.3425, Accuracy: 0.6875\n",
            "Validation Batch number: 100, Validation: Loss: 1.8356, Accuracy: 0.5625\n",
            "Validation Batch number: 200, Validation: Loss: 1.6734, Accuracy: 0.5000\n",
            "Validation Batch number: 300, Validation: Loss: 1.7559, Accuracy: 0.5312\n",
            "Epoch : 012, Training: Loss - 2.3116, Accuracy - 37.7000%, \n",
            "\t\tValidation : Loss - 1.8606, Accuracy - 49.4300%, Time: 322.1775s\n",
            "Epoch: 13/25\n",
            "Validation Batch number: 000, Validation: Loss: 1.5400, Accuracy: 0.4688\n",
            "Validation Batch number: 100, Validation: Loss: 1.4552, Accuracy: 0.4688\n",
            "Validation Batch number: 200, Validation: Loss: 1.5620, Accuracy: 0.5000\n",
            "Validation Batch number: 300, Validation: Loss: 2.2292, Accuracy: 0.4062\n",
            "Epoch : 013, Training: Loss - 2.2140, Accuracy - 39.9680%, \n",
            "\t\tValidation : Loss - 1.7893, Accuracy - 50.7300%, Time: 322.4339s\n",
            "Epoch: 14/25\n",
            "Validation Batch number: 000, Validation: Loss: 2.6477, Accuracy: 0.2812\n",
            "Validation Batch number: 100, Validation: Loss: 1.6712, Accuracy: 0.5625\n",
            "Validation Batch number: 200, Validation: Loss: 1.4982, Accuracy: 0.6562\n",
            "Validation Batch number: 300, Validation: Loss: 1.5359, Accuracy: 0.5625\n",
            "Epoch : 014, Training: Loss - 2.1123, Accuracy - 42.8800%, \n",
            "\t\tValidation : Loss - 1.7279, Accuracy - 52.2100%, Time: 322.1877s\n",
            "Epoch: 15/25\n",
            "Validation Batch number: 000, Validation: Loss: 1.5097, Accuracy: 0.5625\n",
            "Validation Batch number: 100, Validation: Loss: 1.7600, Accuracy: 0.5000\n",
            "Validation Batch number: 200, Validation: Loss: 2.3568, Accuracy: 0.3125\n",
            "Validation Batch number: 300, Validation: Loss: 1.4200, Accuracy: 0.6250\n",
            "Epoch : 015, Training: Loss - 2.0321, Accuracy - 44.6400%, \n",
            "\t\tValidation : Loss - 1.6694, Accuracy - 53.6400%, Time: 322.1011s\n",
            "Epoch: 16/25\n",
            "Validation Batch number: 000, Validation: Loss: 1.9941, Accuracy: 0.4688\n",
            "Validation Batch number: 100, Validation: Loss: 1.6470, Accuracy: 0.5625\n",
            "Validation Batch number: 200, Validation: Loss: 1.4516, Accuracy: 0.5312\n",
            "Validation Batch number: 300, Validation: Loss: 1.6000, Accuracy: 0.6250\n",
            "Epoch : 016, Training: Loss - 1.9561, Accuracy - 46.8140%, \n",
            "\t\tValidation : Loss - 1.6002, Accuracy - 55.2400%, Time: 322.5968s\n",
            "Epoch: 17/25\n",
            "Validation Batch number: 000, Validation: Loss: 1.4959, Accuracy: 0.6250\n",
            "Validation Batch number: 100, Validation: Loss: 1.8607, Accuracy: 0.5312\n",
            "Validation Batch number: 200, Validation: Loss: 1.5711, Accuracy: 0.5000\n",
            "Validation Batch number: 300, Validation: Loss: 1.2434, Accuracy: 0.5938\n",
            "Epoch : 017, Training: Loss - 1.8935, Accuracy - 48.0720%, \n",
            "\t\tValidation : Loss - 1.5539, Accuracy - 56.0100%, Time: 323.0598s\n",
            "Epoch: 18/25\n",
            "Validation Batch number: 000, Validation: Loss: 1.8842, Accuracy: 0.5000\n",
            "Validation Batch number: 100, Validation: Loss: 1.5327, Accuracy: 0.6562\n",
            "Validation Batch number: 200, Validation: Loss: 1.2726, Accuracy: 0.6250\n",
            "Validation Batch number: 300, Validation: Loss: 1.7577, Accuracy: 0.5625\n",
            "Epoch : 018, Training: Loss - 1.8244, Accuracy - 49.8960%, \n",
            "\t\tValidation : Loss - 1.5286, Accuracy - 57.3800%, Time: 322.1979s\n",
            "Epoch: 19/25\n",
            "Validation Batch number: 000, Validation: Loss: 1.5342, Accuracy: 0.5312\n",
            "Validation Batch number: 100, Validation: Loss: 1.5326, Accuracy: 0.5938\n",
            "Validation Batch number: 200, Validation: Loss: 1.1848, Accuracy: 0.6875\n",
            "Validation Batch number: 300, Validation: Loss: 1.2857, Accuracy: 0.5938\n",
            "Epoch : 019, Training: Loss - 1.7576, Accuracy - 51.7920%, \n",
            "\t\tValidation : Loss - 1.5090, Accuracy - 57.4300%, Time: 322.7370s\n",
            "Epoch: 20/25\n",
            "Validation Batch number: 000, Validation: Loss: 1.5894, Accuracy: 0.5312\n",
            "Validation Batch number: 100, Validation: Loss: 1.2493, Accuracy: 0.6875\n",
            "Validation Batch number: 200, Validation: Loss: 1.6521, Accuracy: 0.5000\n",
            "Validation Batch number: 300, Validation: Loss: 1.4207, Accuracy: 0.5938\n",
            "Epoch : 020, Training: Loss - 1.6989, Accuracy - 53.1020%, \n",
            "\t\tValidation : Loss - 1.4823, Accuracy - 58.7000%, Time: 323.5704s\n",
            "Epoch: 21/25\n",
            "Validation Batch number: 000, Validation: Loss: 1.7832, Accuracy: 0.5625\n",
            "Validation Batch number: 100, Validation: Loss: 1.1781, Accuracy: 0.6250\n",
            "Validation Batch number: 200, Validation: Loss: 1.6662, Accuracy: 0.4688\n",
            "Validation Batch number: 300, Validation: Loss: 1.9146, Accuracy: 0.4062\n",
            "Epoch : 021, Training: Loss - 1.6514, Accuracy - 54.0500%, \n",
            "\t\tValidation : Loss - 1.4552, Accuracy - 59.7800%, Time: 322.6593s\n",
            "Epoch: 22/25\n",
            "Validation Batch number: 000, Validation: Loss: 1.4320, Accuracy: 0.6250\n",
            "Validation Batch number: 100, Validation: Loss: 1.5013, Accuracy: 0.6250\n",
            "Validation Batch number: 200, Validation: Loss: 1.7671, Accuracy: 0.5938\n",
            "Validation Batch number: 300, Validation: Loss: 0.9522, Accuracy: 0.7188\n",
            "Epoch : 022, Training: Loss - 1.5919, Accuracy - 55.8300%, \n",
            "\t\tValidation : Loss - 1.4562, Accuracy - 59.9900%, Time: 322.7631s\n",
            "Epoch: 23/25\n",
            "Validation Batch number: 000, Validation: Loss: 1.4110, Accuracy: 0.6250\n",
            "Validation Batch number: 100, Validation: Loss: 1.4947, Accuracy: 0.6250\n",
            "Validation Batch number: 200, Validation: Loss: 1.3363, Accuracy: 0.6250\n",
            "Validation Batch number: 300, Validation: Loss: 1.1992, Accuracy: 0.6562\n",
            "Epoch : 023, Training: Loss - 1.5471, Accuracy - 57.1240%, \n",
            "\t\tValidation : Loss - 1.3829, Accuracy - 61.8000%, Time: 321.3299s\n",
            "Epoch: 24/25\n",
            "Validation Batch number: 000, Validation: Loss: 1.3734, Accuracy: 0.7188\n",
            "Validation Batch number: 100, Validation: Loss: 1.5618, Accuracy: 0.5625\n",
            "Validation Batch number: 200, Validation: Loss: 1.7736, Accuracy: 0.5312\n",
            "Validation Batch number: 300, Validation: Loss: 1.3711, Accuracy: 0.6562\n",
            "Epoch : 024, Training: Loss - 1.4931, Accuracy - 58.2500%, \n",
            "\t\tValidation : Loss - 1.3748, Accuracy - 61.2500%, Time: 320.3933s\n",
            "Epoch: 25/25\n",
            "Validation Batch number: 000, Validation: Loss: 1.1151, Accuracy: 0.5938\n",
            "Validation Batch number: 100, Validation: Loss: 0.9190, Accuracy: 0.7500\n",
            "Validation Batch number: 200, Validation: Loss: 1.1329, Accuracy: 0.6250\n",
            "Validation Batch number: 300, Validation: Loss: 1.4372, Accuracy: 0.5938\n",
            "Epoch : 025, Training: Loss - 1.4595, Accuracy - 59.2100%, \n",
            "\t\tValidation : Loss - 1.3614, Accuracy - 62.0700%, Time: 319.9274s\n"
          ],
          "name": "stdout"
        }
      ]
    },
    {
      "cell_type": "code",
      "metadata": {
        "id": "eRNwN1uHw98H"
      },
      "source": [
        ""
      ],
      "execution_count": null,
      "outputs": []
    }
  ]
}
{
  "nbformat": 4,
  "nbformat_minor": 0,
  "metadata": {
    "kernelspec": {
      "display_name": "Python 3",
      "language": "python",
      "name": "python3"
    },
    "language_info": {
      "codemirror_mode": {
        "name": "ipython",
        "version": 3
      },
      "file_extension": ".py",
      "mimetype": "text/x-python",
      "name": "python",
      "nbconvert_exporter": "python",
      "pygments_lexer": "ipython3",
      "version": "3.8.1"
    },
    "colab": {
      "name": "Torch Linear Regression.ipynb",
      "provenance": [],
      "collapsed_sections": []
    }
  },
  "cells": [
    {
      "cell_type": "code",
      "metadata": {
        "colab": {
          "base_uri": "https://localhost:8080/"
        },
        "id": "yx2zgJzySeTo",
        "outputId": "c875fef7-443d-4d2e-e30c-b4958207c4c3"
      },
      "source": [
        "from google.colab import drive\n",
        "drive.mount('/content/drive')"
      ],
      "execution_count": null,
      "outputs": [
        {
          "output_type": "stream",
          "text": [
            "Drive already mounted at /content/drive; to attempt to forcibly remount, call drive.mount(\"/content/drive\", force_remount=True).\n"
          ],
          "name": "stdout"
        }
      ]
    },
    {
      "cell_type": "code",
      "metadata": {
        "colab": {
          "base_uri": "https://localhost:8080/"
        },
        "id": "RDb53VlVSk3k",
        "outputId": "39afd513-2ed4-4a1c-8949-589dcce2150f"
      },
      "source": [
        "%cd '/content/drive/MyDrive/Pytorch/Pytorch Tutorial'\n",
        "!ls"
      ],
      "execution_count": null,
      "outputs": [
        {
          "output_type": "stream",
          "text": [
            "/content/drive/MyDrive/Pytorch/Pytorch Tutorial\n",
            " Autograd.ipynb   'Linear regression.ipynb'\n",
            " data_linear.csv  'Torch Linear Regression.ipynb'\n"
          ],
          "name": "stdout"
        }
      ]
    },
    {
      "cell_type": "code",
      "metadata": {
        "id": "8ozLmFVESTbS"
      },
      "source": [
        "import numpy as np\n",
        "import pandas as pd\n",
        "import matplotlib.pyplot as plt\n",
        "import torch\n",
        "import torch.nn as nn\n",
        "import torch.optim as optim"
      ],
      "execution_count": null,
      "outputs": []
    },
    {
      "cell_type": "code",
      "metadata": {
        "id": "rpAgDsPvSTbX"
      },
      "source": [
        "# load dữ liệu, chuyển về dạng numpy\n",
        "data = pd.read_csv('data_linear.csv').values"
      ],
      "execution_count": null,
      "outputs": []
    },
    {
      "cell_type": "code",
      "metadata": {
        "id": "2MfLo-DVSTbX"
      },
      "source": [
        "# chuyển dữ liệu về dạng torch\n",
        "x = torch.tensor(data[:,0], dtype=torch.float32)\n",
        "y = torch.tensor(data[:,1], dtype=torch.float32)\n",
        "x = x.unsqueeze(1)\n",
        "y = y.unsqueeze(1)"
      ],
      "execution_count": null,
      "outputs": []
    },
    {
      "cell_type": "code",
      "metadata": {
        "id": "cQOThn09STbY"
      },
      "source": [
        "# Hàm training\n",
        "def training_loop(n_epochs, optimizer, model, loss_fn, x, y):\n",
        "    losses = []\n",
        "    for epoch in range(1, n_epochs + 1):\n",
        "      y_hat = model(x)\n",
        "      print(y_hat.shape, y.shape)\n",
        "      loss = loss_fn(y_hat, y)\n",
        "      optimizer.zero_grad()\n",
        "      loss.backward()\n",
        "      optimizer.step()\n",
        "      if epoch % 1 == 0:\n",
        "              losses.append(loss.item())\n",
        "              print('Epoch %d, Loss %f' % (epoch, float(loss)))\n",
        "    return losses"
      ],
      "execution_count": null,
      "outputs": []
    },
    {
      "cell_type": "code",
      "metadata": {
        "id": "GQja4VfqajPc"
      },
      "source": [
        "linear_model = nn.Linear(1, 1)\n",
        "optimizer = optim.SGD(linear_model.parameters(), lr=0.00004)"
      ],
      "execution_count": null,
      "outputs": []
    },
    {
      "cell_type": "code",
      "metadata": {
        "colab": {
          "base_uri": "https://localhost:8080/"
        },
        "id": "DfUVUQjN4uzp",
        "outputId": "9ec991d5-d45d-4da2-88da-0e3a2e675376"
      },
      "source": [
        "list(linear_model.parameters())"
      ],
      "execution_count": null,
      "outputs": [
        {
          "output_type": "execute_result",
          "data": {
            "text/plain": [
              "[Parameter containing:\n",
              " tensor([[14.9464]], requires_grad=True), Parameter containing:\n",
              " tensor([1.1261], requires_grad=True)]"
            ]
          },
          "metadata": {
            "tags": []
          },
          "execution_count": 26
        }
      ]
    },
    {
      "cell_type": "code",
      "metadata": {
        "colab": {
          "base_uri": "https://localhost:8080/"
        },
        "id": "KKTbTSzTSTbY",
        "outputId": "84fe64b3-cd30-477d-bdae-6a61a3ce47fc"
      },
      "source": [
        "loss = training_loop(\n",
        "  n_epochs = 10,\n",
        "  optimizer = optimizer,\n",
        "  model = linear_model,\n",
        "  loss_fn = nn.MSELoss(),\n",
        "  x = x, \n",
        "  y = y\n",
        ")"
      ],
      "execution_count": null,
      "outputs": [
        {
          "output_type": "stream",
          "text": [
            "torch.Size([30, 1]) torch.Size([30, 1])\n",
            "Epoch 1, Loss 1197862.125000\n",
            "torch.Size([30, 1]) torch.Size([30, 1])\n",
            "Epoch 2, Loss 471079.875000\n",
            "torch.Size([30, 1]) torch.Size([30, 1])\n",
            "Epoch 3, Loss 185353.312500\n",
            "torch.Size([30, 1]) torch.Size([30, 1])\n",
            "Epoch 4, Loss 73023.078125\n",
            "torch.Size([30, 1]) torch.Size([30, 1])\n",
            "Epoch 5, Loss 28861.699219\n",
            "torch.Size([30, 1]) torch.Size([30, 1])\n",
            "Epoch 6, Loss 11500.138672\n",
            "torch.Size([30, 1]) torch.Size([30, 1])\n",
            "Epoch 7, Loss 4674.631348\n",
            "torch.Size([30, 1]) torch.Size([30, 1])\n",
            "Epoch 8, Loss 1991.258057\n",
            "torch.Size([30, 1]) torch.Size([30, 1])\n",
            "Epoch 9, Loss 936.317261\n",
            "torch.Size([30, 1]) torch.Size([30, 1])\n",
            "Epoch 10, Loss 521.580505\n"
          ],
          "name": "stdout"
        }
      ]
    },
    {
      "cell_type": "code",
      "metadata": {
        "colab": {
          "base_uri": "https://localhost:8080/",
          "height": 307
        },
        "id": "7UiFniLVSTbZ",
        "outputId": "993bccca-27d4-45ac-eaf2-9368e6a1f3f1"
      },
      "source": [
        "plt.plot(loss)\n",
        "plt.xlabel('epoch')\n",
        "plt.ylabel('loss')"
      ],
      "execution_count": null,
      "outputs": [
        {
          "output_type": "execute_result",
          "data": {
            "text/plain": [
              "Text(0, 0.5, 'loss')"
            ]
          },
          "metadata": {
            "tags": []
          },
          "execution_count": 23
        },
        {
          "output_type": "display_data",
          "data": {
            "image/png": "[encoded data removed]",
            "text/plain": [
              "<Figure size 432x288 with 1 Axes>"
            ]
          },
          "metadata": {
            "tags": [],
            "needs_background": "light"
          }
        }
      ]
    },
    {
      "cell_type": "code",
      "metadata": {
        "colab": {
          "base_uri": "https://localhost:8080/",
          "height": 282
        },
        "id": "U3duVVQeSTbZ",
        "outputId": "cf9d7cba-5ee4-4d15-ba77-70d91ff5a082"
      },
      "source": [
        "# chuyển dữ liệu về dạng torch\n",
        "x = torch.tensor(data[:,0], dtype=torch.float32)\n",
        "y = torch.tensor(data[:,1], dtype=torch.float32)\n",
        "x = x.unsqueeze(1)\n",
        "\n",
        "with torch.no_grad():\n",
        "    y_hat = linear_model(x)\n",
        "plt.scatter(x, y)\n",
        "plt.plot(x, y_hat, c='r')"
      ],
      "execution_count": null,
      "outputs": [
        {
          "output_type": "execute_result",
          "data": {
            "text/plain": [
              "[<matplotlib.lines.Line2D at 0x7fc8c268a690>]"
            ]
          },
          "metadata": {
            "tags": []
          },
          "execution_count": 24
        },
        {
          "output_type": "display_data",
          "data": {
            "image/png": "[encoded data removed]",
            "text/plain": [
              "<Figure size 432x288 with 1 Axes>"
            ]
          },
          "metadata": {
            "tags": [],
            "needs_background": "light"
          }
        }
      ]
    },
    {
      "cell_type": "code",
      "metadata": {
        "id": "bzIOt49ux9iH"
      },
      "source": [
        ""
      ],
      "execution_count": null,
      "outputs": []
    }
  ]
}
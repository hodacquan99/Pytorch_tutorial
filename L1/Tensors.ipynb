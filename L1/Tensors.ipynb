{
  "nbformat": 4,
  "nbformat_minor": 5,
  "metadata": {
    "kernelspec": {
      "display_name": "Python 3",
      "language": "python",
      "name": "python3"
    },
    "language_info": {
      "codemirror_mode": {
        "name": "ipython",
        "version": 3
      },
      "file_extension": ".py",
      "mimetype": "text/x-python",
      "name": "python",
      "nbconvert_exporter": "python",
      "pygments_lexer": "ipython3",
      "version": "3.8.1"
    },
    "colab": {
      "name": "Tensors.ipynb",
      "provenance": [],
      "collapsed_sections": [
        "interstate-championship",
        "durable-ethiopia",
        "under-trustee",
        "preceding-mortgage",
        "promotional-biology",
        "personal-corpus",
        "earlier-spine",
        "WQcxu2gNyJUs",
        "honey-toolbox"
      ]
    },
    "accelerator": "GPU"
  },
  "cells": [
    {
      "cell_type": "code",
      "metadata": {
        "colab": {
          "base_uri": "https://localhost:8080/"
        },
        "id": "-odHJR5Wy_7Z",
        "outputId": "3024c92a-64b1-4d3e-e057-856ef34b9d4e"
      },
      "source": [
        "!pip install torch"
      ],
      "id": "-odHJR5Wy_7Z",
      "execution_count": 1,
      "outputs": [
        {
          "output_type": "stream",
          "text": [
            "Requirement already satisfied: torch in /usr/local/lib/python3.7/dist-packages (1.7.1+cu101)\n",
            "Requirement already satisfied: typing-extensions in /usr/local/lib/python3.7/dist-packages (from torch) (3.7.4.3)\n",
            "Requirement already satisfied: numpy in /usr/local/lib/python3.7/dist-packages (from torch) (1.19.5)\n"
          ],
          "name": "stdout"
        }
      ]
    },
    {
      "cell_type": "code",
      "metadata": {
        "id": "unlikely-oriental"
      },
      "source": [
        "import torch\r\n",
        "import numpy as np"
      ],
      "id": "unlikely-oriental",
      "execution_count": 2,
      "outputs": []
    },
    {
      "cell_type": "markdown",
      "metadata": {
        "id": "interstate-championship"
      },
      "source": [
        "# Vector"
      ],
      "id": "interstate-championship"
    },
    {
      "cell_type": "code",
      "metadata": {
        "id": "billion-chocolate"
      },
      "source": [
        "x = torch.tensor([1, 2, 3])"
      ],
      "id": "billion-chocolate",
      "execution_count": 3,
      "outputs": []
    },
    {
      "cell_type": "code",
      "metadata": {
        "colab": {
          "base_uri": "https://localhost:8080/"
        },
        "id": "twenty-wellington",
        "outputId": "1067b151-3bee-4cf9-b6b1-3dcd0afdcc46"
      },
      "source": [
        "x[0]"
      ],
      "id": "twenty-wellington",
      "execution_count": 4,
      "outputs": [
        {
          "output_type": "execute_result",
          "data": {
            "text/plain": [
              "tensor(1)"
            ]
          },
          "metadata": {
            "tags": []
          },
          "execution_count": 4
        }
      ]
    },
    {
      "cell_type": "code",
      "metadata": {
        "colab": {
          "base_uri": "https://localhost:8080/"
        },
        "id": "simple-participant",
        "outputId": "dfc1a9be-401b-4846-f88c-570d5adfdbf3"
      },
      "source": [
        "x.shape[0]"
      ],
      "id": "simple-participant",
      "execution_count": 5,
      "outputs": [
        {
          "output_type": "execute_result",
          "data": {
            "text/plain": [
              "3"
            ]
          },
          "metadata": {
            "tags": []
          },
          "execution_count": 5
        }
      ]
    },
    {
      "cell_type": "code",
      "metadata": {
        "colab": {
          "base_uri": "https://localhost:8080/"
        },
        "id": "weird-arnold",
        "outputId": "d41e3768-0747-482b-ac7e-28082baa82ae"
      },
      "source": [
        "x[x.shape[0] - 1]"
      ],
      "id": "weird-arnold",
      "execution_count": 6,
      "outputs": [
        {
          "output_type": "execute_result",
          "data": {
            "text/plain": [
              "tensor(3)"
            ]
          },
          "metadata": {
            "tags": []
          },
          "execution_count": 6
        }
      ]
    },
    {
      "cell_type": "code",
      "metadata": {
        "colab": {
          "base_uri": "https://localhost:8080/"
        },
        "id": "desirable-indonesian",
        "outputId": "cde773e5-c009-4f09-e535-90e366eef9b5"
      },
      "source": [
        "x[-1]"
      ],
      "id": "desirable-indonesian",
      "execution_count": 7,
      "outputs": [
        {
          "output_type": "execute_result",
          "data": {
            "text/plain": [
              "tensor(3)"
            ]
          },
          "metadata": {
            "tags": []
          },
          "execution_count": 7
        }
      ]
    },
    {
      "cell_type": "code",
      "metadata": {
        "id": "skilled-scotland"
      },
      "source": [
        "x = torch.tensor([1, 2, 3, 4, 5, 6, 7])"
      ],
      "id": "skilled-scotland",
      "execution_count": 8,
      "outputs": []
    },
    {
      "cell_type": "code",
      "metadata": {
        "colab": {
          "base_uri": "https://localhost:8080/"
        },
        "id": "sharing-recipe",
        "outputId": "52f2da1a-95a5-4bc9-85c4-b1abe922425b"
      },
      "source": [
        "x[::2]"
      ],
      "id": "sharing-recipe",
      "execution_count": 9,
      "outputs": [
        {
          "output_type": "execute_result",
          "data": {
            "text/plain": [
              "tensor([1, 3, 5, 7])"
            ]
          },
          "metadata": {
            "tags": []
          },
          "execution_count": 9
        }
      ]
    },
    {
      "cell_type": "code",
      "metadata": {
        "colab": {
          "base_uri": "https://localhost:8080/"
        },
        "id": "automated-billy",
        "outputId": "7924d151-f380-44ce-9694-e8fde4279c67"
      },
      "source": [
        "x[1:5:2]"
      ],
      "id": "automated-billy",
      "execution_count": 10,
      "outputs": [
        {
          "output_type": "execute_result",
          "data": {
            "text/plain": [
              "tensor([2, 4])"
            ]
          },
          "metadata": {
            "tags": []
          },
          "execution_count": 10
        }
      ]
    },
    {
      "cell_type": "code",
      "metadata": {
        "colab": {
          "base_uri": "https://localhost:8080/",
          "height": 163
        },
        "id": "demographic-count",
        "outputId": "16fcb993-ed65-4731-cb81-db2918b9f721"
      },
      "source": [
        "x[::-1]"
      ],
      "id": "demographic-count",
      "execution_count": 11,
      "outputs": [
        {
          "output_type": "error",
          "ename": "ValueError",
          "evalue": "ignored",
          "traceback": [
            "\u001b[0;31m---------------------------------------------------------------------------\u001b[0m",
            "\u001b[0;31mValueError\u001b[0m                                Traceback (most recent call last)",
            "\u001b[0;32m<ipython-input-11-fc433e12835a>\u001b[0m in \u001b[0;36m<module>\u001b[0;34m()\u001b[0m\n\u001b[0;32m----> 1\u001b[0;31m \u001b[0mx\u001b[0m\u001b[0;34m[\u001b[0m\u001b[0;34m:\u001b[0m\u001b[0;34m:\u001b[0m\u001b[0;34m-\u001b[0m\u001b[0;36m1\u001b[0m\u001b[0;34m]\u001b[0m\u001b[0;34m\u001b[0m\u001b[0;34m\u001b[0m\u001b[0m\n\u001b[0m",
            "\u001b[0;31mValueError\u001b[0m: step must be greater than zero"
          ]
        }
      ]
    },
    {
      "cell_type": "markdown",
      "metadata": {
        "id": "durable-ethiopia"
      },
      "source": [
        "# Matrix"
      ],
      "id": "durable-ethiopia"
    },
    {
      "cell_type": "code",
      "metadata": {
        "id": "latter-history"
      },
      "source": [
        "A = torch.tensor([[1, 2], [3, 4], [5, 6]])"
      ],
      "id": "latter-history",
      "execution_count": 12,
      "outputs": []
    },
    {
      "cell_type": "code",
      "metadata": {
        "colab": {
          "base_uri": "https://localhost:8080/"
        },
        "id": "logical-chicken",
        "outputId": "f7693721-f453-4673-a181-47d2bca35852"
      },
      "source": [
        "A[2, 1]"
      ],
      "id": "logical-chicken",
      "execution_count": 13,
      "outputs": [
        {
          "output_type": "execute_result",
          "data": {
            "text/plain": [
              "tensor(6)"
            ]
          },
          "metadata": {
            "tags": []
          },
          "execution_count": 13
        }
      ]
    },
    {
      "cell_type": "code",
      "metadata": {
        "colab": {
          "base_uri": "https://localhost:8080/"
        },
        "id": "regulation-faculty",
        "outputId": "d29a20b9-e7ea-4d08-f8c8-776bd3ed5a1e"
      },
      "source": [
        "float(A[2, 1])"
      ],
      "id": "regulation-faculty",
      "execution_count": 14,
      "outputs": [
        {
          "output_type": "execute_result",
          "data": {
            "text/plain": [
              "6.0"
            ]
          },
          "metadata": {
            "tags": []
          },
          "execution_count": 14
        }
      ]
    },
    {
      "cell_type": "code",
      "metadata": {
        "colab": {
          "base_uri": "https://localhost:8080/"
        },
        "id": "respected-flexibility",
        "outputId": "3a866cbe-5c41-425f-f80a-9b9363e5168e"
      },
      "source": [
        "A[1:, :1]"
      ],
      "id": "respected-flexibility",
      "execution_count": 15,
      "outputs": [
        {
          "output_type": "execute_result",
          "data": {
            "text/plain": [
              "tensor([[3],\n",
              "        [5]])"
            ]
          },
          "metadata": {
            "tags": []
          },
          "execution_count": 15
        }
      ]
    },
    {
      "cell_type": "code",
      "metadata": {
        "colab": {
          "base_uri": "https://localhost:8080/"
        },
        "id": "welcome-drama",
        "outputId": "d559907d-f245-4c4e-df1c-ce695777c24a"
      },
      "source": [
        "A[:, 1]"
      ],
      "id": "welcome-drama",
      "execution_count": 16,
      "outputs": [
        {
          "output_type": "execute_result",
          "data": {
            "text/plain": [
              "tensor([2, 4, 6])"
            ]
          },
          "metadata": {
            "tags": []
          },
          "execution_count": 16
        }
      ]
    },
    {
      "cell_type": "markdown",
      "metadata": {
        "id": "under-trustee"
      },
      "source": [
        "# Dtype"
      ],
      "id": "under-trustee"
    },
    {
      "cell_type": "code",
      "metadata": {
        "id": "angry-ivory"
      },
      "source": [
        "points = torch.tensor([7, 8, 10, 6.5])"
      ],
      "id": "angry-ivory",
      "execution_count": 17,
      "outputs": []
    },
    {
      "cell_type": "code",
      "metadata": {
        "colab": {
          "base_uri": "https://localhost:8080/"
        },
        "id": "dramatic-midwest",
        "outputId": "484ae6aa-b097-4237-834a-10b2c1f218a8"
      },
      "source": [
        "points.dtype"
      ],
      "id": "dramatic-midwest",
      "execution_count": 18,
      "outputs": [
        {
          "output_type": "execute_result",
          "data": {
            "text/plain": [
              "torch.float32"
            ]
          },
          "metadata": {
            "tags": []
          },
          "execution_count": 18
        }
      ]
    },
    {
      "cell_type": "code",
      "metadata": {
        "colab": {
          "base_uri": "https://localhost:8080/"
        },
        "id": "wanted-freedom",
        "outputId": "f208fe60-266f-4a4f-aa17-f237de5f3117"
      },
      "source": [
        "points = torch.tensor([7, 8, 10, 6])\n",
        "points.dtype"
      ],
      "id": "wanted-freedom",
      "execution_count": 19,
      "outputs": [
        {
          "output_type": "execute_result",
          "data": {
            "text/plain": [
              "torch.int64"
            ]
          },
          "metadata": {
            "tags": []
          },
          "execution_count": 19
        }
      ]
    },
    {
      "cell_type": "code",
      "metadata": {
        "colab": {
          "base_uri": "https://localhost:8080/"
        },
        "id": "downtown-armor",
        "outputId": "c651c445-44e1-4385-d5af-36c6f7a3d3d0"
      },
      "source": [
        "points = torch.tensor([7, 8, 10, 6], dtype=torch.short)\n",
        "points.dtype"
      ],
      "id": "downtown-armor",
      "execution_count": 20,
      "outputs": [
        {
          "output_type": "execute_result",
          "data": {
            "text/plain": [
              "torch.int16"
            ]
          },
          "metadata": {
            "tags": []
          },
          "execution_count": 20
        }
      ]
    },
    {
      "cell_type": "code",
      "metadata": {
        "colab": {
          "base_uri": "https://localhost:8080/"
        },
        "id": "metric-probability",
        "outputId": "6f9396dc-2114-406e-d0a6-bb9c89e1bead"
      },
      "source": [
        "points = torch.tensor([7, 8, 10, 6]).short()\n",
        "points.dtype"
      ],
      "id": "metric-probability",
      "execution_count": 21,
      "outputs": [
        {
          "output_type": "execute_result",
          "data": {
            "text/plain": [
              "torch.int16"
            ]
          },
          "metadata": {
            "tags": []
          },
          "execution_count": 21
        }
      ]
    },
    {
      "cell_type": "markdown",
      "metadata": {
        "id": "preceding-mortgage"
      },
      "source": [
        "# Transpose"
      ],
      "id": "preceding-mortgage"
    },
    {
      "cell_type": "code",
      "metadata": {
        "id": "fleet-retirement"
      },
      "source": [
        "A = torch.tensor([[1, 2], [3, 4], [5, 6]])"
      ],
      "id": "fleet-retirement",
      "execution_count": 22,
      "outputs": []
    },
    {
      "cell_type": "code",
      "metadata": {
        "colab": {
          "base_uri": "https://localhost:8080/"
        },
        "id": "governing-auckland",
        "outputId": "b84a4294-89db-4487-9282-0c77c2d3c540"
      },
      "source": [
        "A"
      ],
      "id": "governing-auckland",
      "execution_count": 23,
      "outputs": [
        {
          "output_type": "execute_result",
          "data": {
            "text/plain": [
              "tensor([[1, 2],\n",
              "        [3, 4],\n",
              "        [5, 6]])"
            ]
          },
          "metadata": {
            "tags": []
          },
          "execution_count": 23
        }
      ]
    },
    {
      "cell_type": "code",
      "metadata": {
        "colab": {
          "base_uri": "https://localhost:8080/"
        },
        "id": "immediate-native",
        "outputId": "6811ab03-09d6-4bd9-c400-a6f6289996de"
      },
      "source": [
        "A_t = A.transpose(0, 1)\n",
        "A_t"
      ],
      "id": "immediate-native",
      "execution_count": 24,
      "outputs": [
        {
          "output_type": "execute_result",
          "data": {
            "text/plain": [
              "tensor([[1, 3, 5],\n",
              "        [2, 4, 6]])"
            ]
          },
          "metadata": {
            "tags": []
          },
          "execution_count": 24
        }
      ]
    },
    {
      "cell_type": "code",
      "metadata": {
        "colab": {
          "base_uri": "https://localhost:8080/"
        },
        "id": "harmful-handbook",
        "outputId": "1b850be8-701c-4f39-82b0-6266ddec777d"
      },
      "source": [
        "A.shape, A_t.shape"
      ],
      "id": "harmful-handbook",
      "execution_count": 25,
      "outputs": [
        {
          "output_type": "execute_result",
          "data": {
            "text/plain": [
              "(torch.Size([3, 2]), torch.Size([2, 3]))"
            ]
          },
          "metadata": {
            "tags": []
          },
          "execution_count": 25
        }
      ]
    },
    {
      "cell_type": "code",
      "metadata": {
        "id": "dirty-gathering"
      },
      "source": [
        "A = torch.tensor([[[1, 2, 3, 4], [5, 6, 7, 8], [9, 10, 11, 12]], [[13, 14, 15, 16], [17, 18, 19, 20], [21, 22, 23, 24]]])"
      ],
      "id": "dirty-gathering",
      "execution_count": 26,
      "outputs": []
    },
    {
      "cell_type": "code",
      "metadata": {
        "colab": {
          "base_uri": "https://localhost:8080/"
        },
        "id": "excited-phoenix",
        "outputId": "7adbf012-bb68-4a55-a33e-a7337f4ac424"
      },
      "source": [
        "A"
      ],
      "id": "excited-phoenix",
      "execution_count": 27,
      "outputs": [
        {
          "output_type": "execute_result",
          "data": {
            "text/plain": [
              "tensor([[[ 1,  2,  3,  4],\n",
              "         [ 5,  6,  7,  8],\n",
              "         [ 9, 10, 11, 12]],\n",
              "\n",
              "        [[13, 14, 15, 16],\n",
              "         [17, 18, 19, 20],\n",
              "         [21, 22, 23, 24]]])"
            ]
          },
          "metadata": {
            "tags": []
          },
          "execution_count": 27
        }
      ]
    },
    {
      "cell_type": "code",
      "metadata": {
        "colab": {
          "base_uri": "https://localhost:8080/"
        },
        "id": "finite-frame",
        "outputId": "2535db2a-f155-4253-c411-f395b2d5bf59"
      },
      "source": [
        "A.shape"
      ],
      "id": "finite-frame",
      "execution_count": 28,
      "outputs": [
        {
          "output_type": "execute_result",
          "data": {
            "text/plain": [
              "torch.Size([2, 3, 4])"
            ]
          },
          "metadata": {
            "tags": []
          },
          "execution_count": 28
        }
      ]
    },
    {
      "cell_type": "code",
      "metadata": {
        "id": "stuck-center"
      },
      "source": [
        "A_t = A.transpose(0, 1)"
      ],
      "id": "stuck-center",
      "execution_count": 29,
      "outputs": []
    },
    {
      "cell_type": "code",
      "metadata": {
        "colab": {
          "base_uri": "https://localhost:8080/"
        },
        "id": "italian-skating",
        "outputId": "79eaad56-f0ae-427a-8355-1ca3098532bb"
      },
      "source": [
        "A_t"
      ],
      "id": "italian-skating",
      "execution_count": 30,
      "outputs": [
        {
          "output_type": "execute_result",
          "data": {
            "text/plain": [
              "tensor([[[ 1,  2,  3,  4],\n",
              "         [13, 14, 15, 16]],\n",
              "\n",
              "        [[ 5,  6,  7,  8],\n",
              "         [17, 18, 19, 20]],\n",
              "\n",
              "        [[ 9, 10, 11, 12],\n",
              "         [21, 22, 23, 24]]])"
            ]
          },
          "metadata": {
            "tags": []
          },
          "execution_count": 30
        }
      ]
    },
    {
      "cell_type": "code",
      "metadata": {
        "colab": {
          "base_uri": "https://localhost:8080/"
        },
        "id": "sought-narrow",
        "outputId": "316dc15f-a8e1-4a23-97d0-ede1a1e5f092"
      },
      "source": [
        "A_t.shape"
      ],
      "id": "sought-narrow",
      "execution_count": 31,
      "outputs": [
        {
          "output_type": "execute_result",
          "data": {
            "text/plain": [
              "torch.Size([3, 2, 4])"
            ]
          },
          "metadata": {
            "tags": []
          },
          "execution_count": 31
        }
      ]
    },
    {
      "cell_type": "markdown",
      "metadata": {
        "id": "promotional-biology"
      },
      "source": [
        "# Storage"
      ],
      "id": "promotional-biology"
    },
    {
      "cell_type": "code",
      "metadata": {
        "id": "advised-flour"
      },
      "source": [
        "x = torch.tensor([[1,2,3],[4,5,6]])"
      ],
      "id": "advised-flour",
      "execution_count": 32,
      "outputs": []
    },
    {
      "cell_type": "code",
      "metadata": {
        "colab": {
          "base_uri": "https://localhost:8080/"
        },
        "id": "black-stream",
        "outputId": "146d18a6-9c2a-4ad2-ba88-7bd5ea0d3a8c"
      },
      "source": [
        "x.storage()"
      ],
      "id": "black-stream",
      "execution_count": 33,
      "outputs": [
        {
          "output_type": "execute_result",
          "data": {
            "text/plain": [
              " 1\n",
              " 2\n",
              " 3\n",
              " 4\n",
              " 5\n",
              " 6\n",
              "[torch.LongStorage of size 6]"
            ]
          },
          "metadata": {
            "tags": []
          },
          "execution_count": 33
        }
      ]
    },
    {
      "cell_type": "code",
      "metadata": {
        "colab": {
          "base_uri": "https://localhost:8080/"
        },
        "id": "nuclear-norman",
        "outputId": "0807bd30-c1d8-4fb2-fa2a-2a3a8ab89fa3"
      },
      "source": [
        "x[1][2] == x.storage()[5]"
      ],
      "id": "nuclear-norman",
      "execution_count": 34,
      "outputs": [
        {
          "output_type": "execute_result",
          "data": {
            "text/plain": [
              "tensor(True)"
            ]
          },
          "metadata": {
            "tags": []
          },
          "execution_count": 34
        }
      ]
    },
    {
      "cell_type": "markdown",
      "metadata": {
        "id": "personal-corpus"
      },
      "source": [
        "# Tensor metadata: Size, offset, stride"
      ],
      "id": "personal-corpus"
    },
    {
      "cell_type": "code",
      "metadata": {
        "id": "inner-vertical"
      },
      "source": [
        "x = torch.tensor([[3, 1, 2], [4, 1, 7]])"
      ],
      "id": "inner-vertical",
      "execution_count": 35,
      "outputs": []
    },
    {
      "cell_type": "code",
      "metadata": {
        "colab": {
          "base_uri": "https://localhost:8080/"
        },
        "id": "solid-andrew",
        "outputId": "c3b70d13-9d09-4f51-bb10-b3084e199d95"
      },
      "source": [
        "x"
      ],
      "id": "solid-andrew",
      "execution_count": 36,
      "outputs": [
        {
          "output_type": "execute_result",
          "data": {
            "text/plain": [
              "tensor([[3, 1, 2],\n",
              "        [4, 1, 7]])"
            ]
          },
          "metadata": {
            "tags": []
          },
          "execution_count": 36
        }
      ]
    },
    {
      "cell_type": "code",
      "metadata": {
        "id": "blank-newfoundland"
      },
      "source": [
        "x_t = x.t()"
      ],
      "id": "blank-newfoundland",
      "execution_count": 37,
      "outputs": []
    },
    {
      "cell_type": "code",
      "metadata": {
        "colab": {
          "base_uri": "https://localhost:8080/"
        },
        "id": "complex-registration",
        "outputId": "4025e1e0-738a-4154-cc5a-ea57d204e6de"
      },
      "source": [
        "x_t"
      ],
      "id": "complex-registration",
      "execution_count": 38,
      "outputs": [
        {
          "output_type": "execute_result",
          "data": {
            "text/plain": [
              "tensor([[3, 4],\n",
              "        [1, 1],\n",
              "        [2, 7]])"
            ]
          },
          "metadata": {
            "tags": []
          },
          "execution_count": 38
        }
      ]
    },
    {
      "cell_type": "code",
      "metadata": {
        "colab": {
          "base_uri": "https://localhost:8080/"
        },
        "id": "heated-hollywood",
        "outputId": "15e5ba3b-b976-40b5-87fa-22ff68f6ddc1"
      },
      "source": [
        "id(x.storage()) == id(x_t.storage())"
      ],
      "id": "heated-hollywood",
      "execution_count": 39,
      "outputs": [
        {
          "output_type": "execute_result",
          "data": {
            "text/plain": [
              "True"
            ]
          },
          "metadata": {
            "tags": []
          },
          "execution_count": 39
        }
      ]
    },
    {
      "cell_type": "code",
      "metadata": {
        "colab": {
          "base_uri": "https://localhost:8080/"
        },
        "id": "separate-memory",
        "outputId": "6624eedc-5281-4691-af2b-17b93fca7f32"
      },
      "source": [
        "x.stride(), x_t.stride()"
      ],
      "id": "separate-memory",
      "execution_count": 40,
      "outputs": [
        {
          "output_type": "execute_result",
          "data": {
            "text/plain": [
              "((3, 1), (1, 3))"
            ]
          },
          "metadata": {
            "tags": []
          },
          "execution_count": 40
        }
      ]
    },
    {
      "cell_type": "markdown",
      "metadata": {
        "id": "earlier-spine"
      },
      "source": [
        "# Contiguous Tensors"
      ],
      "id": "earlier-spine"
    },
    {
      "cell_type": "code",
      "metadata": {
        "colab": {
          "base_uri": "https://localhost:8080/"
        },
        "id": "nearby-cambridge",
        "outputId": "aa8ecd6e-f0f7-4434-ec7f-f85e141aef1b"
      },
      "source": [
        "x.is_contiguous()"
      ],
      "id": "nearby-cambridge",
      "execution_count": 41,
      "outputs": [
        {
          "output_type": "execute_result",
          "data": {
            "text/plain": [
              "True"
            ]
          },
          "metadata": {
            "tags": []
          },
          "execution_count": 41
        }
      ]
    },
    {
      "cell_type": "code",
      "metadata": {
        "colab": {
          "base_uri": "https://localhost:8080/"
        },
        "id": "scenic-value",
        "outputId": "504b2c10-63c9-4293-c631-78fcaf134069"
      },
      "source": [
        "x_t.is_contiguous()"
      ],
      "id": "scenic-value",
      "execution_count": 42,
      "outputs": [
        {
          "output_type": "execute_result",
          "data": {
            "text/plain": [
              "False"
            ]
          },
          "metadata": {
            "tags": []
          },
          "execution_count": 42
        }
      ]
    },
    {
      "cell_type": "code",
      "metadata": {
        "colab": {
          "base_uri": "https://localhost:8080/"
        },
        "id": "graduate-camel",
        "outputId": "58c081db-cdb5-41ff-d634-c4c0b60e20a1"
      },
      "source": [
        "x_t"
      ],
      "id": "graduate-camel",
      "execution_count": 43,
      "outputs": [
        {
          "output_type": "execute_result",
          "data": {
            "text/plain": [
              "tensor([[3, 4],\n",
              "        [1, 1],\n",
              "        [2, 7]])"
            ]
          },
          "metadata": {
            "tags": []
          },
          "execution_count": 43
        }
      ]
    },
    {
      "cell_type": "code",
      "metadata": {
        "id": "consolidated-seeker"
      },
      "source": [
        "x_t_con = x_t.contiguous()"
      ],
      "id": "consolidated-seeker",
      "execution_count": 44,
      "outputs": []
    },
    {
      "cell_type": "code",
      "metadata": {
        "colab": {
          "base_uri": "https://localhost:8080/"
        },
        "id": "enhanced-ideal",
        "outputId": "2aac4a44-9703-4dde-ef17-5148acf68fa3"
      },
      "source": [
        "x_t_con"
      ],
      "id": "enhanced-ideal",
      "execution_count": 45,
      "outputs": [
        {
          "output_type": "execute_result",
          "data": {
            "text/plain": [
              "tensor([[3, 4],\n",
              "        [1, 1],\n",
              "        [2, 7]])"
            ]
          },
          "metadata": {
            "tags": []
          },
          "execution_count": 45
        }
      ]
    },
    {
      "cell_type": "code",
      "metadata": {
        "colab": {
          "base_uri": "https://localhost:8080/"
        },
        "id": "intense-pickup",
        "outputId": "855f8f90-b85e-4a75-a97f-ab90124d5087"
      },
      "source": [
        "x_t_con.is_contiguous()"
      ],
      "id": "intense-pickup",
      "execution_count": 46,
      "outputs": [
        {
          "output_type": "execute_result",
          "data": {
            "text/plain": [
              "True"
            ]
          },
          "metadata": {
            "tags": []
          },
          "execution_count": 46
        }
      ]
    },
    {
      "cell_type": "code",
      "metadata": {
        "colab": {
          "base_uri": "https://localhost:8080/"
        },
        "id": "numerical-horizon",
        "outputId": "f5f860b1-2dab-40cc-9af0-e1ea7f9af7dd"
      },
      "source": [
        "x_t.storage()"
      ],
      "id": "numerical-horizon",
      "execution_count": 47,
      "outputs": [
        {
          "output_type": "execute_result",
          "data": {
            "text/plain": [
              " 3\n",
              " 1\n",
              " 2\n",
              " 4\n",
              " 1\n",
              " 7\n",
              "[torch.LongStorage of size 6]"
            ]
          },
          "metadata": {
            "tags": []
          },
          "execution_count": 47
        }
      ]
    },
    {
      "cell_type": "code",
      "metadata": {
        "colab": {
          "base_uri": "https://localhost:8080/"
        },
        "id": "round-audience",
        "outputId": "50881647-ad25-4833-f905-6c4d073ac5fd"
      },
      "source": [
        "x_t_con.storage()"
      ],
      "id": "round-audience",
      "execution_count": 48,
      "outputs": [
        {
          "output_type": "execute_result",
          "data": {
            "text/plain": [
              " 3\n",
              " 4\n",
              " 1\n",
              " 1\n",
              " 2\n",
              " 7\n",
              "[torch.LongStorage of size 6]"
            ]
          },
          "metadata": {
            "tags": []
          },
          "execution_count": 48
        }
      ]
    },
    {
      "cell_type": "markdown",
      "metadata": {
        "id": "WQcxu2gNyJUs"
      },
      "source": [
        "# Torch GPU"
      ],
      "id": "WQcxu2gNyJUs"
    },
    {
      "cell_type": "code",
      "metadata": {
        "id": "J-kvqyWTyOM5"
      },
      "source": [
        "x_gpu = torch.tensor([[4.0, 1.0], [5.0, 3.0], [2.0, 1.0]], device='cuda')"
      ],
      "id": "J-kvqyWTyOM5",
      "execution_count": 49,
      "outputs": []
    },
    {
      "cell_type": "code",
      "metadata": {
        "colab": {
          "base_uri": "https://localhost:8080/"
        },
        "id": "fhdWyav6yQul",
        "outputId": "dbcf3f5b-8be1-43de-bb9f-fe7de960b392"
      },
      "source": [
        "x_gpu"
      ],
      "id": "fhdWyav6yQul",
      "execution_count": 50,
      "outputs": [
        {
          "output_type": "execute_result",
          "data": {
            "text/plain": [
              "tensor([[4., 1.],\n",
              "        [5., 3.],\n",
              "        [2., 1.]], device='cuda:0')"
            ]
          },
          "metadata": {
            "tags": []
          },
          "execution_count": 50
        }
      ]
    },
    {
      "cell_type": "code",
      "metadata": {
        "colab": {
          "base_uri": "https://localhost:8080/"
        },
        "id": "9qEPTELqySOI",
        "outputId": "bd562204-63f1-4b35-c5b2-0a66ed475897"
      },
      "source": [
        "x = torch.tensor([[4.0, 1.0], [5.0, 3.0], [2.0, 1.0]])\r\n",
        "x"
      ],
      "id": "9qEPTELqySOI",
      "execution_count": 51,
      "outputs": [
        {
          "output_type": "execute_result",
          "data": {
            "text/plain": [
              "tensor([[4., 1.],\n",
              "        [5., 3.],\n",
              "        [2., 1.]])"
            ]
          },
          "metadata": {
            "tags": []
          },
          "execution_count": 51
        }
      ]
    },
    {
      "cell_type": "code",
      "metadata": {
        "colab": {
          "base_uri": "https://localhost:8080/"
        },
        "id": "KWF9I8xkySZw",
        "outputId": "3a5fe61f-7320-446e-f21c-7f7878f8d476"
      },
      "source": [
        "x_gpu = x.to(device='cuda')\r\n",
        "x_gpu"
      ],
      "id": "KWF9I8xkySZw",
      "execution_count": 52,
      "outputs": [
        {
          "output_type": "execute_result",
          "data": {
            "text/plain": [
              "tensor([[4., 1.],\n",
              "        [5., 3.],\n",
              "        [2., 1.]], device='cuda:0')"
            ]
          },
          "metadata": {
            "tags": []
          },
          "execution_count": 52
        }
      ]
    },
    {
      "cell_type": "code",
      "metadata": {
        "colab": {
          "base_uri": "https://localhost:8080/"
        },
        "id": "JQQ__vG9ySf5",
        "outputId": "7dd037fd-a8b6-4fc6-cf9c-f61b34b6c522"
      },
      "source": [
        "x_cpu = x_gpu.to(device='cpu')\r\n",
        "x_cpu"
      ],
      "id": "JQQ__vG9ySf5",
      "execution_count": 53,
      "outputs": [
        {
          "output_type": "execute_result",
          "data": {
            "text/plain": [
              "tensor([[4., 1.],\n",
              "        [5., 3.],\n",
              "        [2., 1.]])"
            ]
          },
          "metadata": {
            "tags": []
          },
          "execution_count": 53
        }
      ]
    },
    {
      "cell_type": "code",
      "metadata": {
        "colab": {
          "base_uri": "https://localhost:8080/"
        },
        "id": "o2W58IYcySmN",
        "outputId": "4298eca1-196c-4a22-b276-b95f25e8786c"
      },
      "source": [
        "x_cpu = x_gpu.cpu()\r\n",
        "x_cpu"
      ],
      "id": "o2W58IYcySmN",
      "execution_count": 54,
      "outputs": [
        {
          "output_type": "execute_result",
          "data": {
            "text/plain": [
              "tensor([[4., 1.],\n",
              "        [5., 3.],\n",
              "        [2., 1.]])"
            ]
          },
          "metadata": {
            "tags": []
          },
          "execution_count": 54
        }
      ]
    },
    {
      "cell_type": "markdown",
      "metadata": {
        "id": "honey-toolbox"
      },
      "source": [
        "# Torch to Numpy"
      ],
      "id": "honey-toolbox"
    },
    {
      "cell_type": "code",
      "metadata": {
        "id": "essential-catch"
      },
      "source": [
        "x = torch.tensor([1,2,3])"
      ],
      "id": "essential-catch",
      "execution_count": 55,
      "outputs": []
    },
    {
      "cell_type": "code",
      "metadata": {
        "id": "statistical-career"
      },
      "source": [
        "x_np = x.numpy()"
      ],
      "id": "statistical-career",
      "execution_count": 56,
      "outputs": []
    },
    {
      "cell_type": "code",
      "metadata": {
        "colab": {
          "base_uri": "https://localhost:8080/"
        },
        "id": "likely-windows",
        "outputId": "8883bb24-c0ac-4095-ad8b-2fc3e32fb63a"
      },
      "source": [
        "x_np"
      ],
      "id": "likely-windows",
      "execution_count": 57,
      "outputs": [
        {
          "output_type": "execute_result",
          "data": {
            "text/plain": [
              "array([1, 2, 3])"
            ]
          },
          "metadata": {
            "tags": []
          },
          "execution_count": 57
        }
      ]
    },
    {
      "cell_type": "code",
      "metadata": {
        "colab": {
          "base_uri": "https://localhost:8080/"
        },
        "id": "x0s1koznyyvh",
        "outputId": "bad2178a-f5e3-4075-9197-49ae8179d212"
      },
      "source": [
        "x[1] = 0\r\n",
        "x, x_np"
      ],
      "id": "x0s1koznyyvh",
      "execution_count": 58,
      "outputs": [
        {
          "output_type": "execute_result",
          "data": {
            "text/plain": [
              "(tensor([1, 0, 3]), array([1, 0, 3]))"
            ]
          },
          "metadata": {
            "tags": []
          },
          "execution_count": 58
        }
      ]
    },
    {
      "cell_type": "code",
      "metadata": {
        "id": "returning-consent"
      },
      "source": [
        "x_np = np.array([1, 2, 3])"
      ],
      "id": "returning-consent",
      "execution_count": 59,
      "outputs": []
    },
    {
      "cell_type": "code",
      "metadata": {
        "id": "subjective-chest"
      },
      "source": [
        "x_cpu = torch.from_numpy(x_np)"
      ],
      "id": "subjective-chest",
      "execution_count": 60,
      "outputs": []
    },
    {
      "cell_type": "code",
      "metadata": {
        "id": "wrapped-literature"
      },
      "source": [
        "x_gpu = torch.tensor([1, 2, 3], device='cuda')"
      ],
      "id": "wrapped-literature",
      "execution_count": 61,
      "outputs": []
    },
    {
      "cell_type": "code",
      "metadata": {
        "colab": {
          "base_uri": "https://localhost:8080/",
          "height": 163
        },
        "id": "LVlHA5TUylJB",
        "outputId": "d83e82d5-5b0d-40c4-e29c-638af83f2b01"
      },
      "source": [
        "x_np = x_gpu.numpy()"
      ],
      "id": "LVlHA5TUylJB",
      "execution_count": 62,
      "outputs": [
        {
          "output_type": "error",
          "ename": "TypeError",
          "evalue": "ignored",
          "traceback": [
            "\u001b[0;31m---------------------------------------------------------------------------\u001b[0m",
            "\u001b[0;31mTypeError\u001b[0m                                 Traceback (most recent call last)",
            "\u001b[0;32m<ipython-input-62-7c80bd041dd2>\u001b[0m in \u001b[0;36m<module>\u001b[0;34m()\u001b[0m\n\u001b[0;32m----> 1\u001b[0;31m \u001b[0mx_np\u001b[0m \u001b[0;34m=\u001b[0m \u001b[0mx_gpu\u001b[0m\u001b[0;34m.\u001b[0m\u001b[0mnumpy\u001b[0m\u001b[0;34m(\u001b[0m\u001b[0;34m)\u001b[0m\u001b[0;34m\u001b[0m\u001b[0;34m\u001b[0m\u001b[0m\n\u001b[0m",
            "\u001b[0;31mTypeError\u001b[0m: can't convert cuda:0 device type tensor to numpy. Use Tensor.cpu() to copy the tensor to host memory first."
          ]
        }
      ]
    },
    {
      "cell_type": "code",
      "metadata": {
        "id": "D7mfdtBhynmn"
      },
      "source": [
        "x_np = x_gpu.cpu().numpy()"
      ],
      "id": "D7mfdtBhynmn",
      "execution_count": 63,
      "outputs": []
    },
    {
      "cell_type": "code",
      "metadata": {
        "colab": {
          "base_uri": "https://localhost:8080/"
        },
        "id": "xQvXIsY1yp3f",
        "outputId": "1d44ef29-cd1d-405f-c57d-72449cb9fd15"
      },
      "source": [
        "x_np"
      ],
      "id": "xQvXIsY1yp3f",
      "execution_count": 64,
      "outputs": [
        {
          "output_type": "execute_result",
          "data": {
            "text/plain": [
              "array([1, 2, 3])"
            ]
          },
          "metadata": {
            "tags": []
          },
          "execution_count": 64
        }
      ]
    },
    {
      "cell_type": "code",
      "metadata": {
        "id": "TafZwAyQyqmv"
      },
      "source": [
        "x_gpu[1] = 0"
      ],
      "id": "TafZwAyQyqmv",
      "execution_count": 65,
      "outputs": []
    },
    {
      "cell_type": "code",
      "metadata": {
        "colab": {
          "base_uri": "https://localhost:8080/"
        },
        "id": "vBtbhK0iys0d",
        "outputId": "0287671c-a881-47f8-971f-02b4b75e72fa"
      },
      "source": [
        "x_gpu, x_np"
      ],
      "id": "vBtbhK0iys0d",
      "execution_count": 66,
      "outputs": [
        {
          "output_type": "execute_result",
          "data": {
            "text/plain": [
              "(tensor([1, 0, 3], device='cuda:0'), array([1, 2, 3]))"
            ]
          },
          "metadata": {
            "tags": []
          },
          "execution_count": 66
        }
      ]
    }
  ]
}